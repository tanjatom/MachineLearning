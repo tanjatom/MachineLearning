{
 "cells": [
  {
   "cell_type": "markdown",
   "id": "f024a5bf",
   "metadata": {},
   "source": [
    "# Deep Neural Network MNIST Classification"
   ]
  },
  {
   "cell_type": "markdown",
   "id": "0ddf2ff3",
   "metadata": {},
   "source": [
    "## Import Libraries"
   ]
  },
  {
   "cell_type": "code",
   "execution_count": 1,
   "id": "9d3ab5c0",
   "metadata": {},
   "outputs": [],
   "source": [
    "# pip install tensorflow_datasets"
   ]
  },
  {
   "cell_type": "code",
   "execution_count": 2,
   "id": "4209adec",
   "metadata": {},
   "outputs": [],
   "source": [
    "import numpy as np\n",
    "import tensorflow as tf\n",
    "import tensorflow_datasets as tfds"
   ]
  },
  {
   "cell_type": "markdown",
   "id": "9803067b",
   "metadata": {},
   "source": [
    "## Load Dataset and Data Preprocessing"
   ]
  },
  {
   "cell_type": "code",
   "execution_count": 3,
   "id": "6f7f97da",
   "metadata": {},
   "outputs": [],
   "source": [
    "# Load MNIST dataset including MNIST info\n",
    "data, info = tfds.load(name='mnist', with_info=True, as_supervised=True)\n",
    "\n",
    "# Extract train and test data\n",
    "mnist_train, mnist_test = data['train'], data['test']\n",
    "\n",
    "# Extract 10% data from train dataset to crease validation dataset\n",
    "# Find the number of validation samples by taking 10% of all train dataset\n",
    "num_val_samples = 0.1 * info.splits['train'].num_examples\n",
    "\n",
    "# Convert num_val_samples into integer\n",
    "num_val_samples = tf.cast(num_val_samples, tf.int64)\n",
    "\n",
    "# Find the number of test samples and convert it into integer\n",
    "num_test_samples = info.splits['test'].num_examples\n",
    "num_test_samples = tf.cast(num_test_samples, tf.int64)\n",
    "\n",
    "# Scale data to make results more numerically stable like having inputs between 0 and 1\n",
    "def scale(image, label):\n",
    "    image = tf.cast(image, tf.float32)\n",
    "    image /= 255.\n",
    "    return image, label\n",
    "\n",
    "# Use map() function to apply custom transformation to train and test datasets\n",
    "scaled_train_data = mnist_train.map(scale)\n",
    "scaled_test_data = mnist_test.map(scale)\n",
    "\n",
    "# Shuffle the train dataset before creating validataion dataset\n",
    "BUFFER_SIZE = 10000\n",
    "shuffled_train_data = scaled_train_data.shuffle(BUFFER_SIZE)\n",
    "\n",
    "# Extract validation dataset\n",
    "validation_data = shuffled_train_data.take(num_val_samples)\n",
    "train_data = shuffled_train_data.skip(num_val_samples)"
   ]
  },
  {
   "cell_type": "code",
   "execution_count": 4,
   "id": "05ea132d",
   "metadata": {},
   "outputs": [],
   "source": [
    "# Use Mini-Batch Gradient Descent to train the model\n",
    "# Set batch size hyperparameter\n",
    "BATCH_SIZE = 100\n",
    "\n",
    "# Use batch() method that combines the consecutive elements of a dataset into batches\n",
    "train_data = train_data.batch(BATCH_SIZE)\n",
    "\n",
    "# Since we will not back-propagating on the validation data but only forward-propagating we don't need to batch\n",
    "# However model expect the validation data in the batch form too but now we use only single batch\n",
    "validation_data = validation_data.batch(BATCH_SIZE)\n",
    "test_data = scaled_test_data.batch(BATCH_SIZE)\n",
    "\n",
    "# The MNIST data is iterable and in 2-tuple format since as_supervised=True\n",
    "# Therefore, validation inputs and targets have to exported and converted\n",
    "validataion_inputs, validataion_targets = next(iter(validation_data)) # next() load data and iter() makes it iterable"
   ]
  },
  {
   "cell_type": "markdown",
   "id": "a208f0cf",
   "metadata": {},
   "source": [
    "## Model"
   ]
  },
  {
   "cell_type": "markdown",
   "id": "f1fd3d30",
   "metadata": {},
   "source": [
    "### Outline the Model"
   ]
  },
  {
   "cell_type": "code",
   "execution_count": 8,
   "id": "b5f9f9ad",
   "metadata": {},
   "outputs": [],
   "source": [
    "# Make a model with 784 inputs, 2 hidden layers with 50 nodes and 10 outputs\n",
    "input_size = 784\n",
    "output_size = 10\n",
    "hidden_layer_size = 100\n",
    "\n",
    "# Define a model; flatten the images into column vector\n",
    "model = tf.keras.Sequential([\n",
    "    tf.keras.layers.Flatten(input_shape=(28,28,1)),\n",
    "    tf.keras.layers.Dense(hidden_layer_size, activation='relu'),\n",
    "    tf.keras.layers.Dense(hidden_layer_size, activation='relu'),\n",
    "    tf.keras.layers.Dense(output_size, activation='softmax')\n",
    "    ])"
   ]
  },
  {
   "cell_type": "markdown",
   "id": "abc58b8d",
   "metadata": {},
   "source": [
    "### Choose the Optimizer and the Loss Function"
   ]
  },
  {
   "cell_type": "code",
   "execution_count": 9,
   "id": "01d97a7f",
   "metadata": {},
   "outputs": [],
   "source": [
    "# sparce_categorical_crossentropy loss function applies one-hot encoding\n",
    "model.compile(optimizer='adam', loss='sparse_categorical_crossentropy', metrics=['accuracy'])"
   ]
  },
  {
   "cell_type": "markdown",
   "id": "95cbf291",
   "metadata": {},
   "source": [
    "### Train the Model"
   ]
  },
  {
   "cell_type": "code",
   "execution_count": 10,
   "id": "23890cca",
   "metadata": {},
   "outputs": [
    {
     "name": "stdout",
     "output_type": "stream",
     "text": [
      "Epoch 1/5\n",
      "540/540 - 3s - loss: 0.3254 - accuracy: 0.9075 - val_loss: 0.1436 - val_accuracy: 0.9600 - 3s/epoch - 6ms/step\n",
      "Epoch 2/5\n",
      "540/540 - 2s - loss: 0.1372 - accuracy: 0.9596 - val_loss: 0.0980 - val_accuracy: 0.9700 - 2s/epoch - 4ms/step\n",
      "Epoch 3/5\n",
      "540/540 - 2s - loss: 0.0978 - accuracy: 0.9703 - val_loss: 0.1466 - val_accuracy: 0.9700 - 2s/epoch - 3ms/step\n",
      "Epoch 4/5\n",
      "540/540 - 2s - loss: 0.0749 - accuracy: 0.9768 - val_loss: 0.0898 - val_accuracy: 0.9700 - 2s/epoch - 3ms/step\n",
      "Epoch 5/5\n",
      "540/540 - 2s - loss: 0.0613 - accuracy: 0.9814 - val_loss: 0.0852 - val_accuracy: 0.9700 - 2s/epoch - 3ms/step\n"
     ]
    },
    {
     "data": {
      "text/plain": [
       "<keras.callbacks.History at 0x1b5927684c0>"
      ]
     },
     "execution_count": 10,
     "metadata": {},
     "output_type": "execute_result"
    }
   ],
   "source": [
    "NUM_EPOCHS = 5\n",
    "model.fit(train_data, epochs=NUM_EPOCHS, validation_data=(validataion_inputs, validataion_targets), verbose=2)"
   ]
  },
  {
   "cell_type": "markdown",
   "id": "113116aa",
   "metadata": {},
   "source": [
    "### Test the Model"
   ]
  },
  {
   "cell_type": "code",
   "execution_count": 11,
   "id": "b042b725",
   "metadata": {},
   "outputs": [
    {
     "name": "stdout",
     "output_type": "stream",
     "text": [
      "100/100 [==============================] - 0s 3ms/step - loss: 0.0827 - accuracy: 0.9747\n"
     ]
    },
    {
     "data": {
      "text/plain": [
       "[0.08265190571546555, 0.9746999740600586]"
      ]
     },
     "execution_count": 11,
     "metadata": {},
     "output_type": "execute_result"
    }
   ],
   "source": [
    "model.evaluate(test_data)"
   ]
  },
  {
   "cell_type": "markdown",
   "id": "a53fec15",
   "metadata": {},
   "source": [
    "Since the accuracy is very close to the validation accuracy the model did not overfit the data."
   ]
  },
  {
   "cell_type": "code",
   "execution_count": null,
   "id": "8a4eb503",
   "metadata": {},
   "outputs": [],
   "source": []
  }
 ],
 "metadata": {
  "kernelspec": {
   "display_name": "Python 3 (ipykernel)",
   "language": "python",
   "name": "python3"
  },
  "language_info": {
   "codemirror_mode": {
    "name": "ipython",
    "version": 3
   },
   "file_extension": ".py",
   "mimetype": "text/x-python",
   "name": "python",
   "nbconvert_exporter": "python",
   "pygments_lexer": "ipython3",
   "version": "3.10.9"
  }
 },
 "nbformat": 4,
 "nbformat_minor": 5
}
