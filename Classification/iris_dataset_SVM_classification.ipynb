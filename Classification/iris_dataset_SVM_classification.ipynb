{
 "cells": [
  {
   "cell_type": "markdown",
   "id": "459aa244",
   "metadata": {},
   "source": [
    "# Species Classification - SVM Model"
   ]
  },
  {
   "cell_type": "markdown",
   "id": "cd6d5fda",
   "metadata": {},
   "source": [
    "## About Dataset"
   ]
  },
  {
   "cell_type": "markdown",
   "id": "a116fd65",
   "metadata": {},
   "source": [
    "The Iris flower dataset is one of the most popular ones for machine learning. More information can be found [here](https://en.wikipedia.org/wiki/Iris_flower_data_set)."
   ]
  },
  {
   "cell_type": "markdown",
   "id": "7be317b6",
   "metadata": {},
   "source": [
    "## Import Libraries"
   ]
  },
  {
   "cell_type": "code",
   "execution_count": 1,
   "id": "ea8e1cae",
   "metadata": {},
   "outputs": [],
   "source": [
    "import numpy as np\n",
    "import matplotlib.pyplot as plt\n",
    "from sklearn import datasets\n",
    "from sklearn.pipeline import Pipeline\n",
    "from sklearn.preprocessing import StandardScaler\n",
    "from sklearn.svm import LinearSVC"
   ]
  },
  {
   "cell_type": "markdown",
   "id": "fde83c97",
   "metadata": {},
   "source": [
    "## Load Iris Dataset"
   ]
  },
  {
   "cell_type": "code",
   "execution_count": 2,
   "id": "3293da73",
   "metadata": {},
   "outputs": [],
   "source": [
    "iris_data = datasets.load_iris()"
   ]
  },
  {
   "cell_type": "code",
   "execution_count": 3,
   "id": "d6ab42a5",
   "metadata": {},
   "outputs": [],
   "source": [
    "# Assign petal length and petal width to variable X\n",
    "X = iris_data[\"data\"][:, (2,3)]"
   ]
  },
  {
   "cell_type": "code",
   "execution_count": 4,
   "id": "c5921f74",
   "metadata": {},
   "outputs": [],
   "source": [
    "# Variable y contains only iris virginica\n",
    "y = (iris_data[\"target\"] == 2).astype(np.float64)"
   ]
  },
  {
   "cell_type": "markdown",
   "id": "224f1528",
   "metadata": {},
   "source": [
    "## Build Pipeline with StandardScaler and LinearSVC"
   ]
  },
  {
   "cell_type": "code",
   "execution_count": 5,
   "id": "f34509aa",
   "metadata": {},
   "outputs": [
    {
     "data": {
      "text/plain": [
       "Pipeline(steps=[('scaler', StandardScaler()),\n",
       "                ('linear_svc', LinearSVC(C=1, loss='hinge', random_state=42))])"
      ]
     },
     "execution_count": 5,
     "metadata": {},
     "output_type": "execute_result"
    }
   ],
   "source": [
    "svm_clf = Pipeline([\n",
    "    (\"scaler\", StandardScaler()),\n",
    "    (\"linear_svc\", LinearSVC(C=1, loss=\"hinge\", random_state=42)),\n",
    "])\n",
    "svm_clf.fit(X, y)"
   ]
  },
  {
   "cell_type": "markdown",
   "id": "8d60b34f",
   "metadata": {},
   "source": [
    "### Use the Model to Make Predictions"
   ]
  },
  {
   "cell_type": "code",
   "execution_count": 6,
   "id": "ff793668",
   "metadata": {},
   "outputs": [
    {
     "data": {
      "text/plain": [
       "array([1.])"
      ]
     },
     "execution_count": 6,
     "metadata": {},
     "output_type": "execute_result"
    }
   ],
   "source": [
    "svm_clf.predict([[3.5, 2.5]])"
   ]
  },
  {
   "cell_type": "markdown",
   "id": "cd0b6076",
   "metadata": {},
   "source": [
    "Unlike the logistic regressin the SVM classifiers do not return probabilities."
   ]
  },
  {
   "cell_type": "markdown",
   "id": "e4392c7a",
   "metadata": {},
   "source": [
    "## Plot Classification Using Large and Small Hyperparameter C"
   ]
  },
  {
   "cell_type": "code",
   "execution_count": 7,
   "id": "81017069",
   "metadata": {},
   "outputs": [
    {
     "name": "stderr",
     "output_type": "stream",
     "text": [
      "C:\\Users\\ttomk\\Anaconda3\\lib\\site-packages\\sklearn\\svm\\_base.py:986: ConvergenceWarning: Liblinear failed to converge, increase the number of iterations.\n",
      "  \"the number of iterations.\", ConvergenceWarning)\n"
     ]
    },
    {
     "data": {
      "text/plain": [
       "Pipeline(steps=[('scaler', StandardScaler()),\n",
       "                ('linear_svc',\n",
       "                 LinearSVC(C=100, loss='hinge', random_state=42))])"
      ]
     },
     "execution_count": 7,
     "metadata": {},
     "output_type": "execute_result"
    }
   ],
   "source": [
    "# Build a models for hyperparameters C=1 and C=100\n",
    "scaler = StandardScaler()\n",
    "svm_clf_1 = LinearSVC(C=1, loss=\"hinge\", random_state=42)\n",
    "svm_clf_2 = LinearSVC(C=100, loss=\"hinge\", random_state=42)\n",
    "\n",
    "scaled_svm_clf_1 = Pipeline([\n",
    "    (\"scaler\", scaler),\n",
    "    (\"linear_svc\", svm_clf_1)\n",
    "])\n",
    "scaled_svm_clf_2 = Pipeline([\n",
    "    (\"scaler\", scaler),\n",
    "    (\"linear_svc\", svm_clf_2)\n",
    "])\n",
    "\n",
    "scaled_svm_clf_1.fit(X, y)\n",
    "scaled_svm_clf_2.fit(X, y)"
   ]
  },
  {
   "cell_type": "code",
   "execution_count": 8,
   "id": "7c72f4b5",
   "metadata": {},
   "outputs": [],
   "source": [
    "# Convert to unscaled parameters\n",
    "b1 = svm_clf_1.decision_function([-scaler.mean_ / scaler.scale_])\n",
    "b2 = svm_clf_2.decision_function([-scaler.mean_ / scaler.scale_])\n",
    "\n",
    "w1 = svm_clf_1.coef_[0] / scaler.scale_\n",
    "w2 = svm_clf_2.coef_[0] / scaler.scale_\n",
    "\n",
    "svm_clf_1.intercept_ = np.array([b1])\n",
    "svm_clf_2.intercept_ = np.array([b2])\n",
    "\n",
    "svm_clf_1.coef_ = np.array([w1])\n",
    "svm_clf_2.coef_ = np.array([w2])"
   ]
  },
  {
   "cell_type": "code",
   "execution_count": 9,
   "id": "7c092c53",
   "metadata": {},
   "outputs": [],
   "source": [
    "# Find support vectors\n",
    "t = y * 2 - 1\n",
    "support_vectors_idx1 = (t * (X.dot(w1) + b1) < 1).ravel()\n",
    "support_vectors_idx2 = (t * (X.dot(w2) + b2) < 1).ravel()\n",
    "\n",
    "svm_clf_1.support_vectors_ = X[support_vectors_idx1]\n",
    "svm_clf_2.support_vectors_ = X[support_vectors_idx2]"
   ]
  },
  {
   "cell_type": "code",
   "execution_count": 10,
   "id": "bc81415d",
   "metadata": {},
   "outputs": [
    {
     "data": {
      "text/plain": [
       "(4.0, 5.9, 0.8, 2.8)"
      ]
     },
     "execution_count": 10,
     "metadata": {},
     "output_type": "execute_result"
    },
    {
     "data": {
      "image/png": "[encoded data removed]",
      "text/plain": [
       "<Figure size 720x216 with 2 Axes>"
      ]
     },
     "metadata": {
      "needs_background": "light"
     },
     "output_type": "display_data"
    }
   ],
   "source": [
    "# Plot classifiers\n",
    "def plot_svc_decision_boundary(svm_clf, xmin, xmax):\n",
    "    w = svm_clf.coef_[0]\n",
    "    b = svm_clf.intercept_[0]\n",
    "    \n",
    "    # At the decision bourdary, w0*x0 + w1*x1 + b = 0 => x1 = -w0/w1*x0 - b/w1\n",
    "    x0 = np.linspace(xmin, xmax, 200)\n",
    "    decision_boundary = -w[0]/w[1] * x0 - b/w[1]\n",
    "    \n",
    "    margin = 1 / w[1]\n",
    "    up = decision_boundary + margin\n",
    "    down = decision_boundary - margin\n",
    "    \n",
    "    svs = svm_clf.support_vectors_\n",
    "    plt.scatter(svs[:, 0], svs[:, 1], s=100, facecolors=\"yellow\")\n",
    "    plt.plot(x0, decision_boundary, \"k-\", linewidth=2)\n",
    "    plt.plot(x0, up, \"k--\", linewidth=2)\n",
    "    plt.plot(x0, down, \"k--\", linewidth=2)\n",
    "\n",
    "fig, axes = plt.subplots(ncols=2, figsize=(10,3), sharey=True)\n",
    "\n",
    "plt.sca(axes[0])\n",
    "plt.plot(X[:, 0][y==1], X[:, 1][y==1], \"r^\", label=\"Iris Virginica\")\n",
    "plt.plot(X[:, 0][y==0], X[:, 1][y==0], \"gs\", label=\"Iris Versicolor\")\n",
    "plot_svc_decision_boundary(svm_clf_1, 4, 5.9)\n",
    "plt.xlabel(\"Petal length\", fontsize=14)\n",
    "plt.ylabel(\"Petal width\", fontsize=14)\n",
    "plt.legend(loc=\"upper left\", fontsize=10)\n",
    "plt.title(\"$C = {}$\".format(svm_clf_1.C), fontsize=16)\n",
    "plt.axis([4, 5.9, 0.8, 2.8])\n",
    "\n",
    "plt.sca(axes[1])\n",
    "plt.plot(X[:, 0][y==1], X[:, 1][y==1], \"r^\")\n",
    "plt.plot(X[:, 0][y==0], X[:, 1][y==0], \"gs\")\n",
    "plot_svc_decision_boundary(svm_clf_2, 4, 5.9)\n",
    "plt.xlabel(\"Petal length\", fontsize=14)\n",
    "plt.title(\"$C = {}$\".format(svm_clf_2.C), fontsize=16)\n",
    "plt.axis([4, 5.9, 0.8, 2.8])"
   ]
  },
  {
   "cell_type": "markdown",
   "id": "0280b7d8",
   "metadata": {},
   "source": [
    "The model with hyperparameter C=1 has a lot of margin violations but it will generalize better."
   ]
  }
 ],
 "metadata": {
  "kernelspec": {
   "display_name": "Python 3",
   "language": "python",
   "name": "python3"
  },
  "language_info": {
   "codemirror_mode": {
    "name": "ipython",
    "version": 3
   },
   "file_extension": ".py",
   "mimetype": "text/x-python",
   "name": "python",
   "nbconvert_exporter": "python",
   "pygments_lexer": "ipython3",
   "version": "3.7.11"
  }
 },
 "nbformat": 4,
 "nbformat_minor": 5
}
