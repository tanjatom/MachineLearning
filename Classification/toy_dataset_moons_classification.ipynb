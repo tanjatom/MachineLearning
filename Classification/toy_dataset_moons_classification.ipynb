{
 "cells": [
  {
   "cell_type": "markdown",
   "id": "bd1d6640",
   "metadata": {},
   "source": [
    "# Nonlinear SVM Classification"
   ]
  },
  {
   "cell_type": "markdown",
   "id": "ef4a3a36",
   "metadata": {},
   "source": [
    "## About Dataset"
   ]
  },
  {
   "cell_type": "markdown",
   "id": "0cbd0c46",
   "metadata": {},
   "source": [
    "`make_moons` toy dataset for binary classification"
   ]
  },
  {
   "cell_type": "markdown",
   "id": "aef7cdd9",
   "metadata": {},
   "source": [
    "## Import Libraries"
   ]
  },
  {
   "cell_type": "code",
   "execution_count": 10,
   "id": "b6284871",
   "metadata": {},
   "outputs": [],
   "source": [
    "import numpy as np\n",
    "import matplotlib.pyplot as plt\n",
    "from matplotlib.colors import ListedColormap\n",
    "from sklearn.datasets import make_moons\n",
    "from sklearn.pipeline import Pipeline\n",
    "from sklearn.svm import LinearSVC, SVC\n",
    "from sklearn.preprocessing import PolynomialFeatures, StandardScaler\n",
    "from sklearn.tree import DecisionTreeClassifier\n",
    "from sklearn.model_selection import train_test_split, GridSearchCV, ShuffleSplit\n",
    "from sklearn.metrics import accuracy_score\n",
    "from sklearn.base import clone\n",
    "from scipy.stats import mode\n",
    "from sklearn.ensemble import RandomForestClassifier, VotingClassifier, BaggingClassifier\n",
    "from sklearn.linear_model import LogisticRegression"
   ]
  },
  {
   "cell_type": "markdown",
   "id": "be7032b6",
   "metadata": {},
   "source": [
    "## Import Dataset"
   ]
  },
  {
   "cell_type": "code",
   "execution_count": 15,
   "id": "22b37778",
   "metadata": {},
   "outputs": [],
   "source": [
    "X, y = make_moons(n_samples=100, noise=0.15, random_state=42)"
   ]
  },
  {
   "cell_type": "code",
   "execution_count": 16,
   "id": "707dbe1e",
   "metadata": {},
   "outputs": [
    {
     "data": {
      "image/png": "[encoded data removed]",
      "text/plain": [
       "<Figure size 640x480 with 1 Axes>"
      ]
     },
     "metadata": {},
     "output_type": "display_data"
    }
   ],
   "source": [
    "# Plot make_moons dataset\n",
    "def plot_dataset(X, y):\n",
    "    plt.plot(X[:, 0][y==0], X[:, 1][y==0], \"ro\")\n",
    "    plt.plot(X[:, 0][y==1], X[:, 1][y==1], \"bs\")\n",
    "    plt.xlabel(r\"$x_1$\", fontsize=14)\n",
    "    plt.ylabel(r\"$x_2$\", fontsize=14)\n",
    "\n",
    "plot_dataset(X, y)\n",
    "plt.show()"
   ]
  },
  {
   "cell_type": "markdown",
   "id": "4561b41b",
   "metadata": {},
   "source": [
    "## Create Pipeline"
   ]
  },
  {
   "cell_type": "code",
   "execution_count": 4,
   "id": "dfa4db5c",
   "metadata": {},
   "outputs": [
    {
     "name": "stderr",
     "output_type": "stream",
     "text": [
      "C:\\Users\\ttomk\\anaconda3\\lib\\site-packages\\sklearn\\svm\\_base.py:1244: ConvergenceWarning: Liblinear failed to converge, increase the number of iterations.\n",
      "  warnings.warn(\n"
     ]
    },
    {
     "data": {
      "text/html": [
       "<style>#sk-container-id-1 {color: black;background-color: white;}#sk-container-id-1 pre{padding: 0;}#sk-container-id-1 div.sk-toggleable {background-color: white;}#sk-container-id-1 label.sk-toggleable__label {cursor: pointer;display: block;width: 100%;margin-bottom: 0;padding: 0.3em;box-sizing: border-box;text-align: center;}#sk-container-id-1 label.sk-toggleable__label-arrow:before {content: \"▸\";float: left;margin-right: 0.25em;color: #696969;}#sk-container-id-1 label.sk-toggleable__label-arrow:hover:before {color: black;}#sk-container-id-1 div.sk-estimator:hover label.sk-toggleable__label-arrow:before {color: black;}#sk-container-id-1 div.sk-toggleable__content {max-height: 0;max-width: 0;overflow: hidden;text-align: left;background-color: #f0f8ff;}#sk-container-id-1 div.sk-toggleable__content pre {margin: 0.2em;color: black;border-radius: 0.25em;background-color: #f0f8ff;}#sk-container-id-1 input.sk-toggleable__control:checked~div.sk-toggleable__content {max-height: 200px;max-width: 100%;overflow: auto;}#sk-container-id-1 input.sk-toggleable__control:checked~label.sk-toggleable__label-arrow:before {content: \"▾\";}#sk-container-id-1 div.sk-estimator input.sk-toggleable__control:checked~label.sk-toggleable__label {background-color: #d4ebff;}#sk-container-id-1 div.sk-label input.sk-toggleable__control:checked~label.sk-toggleable__label {background-color: #d4ebff;}#sk-container-id-1 input.sk-hidden--visually {border: 0;clip: rect(1px 1px 1px 1px);clip: rect(1px, 1px, 1px, 1px);height: 1px;margin: -1px;overflow: hidden;padding: 0;position: absolute;width: 1px;}#sk-container-id-1 div.sk-estimator {font-family: monospace;background-color: #f0f8ff;border: 1px dotted black;border-radius: 0.25em;box-sizing: border-box;margin-bottom: 0.5em;}#sk-container-id-1 div.sk-estimator:hover {background-color: #d4ebff;}#sk-container-id-1 div.sk-parallel-item::after {content: \"\";width: 100%;border-bottom: 1px solid gray;flex-grow: 1;}#sk-container-id-1 div.sk-label:hover label.sk-toggleable__label {background-color: #d4ebff;}#sk-container-id-1 div.sk-serial::before {content: \"\";position: absolute;border-left: 1px solid gray;box-sizing: border-box;top: 0;bottom: 0;left: 50%;z-index: 0;}#sk-container-id-1 div.sk-serial {display: flex;flex-direction: column;align-items: center;background-color: white;padding-right: 0.2em;padding-left: 0.2em;position: relative;}#sk-container-id-1 div.sk-item {position: relative;z-index: 1;}#sk-container-id-1 div.sk-parallel {display: flex;align-items: stretch;justify-content: center;background-color: white;position: relative;}#sk-container-id-1 div.sk-item::before, #sk-container-id-1 div.sk-parallel-item::before {content: \"\";position: absolute;border-left: 1px solid gray;box-sizing: border-box;top: 0;bottom: 0;left: 50%;z-index: -1;}#sk-container-id-1 div.sk-parallel-item {display: flex;flex-direction: column;z-index: 1;position: relative;background-color: white;}#sk-container-id-1 div.sk-parallel-item:first-child::after {align-self: flex-end;width: 50%;}#sk-container-id-1 div.sk-parallel-item:last-child::after {align-self: flex-start;width: 50%;}#sk-container-id-1 div.sk-parallel-item:only-child::after {width: 0;}#sk-container-id-1 div.sk-dashed-wrapped {border: 1px dashed gray;margin: 0 0.4em 0.5em 0.4em;box-sizing: border-box;padding-bottom: 0.4em;background-color: white;}#sk-container-id-1 div.sk-label label {font-family: monospace;font-weight: bold;display: inline-block;line-height: 1.2em;}#sk-container-id-1 div.sk-label-container {text-align: center;}#sk-container-id-1 div.sk-container {/* jupyter's `normalize.less` sets `[hidden] { display: none; }` but bootstrap.min.css set `[hidden] { display: none !important; }` so we also need the `!important` here to be able to override the default hidden behavior on the sphinx rendered scikit-learn.org. See: https://github.com/scikit-learn/scikit-learn/issues/21755 */display: inline-block !important;position: relative;}#sk-container-id-1 div.sk-text-repr-fallback {display: none;}</style><div id=\"sk-container-id-1\" class=\"sk-top-container\"><div class=\"sk-text-repr-fallback\"><pre>Pipeline(steps=[(&#x27;poly_features&#x27;, PolynomialFeatures(degree=3)),\n",
       "                (&#x27;scaler&#x27;, StandardScaler()),\n",
       "                (&#x27;svm_clf&#x27;, LinearSVC(C=10, loss=&#x27;hinge&#x27;))])</pre><b>In a Jupyter environment, please rerun this cell to show the HTML representation or trust the notebook. <br />On GitHub, the HTML representation is unable to render, please try loading this page with nbviewer.org.</b></div><div class=\"sk-container\" hidden><div class=\"sk-item sk-dashed-wrapped\"><div class=\"sk-label-container\"><div class=\"sk-label sk-toggleable\"><input class=\"sk-toggleable__control sk-hidden--visually\" id=\"sk-estimator-id-1\" type=\"checkbox\" ><label for=\"sk-estimator-id-1\" class=\"sk-toggleable__label sk-toggleable__label-arrow\">Pipeline</label><div class=\"sk-toggleable__content\"><pre>Pipeline(steps=[(&#x27;poly_features&#x27;, PolynomialFeatures(degree=3)),\n",
       "                (&#x27;scaler&#x27;, StandardScaler()),\n",
       "                (&#x27;svm_clf&#x27;, LinearSVC(C=10, loss=&#x27;hinge&#x27;))])</pre></div></div></div><div class=\"sk-serial\"><div class=\"sk-item\"><div class=\"sk-estimator sk-toggleable\"><input class=\"sk-toggleable__control sk-hidden--visually\" id=\"sk-estimator-id-2\" type=\"checkbox\" ><label for=\"sk-estimator-id-2\" class=\"sk-toggleable__label sk-toggleable__label-arrow\">PolynomialFeatures</label><div class=\"sk-toggleable__content\"><pre>PolynomialFeatures(degree=3)</pre></div></div></div><div class=\"sk-item\"><div class=\"sk-estimator sk-toggleable\"><input class=\"sk-toggleable__control sk-hidden--visually\" id=\"sk-estimator-id-3\" type=\"checkbox\" ><label for=\"sk-estimator-id-3\" class=\"sk-toggleable__label sk-toggleable__label-arrow\">StandardScaler</label><div class=\"sk-toggleable__content\"><pre>StandardScaler()</pre></div></div></div><div class=\"sk-item\"><div class=\"sk-estimator sk-toggleable\"><input class=\"sk-toggleable__control sk-hidden--visually\" id=\"sk-estimator-id-4\" type=\"checkbox\" ><label for=\"sk-estimator-id-4\" class=\"sk-toggleable__label sk-toggleable__label-arrow\">LinearSVC</label><div class=\"sk-toggleable__content\"><pre>LinearSVC(C=10, loss=&#x27;hinge&#x27;)</pre></div></div></div></div></div></div></div>"
      ],
      "text/plain": [
       "Pipeline(steps=[('poly_features', PolynomialFeatures(degree=3)),\n",
       "                ('scaler', StandardScaler()),\n",
       "                ('svm_clf', LinearSVC(C=10, loss='hinge'))])"
      ]
     },
     "execution_count": 4,
     "metadata": {},
     "output_type": "execute_result"
    }
   ],
   "source": [
    "# Pipeline will contain PolynomialFeatures, StandardScaler and LinearSVC\n",
    "polynomial_svm_clf = Pipeline([\n",
    "    (\"poly_features\", PolynomialFeatures(degree=3)),\n",
    "    (\"scaler\", StandardScaler()),\n",
    "    (\"svm_clf\", LinearSVC(C=10, loss=\"hinge\"))\n",
    "])\n",
    "\n",
    "# Fit data\n",
    "polynomial_svm_clf.fit(X, y)"
   ]
  },
  {
   "cell_type": "code",
   "execution_count": 5,
   "id": "cb2afaa6",
   "metadata": {},
   "outputs": [
    {
     "data": {
      "image/png": "[encoded data removed]",
      "text/plain": [
       "<Figure size 640x480 with 1 Axes>"
      ]
     },
     "metadata": {},
     "output_type": "display_data"
    }
   ],
   "source": [
    "# Compute predictions and plot data with Linear SVM classifier using polynomial features\n",
    "def plot_predictions(clf, axes):\n",
    "    x0s = np.linspace(axes[0], axes[1], 100)\n",
    "    x1s = np.linspace(axes[2], axes[3], 100)\n",
    "    x0, x1 = np.meshgrid(x0s, x1s)\n",
    "    X = np.c_[x0.ravel(), x1.ravel()]\n",
    "    y_pred = clf.predict(X).reshape(x0.shape)\n",
    "    y_decision = clf.decision_function(X).reshape(x0.shape)\n",
    "    plt.contourf(x0, x1, y_pred, cmap=plt.cm.plasma, alpha=0.2)\n",
    "    plt.contourf(x0, x1, y_decision, cmap=plt.cm.brg, alpha=0.1)\n",
    "    \n",
    "plot_predictions(polynomial_svm_clf, [-1.5, 2.5, -1, 1.5])\n",
    "plot_dataset(X, y)\n",
    "plt.show()"
   ]
  },
  {
   "cell_type": "markdown",
   "id": "ebde4ad6",
   "metadata": {},
   "source": [
    "## Kernel Trick"
   ]
  },
  {
   "cell_type": "code",
   "execution_count": 6,
   "id": "1811f205",
   "metadata": {},
   "outputs": [
    {
     "data": {
      "text/html": [
       "<style>#sk-container-id-2 {color: black;background-color: white;}#sk-container-id-2 pre{padding: 0;}#sk-container-id-2 div.sk-toggleable {background-color: white;}#sk-container-id-2 label.sk-toggleable__label {cursor: pointer;display: block;width: 100%;margin-bottom: 0;padding: 0.3em;box-sizing: border-box;text-align: center;}#sk-container-id-2 label.sk-toggleable__label-arrow:before {content: \"▸\";float: left;margin-right: 0.25em;color: #696969;}#sk-container-id-2 label.sk-toggleable__label-arrow:hover:before {color: black;}#sk-container-id-2 div.sk-estimator:hover label.sk-toggleable__label-arrow:before {color: black;}#sk-container-id-2 div.sk-toggleable__content {max-height: 0;max-width: 0;overflow: hidden;text-align: left;background-color: #f0f8ff;}#sk-container-id-2 div.sk-toggleable__content pre {margin: 0.2em;color: black;border-radius: 0.25em;background-color: #f0f8ff;}#sk-container-id-2 input.sk-toggleable__control:checked~div.sk-toggleable__content {max-height: 200px;max-width: 100%;overflow: auto;}#sk-container-id-2 input.sk-toggleable__control:checked~label.sk-toggleable__label-arrow:before {content: \"▾\";}#sk-container-id-2 div.sk-estimator input.sk-toggleable__control:checked~label.sk-toggleable__label {background-color: #d4ebff;}#sk-container-id-2 div.sk-label input.sk-toggleable__control:checked~label.sk-toggleable__label {background-color: #d4ebff;}#sk-container-id-2 input.sk-hidden--visually {border: 0;clip: rect(1px 1px 1px 1px);clip: rect(1px, 1px, 1px, 1px);height: 1px;margin: -1px;overflow: hidden;padding: 0;position: absolute;width: 1px;}#sk-container-id-2 div.sk-estimator {font-family: monospace;background-color: #f0f8ff;border: 1px dotted black;border-radius: 0.25em;box-sizing: border-box;margin-bottom: 0.5em;}#sk-container-id-2 div.sk-estimator:hover {background-color: #d4ebff;}#sk-container-id-2 div.sk-parallel-item::after {content: \"\";width: 100%;border-bottom: 1px solid gray;flex-grow: 1;}#sk-container-id-2 div.sk-label:hover label.sk-toggleable__label {background-color: #d4ebff;}#sk-container-id-2 div.sk-serial::before {content: \"\";position: absolute;border-left: 1px solid gray;box-sizing: border-box;top: 0;bottom: 0;left: 50%;z-index: 0;}#sk-container-id-2 div.sk-serial {display: flex;flex-direction: column;align-items: center;background-color: white;padding-right: 0.2em;padding-left: 0.2em;position: relative;}#sk-container-id-2 div.sk-item {position: relative;z-index: 1;}#sk-container-id-2 div.sk-parallel {display: flex;align-items: stretch;justify-content: center;background-color: white;position: relative;}#sk-container-id-2 div.sk-item::before, #sk-container-id-2 div.sk-parallel-item::before {content: \"\";position: absolute;border-left: 1px solid gray;box-sizing: border-box;top: 0;bottom: 0;left: 50%;z-index: -1;}#sk-container-id-2 div.sk-parallel-item {display: flex;flex-direction: column;z-index: 1;position: relative;background-color: white;}#sk-container-id-2 div.sk-parallel-item:first-child::after {align-self: flex-end;width: 50%;}#sk-container-id-2 div.sk-parallel-item:last-child::after {align-self: flex-start;width: 50%;}#sk-container-id-2 div.sk-parallel-item:only-child::after {width: 0;}#sk-container-id-2 div.sk-dashed-wrapped {border: 1px dashed gray;margin: 0 0.4em 0.5em 0.4em;box-sizing: border-box;padding-bottom: 0.4em;background-color: white;}#sk-container-id-2 div.sk-label label {font-family: monospace;font-weight: bold;display: inline-block;line-height: 1.2em;}#sk-container-id-2 div.sk-label-container {text-align: center;}#sk-container-id-2 div.sk-container {/* jupyter's `normalize.less` sets `[hidden] { display: none; }` but bootstrap.min.css set `[hidden] { display: none !important; }` so we also need the `!important` here to be able to override the default hidden behavior on the sphinx rendered scikit-learn.org. See: https://github.com/scikit-learn/scikit-learn/issues/21755 */display: inline-block !important;position: relative;}#sk-container-id-2 div.sk-text-repr-fallback {display: none;}</style><div id=\"sk-container-id-2\" class=\"sk-top-container\"><div class=\"sk-text-repr-fallback\"><pre>Pipeline(steps=[(&#x27;scaler&#x27;, StandardScaler()),\n",
       "                (&#x27;svm_clf&#x27;, SVC(C=5, coef0=1, kernel=&#x27;poly&#x27;))])</pre><b>In a Jupyter environment, please rerun this cell to show the HTML representation or trust the notebook. <br />On GitHub, the HTML representation is unable to render, please try loading this page with nbviewer.org.</b></div><div class=\"sk-container\" hidden><div class=\"sk-item sk-dashed-wrapped\"><div class=\"sk-label-container\"><div class=\"sk-label sk-toggleable\"><input class=\"sk-toggleable__control sk-hidden--visually\" id=\"sk-estimator-id-5\" type=\"checkbox\" ><label for=\"sk-estimator-id-5\" class=\"sk-toggleable__label sk-toggleable__label-arrow\">Pipeline</label><div class=\"sk-toggleable__content\"><pre>Pipeline(steps=[(&#x27;scaler&#x27;, StandardScaler()),\n",
       "                (&#x27;svm_clf&#x27;, SVC(C=5, coef0=1, kernel=&#x27;poly&#x27;))])</pre></div></div></div><div class=\"sk-serial\"><div class=\"sk-item\"><div class=\"sk-estimator sk-toggleable\"><input class=\"sk-toggleable__control sk-hidden--visually\" id=\"sk-estimator-id-6\" type=\"checkbox\" ><label for=\"sk-estimator-id-6\" class=\"sk-toggleable__label sk-toggleable__label-arrow\">StandardScaler</label><div class=\"sk-toggleable__content\"><pre>StandardScaler()</pre></div></div></div><div class=\"sk-item\"><div class=\"sk-estimator sk-toggleable\"><input class=\"sk-toggleable__control sk-hidden--visually\" id=\"sk-estimator-id-7\" type=\"checkbox\" ><label for=\"sk-estimator-id-7\" class=\"sk-toggleable__label sk-toggleable__label-arrow\">SVC</label><div class=\"sk-toggleable__content\"><pre>SVC(C=5, coef0=1, kernel=&#x27;poly&#x27;)</pre></div></div></div></div></div></div></div>"
      ],
      "text/plain": [
       "Pipeline(steps=[('scaler', StandardScaler()),\n",
       "                ('svm_clf', SVC(C=5, coef0=1, kernel='poly'))])"
      ]
     },
     "execution_count": 6,
     "metadata": {},
     "output_type": "execute_result"
    }
   ],
   "source": [
    "# Create pipeline using StandardScaler and SVC with 3rd degree polynomial kernel and hyperparameter coef0 = 1\n",
    "poly_kernel_clf = Pipeline([\n",
    "    (\"scaler\", StandardScaler()),\n",
    "    (\"svm_clf\", SVC(kernel=\"poly\", degree=3, coef0=1, C=5))\n",
    "])\n",
    "poly_kernel_clf.fit(X, y)"
   ]
  },
  {
   "cell_type": "code",
   "execution_count": 7,
   "id": "044d7b1c",
   "metadata": {},
   "outputs": [
    {
     "data": {
      "text/html": [
       "<style>#sk-container-id-3 {color: black;background-color: white;}#sk-container-id-3 pre{padding: 0;}#sk-container-id-3 div.sk-toggleable {background-color: white;}#sk-container-id-3 label.sk-toggleable__label {cursor: pointer;display: block;width: 100%;margin-bottom: 0;padding: 0.3em;box-sizing: border-box;text-align: center;}#sk-container-id-3 label.sk-toggleable__label-arrow:before {content: \"▸\";float: left;margin-right: 0.25em;color: #696969;}#sk-container-id-3 label.sk-toggleable__label-arrow:hover:before {color: black;}#sk-container-id-3 div.sk-estimator:hover label.sk-toggleable__label-arrow:before {color: black;}#sk-container-id-3 div.sk-toggleable__content {max-height: 0;max-width: 0;overflow: hidden;text-align: left;background-color: #f0f8ff;}#sk-container-id-3 div.sk-toggleable__content pre {margin: 0.2em;color: black;border-radius: 0.25em;background-color: #f0f8ff;}#sk-container-id-3 input.sk-toggleable__control:checked~div.sk-toggleable__content {max-height: 200px;max-width: 100%;overflow: auto;}#sk-container-id-3 input.sk-toggleable__control:checked~label.sk-toggleable__label-arrow:before {content: \"▾\";}#sk-container-id-3 div.sk-estimator input.sk-toggleable__control:checked~label.sk-toggleable__label {background-color: #d4ebff;}#sk-container-id-3 div.sk-label input.sk-toggleable__control:checked~label.sk-toggleable__label {background-color: #d4ebff;}#sk-container-id-3 input.sk-hidden--visually {border: 0;clip: rect(1px 1px 1px 1px);clip: rect(1px, 1px, 1px, 1px);height: 1px;margin: -1px;overflow: hidden;padding: 0;position: absolute;width: 1px;}#sk-container-id-3 div.sk-estimator {font-family: monospace;background-color: #f0f8ff;border: 1px dotted black;border-radius: 0.25em;box-sizing: border-box;margin-bottom: 0.5em;}#sk-container-id-3 div.sk-estimator:hover {background-color: #d4ebff;}#sk-container-id-3 div.sk-parallel-item::after {content: \"\";width: 100%;border-bottom: 1px solid gray;flex-grow: 1;}#sk-container-id-3 div.sk-label:hover label.sk-toggleable__label {background-color: #d4ebff;}#sk-container-id-3 div.sk-serial::before {content: \"\";position: absolute;border-left: 1px solid gray;box-sizing: border-box;top: 0;bottom: 0;left: 50%;z-index: 0;}#sk-container-id-3 div.sk-serial {display: flex;flex-direction: column;align-items: center;background-color: white;padding-right: 0.2em;padding-left: 0.2em;position: relative;}#sk-container-id-3 div.sk-item {position: relative;z-index: 1;}#sk-container-id-3 div.sk-parallel {display: flex;align-items: stretch;justify-content: center;background-color: white;position: relative;}#sk-container-id-3 div.sk-item::before, #sk-container-id-3 div.sk-parallel-item::before {content: \"\";position: absolute;border-left: 1px solid gray;box-sizing: border-box;top: 0;bottom: 0;left: 50%;z-index: -1;}#sk-container-id-3 div.sk-parallel-item {display: flex;flex-direction: column;z-index: 1;position: relative;background-color: white;}#sk-container-id-3 div.sk-parallel-item:first-child::after {align-self: flex-end;width: 50%;}#sk-container-id-3 div.sk-parallel-item:last-child::after {align-self: flex-start;width: 50%;}#sk-container-id-3 div.sk-parallel-item:only-child::after {width: 0;}#sk-container-id-3 div.sk-dashed-wrapped {border: 1px dashed gray;margin: 0 0.4em 0.5em 0.4em;box-sizing: border-box;padding-bottom: 0.4em;background-color: white;}#sk-container-id-3 div.sk-label label {font-family: monospace;font-weight: bold;display: inline-block;line-height: 1.2em;}#sk-container-id-3 div.sk-label-container {text-align: center;}#sk-container-id-3 div.sk-container {/* jupyter's `normalize.less` sets `[hidden] { display: none; }` but bootstrap.min.css set `[hidden] { display: none !important; }` so we also need the `!important` here to be able to override the default hidden behavior on the sphinx rendered scikit-learn.org. See: https://github.com/scikit-learn/scikit-learn/issues/21755 */display: inline-block !important;position: relative;}#sk-container-id-3 div.sk-text-repr-fallback {display: none;}</style><div id=\"sk-container-id-3\" class=\"sk-top-container\"><div class=\"sk-text-repr-fallback\"><pre>Pipeline(steps=[(&#x27;scaler&#x27;, StandardScaler()),\n",
       "                (&#x27;svm_clf&#x27;, SVC(C=5, coef0=100, degree=10, kernel=&#x27;poly&#x27;))])</pre><b>In a Jupyter environment, please rerun this cell to show the HTML representation or trust the notebook. <br />On GitHub, the HTML representation is unable to render, please try loading this page with nbviewer.org.</b></div><div class=\"sk-container\" hidden><div class=\"sk-item sk-dashed-wrapped\"><div class=\"sk-label-container\"><div class=\"sk-label sk-toggleable\"><input class=\"sk-toggleable__control sk-hidden--visually\" id=\"sk-estimator-id-8\" type=\"checkbox\" ><label for=\"sk-estimator-id-8\" class=\"sk-toggleable__label sk-toggleable__label-arrow\">Pipeline</label><div class=\"sk-toggleable__content\"><pre>Pipeline(steps=[(&#x27;scaler&#x27;, StandardScaler()),\n",
       "                (&#x27;svm_clf&#x27;, SVC(C=5, coef0=100, degree=10, kernel=&#x27;poly&#x27;))])</pre></div></div></div><div class=\"sk-serial\"><div class=\"sk-item\"><div class=\"sk-estimator sk-toggleable\"><input class=\"sk-toggleable__control sk-hidden--visually\" id=\"sk-estimator-id-9\" type=\"checkbox\" ><label for=\"sk-estimator-id-9\" class=\"sk-toggleable__label sk-toggleable__label-arrow\">StandardScaler</label><div class=\"sk-toggleable__content\"><pre>StandardScaler()</pre></div></div></div><div class=\"sk-item\"><div class=\"sk-estimator sk-toggleable\"><input class=\"sk-toggleable__control sk-hidden--visually\" id=\"sk-estimator-id-10\" type=\"checkbox\" ><label for=\"sk-estimator-id-10\" class=\"sk-toggleable__label sk-toggleable__label-arrow\">SVC</label><div class=\"sk-toggleable__content\"><pre>SVC(C=5, coef0=100, degree=10, kernel=&#x27;poly&#x27;)</pre></div></div></div></div></div></div></div>"
      ],
      "text/plain": [
       "Pipeline(steps=[('scaler', StandardScaler()),\n",
       "                ('svm_clf', SVC(C=5, coef0=100, degree=10, kernel='poly'))])"
      ]
     },
     "execution_count": 7,
     "metadata": {},
     "output_type": "execute_result"
    }
   ],
   "source": [
    "# Create pipeline using StandardScaler and SVC with 10th degree polynomial kernel and hyperparameter coef0 = 100\n",
    "poly100_kernel_clf = Pipeline([\n",
    "    (\"scaler\", StandardScaler()),\n",
    "    (\"svm_clf\", SVC(kernel=\"poly\", degree=10, coef0=100, C=5))\n",
    "])\n",
    "poly100_kernel_clf.fit(X, y)"
   ]
  },
  {
   "cell_type": "code",
   "execution_count": 8,
   "id": "95886fff",
   "metadata": {},
   "outputs": [
    {
     "data": {
      "image/png": "[encoded data removed]",
      "text/plain": [
       "<Figure size 1000x400 with 2 Axes>"
      ]
     },
     "metadata": {},
     "output_type": "display_data"
    }
   ],
   "source": [
    "# Plot SVM classifiers with a polynomial kernel\n",
    "fig, axes = plt.subplots(ncols=2, figsize=(10, 4), sharey=True)\n",
    "\n",
    "plt.sca(axes[0])\n",
    "plot_dataset(X, y)\n",
    "plot_predictions(poly_kernel_clf, [-1.5, 2.5, -1, 1.5])\n",
    "plt.title(r\"$d=3, r=1, C=5$\", fontsize=16)\n",
    "\n",
    "plt.sca(axes[1])\n",
    "plot_dataset(X, y)\n",
    "plot_predictions(poly100_kernel_clf, [-1.5, 2.5, -1, 1.5])\n",
    "plt.title(r\"$d=10, r=100, C=5$\", fontsize=16)\n",
    "plt.ylabel(\"\")\n",
    "plt.show()"
   ]
  },
  {
   "cell_type": "markdown",
   "id": "7fb233bf",
   "metadata": {},
   "source": [
    "## Gaussian RBF Kernel"
   ]
  },
  {
   "cell_type": "code",
   "execution_count": 9,
   "id": "35ba6a8a",
   "metadata": {},
   "outputs": [
    {
     "data": {
      "image/png": "[encoded data removed]",
      "text/plain": [
       "<Figure size 1000x400 with 4 Axes>"
      ]
     },
     "metadata": {},
     "output_type": "display_data"
    }
   ],
   "source": [
    "# Similar to polynomial features method Gaussian RBF kernel can be used\n",
    "gamma1, gamma2 = 0.1, 5\n",
    "C1, C2 = 0.001, 1000\n",
    "hyperparams = (gamma1, C1), (gamma1, C2), (gamma2, C1), (gamma2, C2)\n",
    "\n",
    "svm_clfs = []\n",
    "for gamma, C in hyperparams:\n",
    "    rbf_kernel_clf = Pipeline([\n",
    "        (\"scaler\", StandardScaler()),\n",
    "        (\"svm_clf\", SVC(kernel=\"rbf\", gamma=gamma, C=C))\n",
    "    ])\n",
    "    rbf_kernel_clf.fit(X, y)\n",
    "    svm_clfs.append(rbf_kernel_clf)\n",
    "    \n",
    "# Plot SVM classifiers\n",
    "fig, axes = plt.subplots(ncols=2, nrows=2, figsize=(10, 4), sharex=True, sharey=True)\n",
    "for i, svm_clf in enumerate(svm_clfs):\n",
    "    plt.sca(axes[i // 2, i % 2])\n",
    "    plot_predictions(svm_clf, [-1.5, 2.45, -1, 1.5])\n",
    "    plot_dataset(X, y)\n",
    "    gamma, C = hyperparams[i]\n",
    "    plt.title(r\"$\\gamma = {}, C = {}$\".format(gamma, C), fontsize=16)\n",
    "    if i in (0, 1):\n",
    "        plt.xlabel(\"\")\n",
    "    if i in (1, 3):\n",
    "        plt.ylabel(\"\")\n",
    "        \n",
    "plt.show()        "
   ]
  },
  {
   "cell_type": "markdown",
   "id": "3cbc1011",
   "metadata": {},
   "source": [
    "The models are trained with different values of hyperparameters $\\gamma$ and C. Increasing $\\gamma$ the bell shaped curve becomes narrower (plots on the left) and as a result instances have smaller range of influence and the decision boundary is more irregular. $\\gamma$ is like a regularization hyperparameter similar to C hyperparameter."
   ]
  },
  {
   "cell_type": "markdown",
   "id": "055c5d4e",
   "metadata": {},
   "source": [
    "## Decision Tree Classifier"
   ]
  },
  {
   "cell_type": "code",
   "execution_count": 20,
   "id": "ad3e28f4",
   "metadata": {},
   "outputs": [
    {
     "data": {
      "text/html": [
       "<style>#sk-container-id-3 {color: black;background-color: white;}#sk-container-id-3 pre{padding: 0;}#sk-container-id-3 div.sk-toggleable {background-color: white;}#sk-container-id-3 label.sk-toggleable__label {cursor: pointer;display: block;width: 100%;margin-bottom: 0;padding: 0.3em;box-sizing: border-box;text-align: center;}#sk-container-id-3 label.sk-toggleable__label-arrow:before {content: \"▸\";float: left;margin-right: 0.25em;color: #696969;}#sk-container-id-3 label.sk-toggleable__label-arrow:hover:before {color: black;}#sk-container-id-3 div.sk-estimator:hover label.sk-toggleable__label-arrow:before {color: black;}#sk-container-id-3 div.sk-toggleable__content {max-height: 0;max-width: 0;overflow: hidden;text-align: left;background-color: #f0f8ff;}#sk-container-id-3 div.sk-toggleable__content pre {margin: 0.2em;color: black;border-radius: 0.25em;background-color: #f0f8ff;}#sk-container-id-3 input.sk-toggleable__control:checked~div.sk-toggleable__content {max-height: 200px;max-width: 100%;overflow: auto;}#sk-container-id-3 input.sk-toggleable__control:checked~label.sk-toggleable__label-arrow:before {content: \"▾\";}#sk-container-id-3 div.sk-estimator input.sk-toggleable__control:checked~label.sk-toggleable__label {background-color: #d4ebff;}#sk-container-id-3 div.sk-label input.sk-toggleable__control:checked~label.sk-toggleable__label {background-color: #d4ebff;}#sk-container-id-3 input.sk-hidden--visually {border: 0;clip: rect(1px 1px 1px 1px);clip: rect(1px, 1px, 1px, 1px);height: 1px;margin: -1px;overflow: hidden;padding: 0;position: absolute;width: 1px;}#sk-container-id-3 div.sk-estimator {font-family: monospace;background-color: #f0f8ff;border: 1px dotted black;border-radius: 0.25em;box-sizing: border-box;margin-bottom: 0.5em;}#sk-container-id-3 div.sk-estimator:hover {background-color: #d4ebff;}#sk-container-id-3 div.sk-parallel-item::after {content: \"\";width: 100%;border-bottom: 1px solid gray;flex-grow: 1;}#sk-container-id-3 div.sk-label:hover label.sk-toggleable__label {background-color: #d4ebff;}#sk-container-id-3 div.sk-serial::before {content: \"\";position: absolute;border-left: 1px solid gray;box-sizing: border-box;top: 0;bottom: 0;left: 50%;z-index: 0;}#sk-container-id-3 div.sk-serial {display: flex;flex-direction: column;align-items: center;background-color: white;padding-right: 0.2em;padding-left: 0.2em;position: relative;}#sk-container-id-3 div.sk-item {position: relative;z-index: 1;}#sk-container-id-3 div.sk-parallel {display: flex;align-items: stretch;justify-content: center;background-color: white;position: relative;}#sk-container-id-3 div.sk-item::before, #sk-container-id-3 div.sk-parallel-item::before {content: \"\";position: absolute;border-left: 1px solid gray;box-sizing: border-box;top: 0;bottom: 0;left: 50%;z-index: -1;}#sk-container-id-3 div.sk-parallel-item {display: flex;flex-direction: column;z-index: 1;position: relative;background-color: white;}#sk-container-id-3 div.sk-parallel-item:first-child::after {align-self: flex-end;width: 50%;}#sk-container-id-3 div.sk-parallel-item:last-child::after {align-self: flex-start;width: 50%;}#sk-container-id-3 div.sk-parallel-item:only-child::after {width: 0;}#sk-container-id-3 div.sk-dashed-wrapped {border: 1px dashed gray;margin: 0 0.4em 0.5em 0.4em;box-sizing: border-box;padding-bottom: 0.4em;background-color: white;}#sk-container-id-3 div.sk-label label {font-family: monospace;font-weight: bold;display: inline-block;line-height: 1.2em;}#sk-container-id-3 div.sk-label-container {text-align: center;}#sk-container-id-3 div.sk-container {/* jupyter's `normalize.less` sets `[hidden] { display: none; }` but bootstrap.min.css set `[hidden] { display: none !important; }` so we also need the `!important` here to be able to override the default hidden behavior on the sphinx rendered scikit-learn.org. See: https://github.com/scikit-learn/scikit-learn/issues/21755 */display: inline-block !important;position: relative;}#sk-container-id-3 div.sk-text-repr-fallback {display: none;}</style><div id=\"sk-container-id-3\" class=\"sk-top-container\"><div class=\"sk-text-repr-fallback\"><pre>DecisionTreeClassifier(random_state=42)</pre><b>In a Jupyter environment, please rerun this cell to show the HTML representation or trust the notebook. <br />On GitHub, the HTML representation is unable to render, please try loading this page with nbviewer.org.</b></div><div class=\"sk-container\" hidden><div class=\"sk-item\"><div class=\"sk-estimator sk-toggleable\"><input class=\"sk-toggleable__control sk-hidden--visually\" id=\"sk-estimator-id-9\" type=\"checkbox\" checked><label for=\"sk-estimator-id-9\" class=\"sk-toggleable__label sk-toggleable__label-arrow\">DecisionTreeClassifier</label><div class=\"sk-toggleable__content\"><pre>DecisionTreeClassifier(random_state=42)</pre></div></div></div></div></div>"
      ],
      "text/plain": [
       "DecisionTreeClassifier(random_state=42)"
      ]
     },
     "execution_count": 20,
     "metadata": {},
     "output_type": "execute_result"
    }
   ],
   "source": [
    "# Train Decision Tree without regularization\n",
    "X, y = make_moons(n_samples=100, noise=0.15, random_state=53)\n",
    "tree_clf1 = DecisionTreeClassifier(random_state=42)\n",
    "tree_clf1.fit(X, y)"
   ]
  },
  {
   "cell_type": "code",
   "execution_count": 21,
   "id": "9d488cae",
   "metadata": {},
   "outputs": [
    {
     "data": {
      "text/html": [
       "<style>#sk-container-id-4 {color: black;background-color: white;}#sk-container-id-4 pre{padding: 0;}#sk-container-id-4 div.sk-toggleable {background-color: white;}#sk-container-id-4 label.sk-toggleable__label {cursor: pointer;display: block;width: 100%;margin-bottom: 0;padding: 0.3em;box-sizing: border-box;text-align: center;}#sk-container-id-4 label.sk-toggleable__label-arrow:before {content: \"▸\";float: left;margin-right: 0.25em;color: #696969;}#sk-container-id-4 label.sk-toggleable__label-arrow:hover:before {color: black;}#sk-container-id-4 div.sk-estimator:hover label.sk-toggleable__label-arrow:before {color: black;}#sk-container-id-4 div.sk-toggleable__content {max-height: 0;max-width: 0;overflow: hidden;text-align: left;background-color: #f0f8ff;}#sk-container-id-4 div.sk-toggleable__content pre {margin: 0.2em;color: black;border-radius: 0.25em;background-color: #f0f8ff;}#sk-container-id-4 input.sk-toggleable__control:checked~div.sk-toggleable__content {max-height: 200px;max-width: 100%;overflow: auto;}#sk-container-id-4 input.sk-toggleable__control:checked~label.sk-toggleable__label-arrow:before {content: \"▾\";}#sk-container-id-4 div.sk-estimator input.sk-toggleable__control:checked~label.sk-toggleable__label {background-color: #d4ebff;}#sk-container-id-4 div.sk-label input.sk-toggleable__control:checked~label.sk-toggleable__label {background-color: #d4ebff;}#sk-container-id-4 input.sk-hidden--visually {border: 0;clip: rect(1px 1px 1px 1px);clip: rect(1px, 1px, 1px, 1px);height: 1px;margin: -1px;overflow: hidden;padding: 0;position: absolute;width: 1px;}#sk-container-id-4 div.sk-estimator {font-family: monospace;background-color: #f0f8ff;border: 1px dotted black;border-radius: 0.25em;box-sizing: border-box;margin-bottom: 0.5em;}#sk-container-id-4 div.sk-estimator:hover {background-color: #d4ebff;}#sk-container-id-4 div.sk-parallel-item::after {content: \"\";width: 100%;border-bottom: 1px solid gray;flex-grow: 1;}#sk-container-id-4 div.sk-label:hover label.sk-toggleable__label {background-color: #d4ebff;}#sk-container-id-4 div.sk-serial::before {content: \"\";position: absolute;border-left: 1px solid gray;box-sizing: border-box;top: 0;bottom: 0;left: 50%;z-index: 0;}#sk-container-id-4 div.sk-serial {display: flex;flex-direction: column;align-items: center;background-color: white;padding-right: 0.2em;padding-left: 0.2em;position: relative;}#sk-container-id-4 div.sk-item {position: relative;z-index: 1;}#sk-container-id-4 div.sk-parallel {display: flex;align-items: stretch;justify-content: center;background-color: white;position: relative;}#sk-container-id-4 div.sk-item::before, #sk-container-id-4 div.sk-parallel-item::before {content: \"\";position: absolute;border-left: 1px solid gray;box-sizing: border-box;top: 0;bottom: 0;left: 50%;z-index: -1;}#sk-container-id-4 div.sk-parallel-item {display: flex;flex-direction: column;z-index: 1;position: relative;background-color: white;}#sk-container-id-4 div.sk-parallel-item:first-child::after {align-self: flex-end;width: 50%;}#sk-container-id-4 div.sk-parallel-item:last-child::after {align-self: flex-start;width: 50%;}#sk-container-id-4 div.sk-parallel-item:only-child::after {width: 0;}#sk-container-id-4 div.sk-dashed-wrapped {border: 1px dashed gray;margin: 0 0.4em 0.5em 0.4em;box-sizing: border-box;padding-bottom: 0.4em;background-color: white;}#sk-container-id-4 div.sk-label label {font-family: monospace;font-weight: bold;display: inline-block;line-height: 1.2em;}#sk-container-id-4 div.sk-label-container {text-align: center;}#sk-container-id-4 div.sk-container {/* jupyter's `normalize.less` sets `[hidden] { display: none; }` but bootstrap.min.css set `[hidden] { display: none !important; }` so we also need the `!important` here to be able to override the default hidden behavior on the sphinx rendered scikit-learn.org. See: https://github.com/scikit-learn/scikit-learn/issues/21755 */display: inline-block !important;position: relative;}#sk-container-id-4 div.sk-text-repr-fallback {display: none;}</style><div id=\"sk-container-id-4\" class=\"sk-top-container\"><div class=\"sk-text-repr-fallback\"><pre>DecisionTreeClassifier(min_samples_leaf=4, random_state=42)</pre><b>In a Jupyter environment, please rerun this cell to show the HTML representation or trust the notebook. <br />On GitHub, the HTML representation is unable to render, please try loading this page with nbviewer.org.</b></div><div class=\"sk-container\" hidden><div class=\"sk-item\"><div class=\"sk-estimator sk-toggleable\"><input class=\"sk-toggleable__control sk-hidden--visually\" id=\"sk-estimator-id-10\" type=\"checkbox\" checked><label for=\"sk-estimator-id-10\" class=\"sk-toggleable__label sk-toggleable__label-arrow\">DecisionTreeClassifier</label><div class=\"sk-toggleable__content\"><pre>DecisionTreeClassifier(min_samples_leaf=4, random_state=42)</pre></div></div></div></div></div>"
      ],
      "text/plain": [
       "DecisionTreeClassifier(min_samples_leaf=4, random_state=42)"
      ]
     },
     "execution_count": 21,
     "metadata": {},
     "output_type": "execute_result"
    }
   ],
   "source": [
    "# Train Decision Tree with regularization using min_samples_leaf\n",
    "tree_clf2 = DecisionTreeClassifier(min_samples_leaf=4, random_state=42)\n",
    "tree_clf2.fit(X, y)"
   ]
  },
  {
   "cell_type": "code",
   "execution_count": 24,
   "id": "df91ad4c",
   "metadata": {},
   "outputs": [
    {
     "data": {
      "image/png": "[encoded data removed]",
      "text/plain": [
       "<Figure size 1000x400 with 2 Axes>"
      ]
     },
     "metadata": {},
     "output_type": "display_data"
    }
   ],
   "source": [
    "# Plot decision trees with and without restriction\n",
    "def plot_decision_boundary(clf, X, y, legend=False, plot_train=True):\n",
    "    X1s = np.linspace(-1.5, 2.5, 100)\n",
    "    X2s = np.linspace(-1, 1.5, 100)\n",
    "    X1, X2 = np.meshgrid(X1s, X2s)\n",
    "    X_new = np.c_[X1.ravel(), X2.ravel()]\n",
    "    y_pred = clf.predict(X_new).reshape(X1.shape)\n",
    "    custom_cmap = ListedColormap([\"#8576FF\", \"#7BC9FF\", \"#A3FFD6\"])\n",
    "    plt.contourf(X1, X2, y_pred, alpha=0.3, cmap=custom_cmap)\n",
    "    plt.plot(X[:, 0][y==0], X[:, 1][y==0], \"s\", \"purple\")\n",
    "    plt.plot(X[:, 0][y==1], X[:, 1][y==1], \"^\", \"green\")\n",
    "    plt.xlabel(r\"$x_1$\", fontsize=14)\n",
    "    plt.ylabel(r\"$x_2$\", fontsize=14, rotation=0)\n",
    "\n",
    "fig, axes = plt.subplots(ncols=2, figsize=(10, 4), sharey=True)\n",
    "plt.sca(axes[0])\n",
    "plot_decision_boundary(tree_clf1, X, y)\n",
    "plt.title(\"No Restrictions\", fontsize=14)\n",
    "plt.sca(axes[1])\n",
    "plot_decision_boundary(tree_clf2, X, y)\n",
    "plt.title(\"min_samples_leaf = {}\".format(tree_clf2.min_samples_leaf), fontsize=14)\n",
    "plt.ylabel(\"\")\n",
    "plt.show()"
   ]
  },
  {
   "cell_type": "markdown",
   "id": "5029e94f",
   "metadata": {},
   "source": [
    "The model on the left is overfitting and the model on the right will probably generalize better."
   ]
  },
  {
   "cell_type": "markdown",
   "id": "b627ba13",
   "metadata": {},
   "source": [
    "### Fine Tune Decision Tree"
   ]
  },
  {
   "cell_type": "code",
   "execution_count": 13,
   "id": "d1c774a9",
   "metadata": {},
   "outputs": [],
   "source": [
    "# Select larger dataset\n",
    "X, y = make_moons(n_samples=10000, noise=0.4, random_state=42)\n",
    "\n",
    "# Split the data into train and test\n",
    "X_train, X_test, y_train, y_test = train_test_split(X, y, test_size=0.2, random_state=42)"
   ]
  },
  {
   "cell_type": "code",
   "execution_count": 14,
   "id": "7c2a5238",
   "metadata": {
    "scrolled": true
   },
   "outputs": [
    {
     "name": "stdout",
     "output_type": "stream",
     "text": [
      "Fitting 3 folds for each of 294 candidates, totalling 882 fits\n",
      "[CV] END ..............max_leaf_nodes=2, min_samples_split=2; total time=   0.0s\n",
      "[CV] END ..............max_leaf_nodes=2, min_samples_split=2; total time=   0.0s\n",
      "[CV] END ..............max_leaf_nodes=2, min_samples_split=2; total time=   0.0s\n",
      "[CV] END ..............max_leaf_nodes=2, min_samples_split=3; total time=   0.0s\n",
      "[CV] END ..............max_leaf_nodes=2, min_samples_split=3; total time=   0.0s\n",
      "[CV] END ..............max_leaf_nodes=2, min_samples_split=3; total time=   0.0s\n",
      "[CV] END ..............max_leaf_nodes=2, min_samples_split=4; total time=   0.0s\n",
      "[CV] END ..............max_leaf_nodes=2, min_samples_split=4; total time=   0.0s\n",
      "[CV] END ..............max_leaf_nodes=2, min_samples_split=4; total time=   0.0s\n",
      "[CV] END ..............max_leaf_nodes=3, min_samples_split=2; total time=   0.0s\n",
      "[CV] END ..............max_leaf_nodes=3, min_samples_split=2; total time=   0.0s\n",
      "[CV] END ..............max_leaf_nodes=3, min_samples_split=2; total time=   0.0s\n",
      "[CV] END ..............max_leaf_nodes=3, min_samples_split=3; total time=   0.0s\n",
      "[CV] END ..............max_leaf_nodes=3, min_samples_split=3; total time=   0.0s\n",
      "[CV] END ..............max_leaf_nodes=3, min_samples_split=3; total time=   0.0s\n",
      "[CV] END ..............max_leaf_nodes=3, min_samples_split=4; total time=   0.0s\n",
      "[CV] END ..............max_leaf_nodes=3, min_samples_split=4; total time=   0.0s\n",
      "[CV] END ..............max_leaf_nodes=3, min_samples_split=4; total time=   0.0s\n",
      "[CV] END ..............max_leaf_nodes=4, min_samples_split=2; total time=   0.0s\n",
      "[CV] END ..............max_leaf_nodes=4, min_samples_split=2; total time=   0.0s\n",
      "[CV] END ..............max_leaf_nodes=4, min_samples_split=2; total time=   0.0s\n",
      "[CV] END ..............max_leaf_nodes=4, min_samples_split=3; total time=   0.0s\n",
      "[CV] END ..............max_leaf_nodes=4, min_samples_split=3; total time=   0.0s\n",
      "[CV] END ..............max_leaf_nodes=4, min_samples_split=3; total time=   0.0s\n",
      "[CV] END ..............max_leaf_nodes=4, min_samples_split=4; total time=   0.0s\n",
      "[CV] END ..............max_leaf_nodes=4, min_samples_split=4; total time=   0.0s\n",
      "[CV] END ..............max_leaf_nodes=4, min_samples_split=4; total time=   0.0s\n",
      "[CV] END ..............max_leaf_nodes=5, min_samples_split=2; total time=   0.0s\n",
      "[CV] END ..............max_leaf_nodes=5, min_samples_split=2; total time=   0.0s\n",
      "[CV] END ..............max_leaf_nodes=5, min_samples_split=2; total time=   0.0s\n",
      "[CV] END ..............max_leaf_nodes=5, min_samples_split=3; total time=   0.0s\n",
      "[CV] END ..............max_leaf_nodes=5, min_samples_split=3; total time=   0.0s\n",
      "[CV] END ..............max_leaf_nodes=5, min_samples_split=3; total time=   0.0s\n",
      "[CV] END ..............max_leaf_nodes=5, min_samples_split=4; total time=   0.0s\n",
      "[CV] END ..............max_leaf_nodes=5, min_samples_split=4; total time=   0.0s\n",
      "[CV] END ..............max_leaf_nodes=5, min_samples_split=4; total time=   0.0s\n",
      "[CV] END ..............max_leaf_nodes=6, min_samples_split=2; total time=   0.0s\n",
      "[CV] END ..............max_leaf_nodes=6, min_samples_split=2; total time=   0.0s\n",
      "[CV] END ..............max_leaf_nodes=6, min_samples_split=2; total time=   0.0s\n",
      "[CV] END ..............max_leaf_nodes=6, min_samples_split=3; total time=   0.0s\n",
      "[CV] END ..............max_leaf_nodes=6, min_samples_split=3; total time=   0.0s\n",
      "[CV] END ..............max_leaf_nodes=6, min_samples_split=3; total time=   0.0s\n",
      "[CV] END ..............max_leaf_nodes=6, min_samples_split=4; total time=   0.0s\n",
      "[CV] END ..............max_leaf_nodes=6, min_samples_split=4; total time=   0.0s\n",
      "[CV] END ..............max_leaf_nodes=6, min_samples_split=4; total time=   0.0s\n",
      "[CV] END ..............max_leaf_nodes=7, min_samples_split=2; total time=   0.0s\n",
      "[CV] END ..............max_leaf_nodes=7, min_samples_split=2; total time=   0.0s\n",
      "[CV] END ..............max_leaf_nodes=7, min_samples_split=2; total time=   0.0s\n",
      "[CV] END ..............max_leaf_nodes=7, min_samples_split=3; total time=   0.0s\n",
      "[CV] END ..............max_leaf_nodes=7, min_samples_split=3; total time=   0.0s\n",
      "[CV] END ..............max_leaf_nodes=7, min_samples_split=3; total time=   0.0s\n",
      "[CV] END ..............max_leaf_nodes=7, min_samples_split=4; total time=   0.0s\n",
      "[CV] END ..............max_leaf_nodes=7, min_samples_split=4; total time=   0.0s\n",
      "[CV] END ..............max_leaf_nodes=7, min_samples_split=4; total time=   0.0s\n",
      "[CV] END ..............max_leaf_nodes=8, min_samples_split=2; total time=   0.0s\n",
      "[CV] END ..............max_leaf_nodes=8, min_samples_split=2; total time=   0.0s\n",
      "[CV] END ..............max_leaf_nodes=8, min_samples_split=2; total time=   0.0s\n",
      "[CV] END ..............max_leaf_nodes=8, min_samples_split=3; total time=   0.0s\n",
      "[CV] END ..............max_leaf_nodes=8, min_samples_split=3; total time=   0.0s\n",
      "[CV] END ..............max_leaf_nodes=8, min_samples_split=3; total time=   0.0s\n",
      "[CV] END ..............max_leaf_nodes=8, min_samples_split=4; total time=   0.0s\n",
      "[CV] END ..............max_leaf_nodes=8, min_samples_split=4; total time=   0.0s\n",
      "[CV] END ..............max_leaf_nodes=8, min_samples_split=4; total time=   0.0s\n",
      "[CV] END ..............max_leaf_nodes=9, min_samples_split=2; total time=   0.0s\n",
      "[CV] END ..............max_leaf_nodes=9, min_samples_split=2; total time=   0.0s\n",
      "[CV] END ..............max_leaf_nodes=9, min_samples_split=2; total time=   0.0s\n",
      "[CV] END ..............max_leaf_nodes=9, min_samples_split=3; total time=   0.0s\n",
      "[CV] END ..............max_leaf_nodes=9, min_samples_split=3; total time=   0.0s\n",
      "[CV] END ..............max_leaf_nodes=9, min_samples_split=3; total time=   0.0s\n",
      "[CV] END ..............max_leaf_nodes=9, min_samples_split=4; total time=   0.0s\n",
      "[CV] END ..............max_leaf_nodes=9, min_samples_split=4; total time=   0.0s\n",
      "[CV] END ..............max_leaf_nodes=9, min_samples_split=4; total time=   0.0s\n",
      "[CV] END .............max_leaf_nodes=10, min_samples_split=2; total time=   0.0s\n",
      "[CV] END .............max_leaf_nodes=10, min_samples_split=2; total time=   0.0s\n",
      "[CV] END .............max_leaf_nodes=10, min_samples_split=2; total time=   0.0s\n",
      "[CV] END .............max_leaf_nodes=10, min_samples_split=3; total time=   0.0s\n",
      "[CV] END .............max_leaf_nodes=10, min_samples_split=3; total time=   0.0s\n",
      "[CV] END .............max_leaf_nodes=10, min_samples_split=3; total time=   0.0s\n",
      "[CV] END .............max_leaf_nodes=10, min_samples_split=4; total time=   0.0s\n",
      "[CV] END .............max_leaf_nodes=10, min_samples_split=4; total time=   0.0s\n",
      "[CV] END .............max_leaf_nodes=10, min_samples_split=4; total time=   0.0s\n",
      "[CV] END .............max_leaf_nodes=11, min_samples_split=2; total time=   0.0s\n",
      "[CV] END .............max_leaf_nodes=11, min_samples_split=2; total time=   0.0s\n",
      "[CV] END .............max_leaf_nodes=11, min_samples_split=2; total time=   0.0s\n",
      "[CV] END .............max_leaf_nodes=11, min_samples_split=3; total time=   0.0s\n",
      "[CV] END .............max_leaf_nodes=11, min_samples_split=3; total time=   0.0s\n",
      "[CV] END .............max_leaf_nodes=11, min_samples_split=3; total time=   0.0s\n",
      "[CV] END .............max_leaf_nodes=11, min_samples_split=4; total time=   0.0s\n",
      "[CV] END .............max_leaf_nodes=11, min_samples_split=4; total time=   0.0s\n",
      "[CV] END .............max_leaf_nodes=11, min_samples_split=4; total time=   0.0s\n",
      "[CV] END .............max_leaf_nodes=12, min_samples_split=2; total time=   0.0s\n",
      "[CV] END .............max_leaf_nodes=12, min_samples_split=2; total time=   0.0s\n",
      "[CV] END .............max_leaf_nodes=12, min_samples_split=2; total time=   0.0s\n",
      "[CV] END .............max_leaf_nodes=12, min_samples_split=3; total time=   0.0s\n",
      "[CV] END .............max_leaf_nodes=12, min_samples_split=3; total time=   0.0s\n",
      "[CV] END .............max_leaf_nodes=12, min_samples_split=3; total time=   0.0s\n",
      "[CV] END .............max_leaf_nodes=12, min_samples_split=4; total time=   0.0s\n",
      "[CV] END .............max_leaf_nodes=12, min_samples_split=4; total time=   0.0s\n",
      "[CV] END .............max_leaf_nodes=12, min_samples_split=4; total time=   0.0s\n",
      "[CV] END .............max_leaf_nodes=13, min_samples_split=2; total time=   0.0s\n",
      "[CV] END .............max_leaf_nodes=13, min_samples_split=2; total time=   0.0s\n",
      "[CV] END .............max_leaf_nodes=13, min_samples_split=2; total time=   0.0s\n",
      "[CV] END .............max_leaf_nodes=13, min_samples_split=3; total time=   0.0s\n",
      "[CV] END .............max_leaf_nodes=13, min_samples_split=3; total time=   0.0s\n",
      "[CV] END .............max_leaf_nodes=13, min_samples_split=3; total time=   0.0s\n",
      "[CV] END .............max_leaf_nodes=13, min_samples_split=4; total time=   0.0s\n",
      "[CV] END .............max_leaf_nodes=13, min_samples_split=4; total time=   0.0s\n",
      "[CV] END .............max_leaf_nodes=13, min_samples_split=4; total time=   0.0s\n",
      "[CV] END .............max_leaf_nodes=14, min_samples_split=2; total time=   0.0s\n",
      "[CV] END .............max_leaf_nodes=14, min_samples_split=2; total time=   0.0s\n",
      "[CV] END .............max_leaf_nodes=14, min_samples_split=2; total time=   0.0s\n",
      "[CV] END .............max_leaf_nodes=14, min_samples_split=3; total time=   0.0s\n",
      "[CV] END .............max_leaf_nodes=14, min_samples_split=3; total time=   0.0s\n",
      "[CV] END .............max_leaf_nodes=14, min_samples_split=3; total time=   0.0s\n",
      "[CV] END .............max_leaf_nodes=14, min_samples_split=4; total time=   0.0s\n",
      "[CV] END .............max_leaf_nodes=14, min_samples_split=4; total time=   0.0s\n",
      "[CV] END .............max_leaf_nodes=14, min_samples_split=4; total time=   0.0s\n",
      "[CV] END .............max_leaf_nodes=15, min_samples_split=2; total time=   0.0s\n",
      "[CV] END .............max_leaf_nodes=15, min_samples_split=2; total time=   0.0s\n",
      "[CV] END .............max_leaf_nodes=15, min_samples_split=2; total time=   0.0s\n",
      "[CV] END .............max_leaf_nodes=15, min_samples_split=3; total time=   0.0s\n",
      "[CV] END .............max_leaf_nodes=15, min_samples_split=3; total time=   0.0s\n",
      "[CV] END .............max_leaf_nodes=15, min_samples_split=3; total time=   0.0s\n",
      "[CV] END .............max_leaf_nodes=15, min_samples_split=4; total time=   0.0s\n",
      "[CV] END .............max_leaf_nodes=15, min_samples_split=4; total time=   0.0s\n",
      "[CV] END .............max_leaf_nodes=15, min_samples_split=4; total time=   0.0s\n",
      "[CV] END .............max_leaf_nodes=16, min_samples_split=2; total time=   0.0s\n",
      "[CV] END .............max_leaf_nodes=16, min_samples_split=2; total time=   0.0s\n",
      "[CV] END .............max_leaf_nodes=16, min_samples_split=2; total time=   0.0s\n",
      "[CV] END .............max_leaf_nodes=16, min_samples_split=3; total time=   0.0s\n",
      "[CV] END .............max_leaf_nodes=16, min_samples_split=3; total time=   0.0s\n",
      "[CV] END .............max_leaf_nodes=16, min_samples_split=3; total time=   0.0s\n",
      "[CV] END .............max_leaf_nodes=16, min_samples_split=4; total time=   0.0s\n",
      "[CV] END .............max_leaf_nodes=16, min_samples_split=4; total time=   0.0s\n",
      "[CV] END .............max_leaf_nodes=16, min_samples_split=4; total time=   0.0s\n",
      "[CV] END .............max_leaf_nodes=17, min_samples_split=2; total time=   0.0s\n",
      "[CV] END .............max_leaf_nodes=17, min_samples_split=2; total time=   0.0s\n",
      "[CV] END .............max_leaf_nodes=17, min_samples_split=2; total time=   0.0s\n",
      "[CV] END .............max_leaf_nodes=17, min_samples_split=3; total time=   0.0s\n",
      "[CV] END .............max_leaf_nodes=17, min_samples_split=3; total time=   0.0s\n",
      "[CV] END .............max_leaf_nodes=17, min_samples_split=3; total time=   0.0s\n",
      "[CV] END .............max_leaf_nodes=17, min_samples_split=4; total time=   0.0s\n"
     ]
    },
    {
     "name": "stdout",
     "output_type": "stream",
     "text": [
      "[CV] END .............max_leaf_nodes=17, min_samples_split=4; total time=   0.0s\n",
      "[CV] END .............max_leaf_nodes=17, min_samples_split=4; total time=   0.0s\n",
      "[CV] END .............max_leaf_nodes=18, min_samples_split=2; total time=   0.0s\n",
      "[CV] END .............max_leaf_nodes=18, min_samples_split=2; total time=   0.0s\n",
      "[CV] END .............max_leaf_nodes=18, min_samples_split=2; total time=   0.0s\n",
      "[CV] END .............max_leaf_nodes=18, min_samples_split=3; total time=   0.0s\n",
      "[CV] END .............max_leaf_nodes=18, min_samples_split=3; total time=   0.0s\n",
      "[CV] END .............max_leaf_nodes=18, min_samples_split=3; total time=   0.0s\n",
      "[CV] END .............max_leaf_nodes=18, min_samples_split=4; total time=   0.0s\n",
      "[CV] END .............max_leaf_nodes=18, min_samples_split=4; total time=   0.0s\n",
      "[CV] END .............max_leaf_nodes=18, min_samples_split=4; total time=   0.0s\n",
      "[CV] END .............max_leaf_nodes=19, min_samples_split=2; total time=   0.0s\n",
      "[CV] END .............max_leaf_nodes=19, min_samples_split=2; total time=   0.0s\n",
      "[CV] END .............max_leaf_nodes=19, min_samples_split=2; total time=   0.0s\n",
      "[CV] END .............max_leaf_nodes=19, min_samples_split=3; total time=   0.0s\n",
      "[CV] END .............max_leaf_nodes=19, min_samples_split=3; total time=   0.0s\n",
      "[CV] END .............max_leaf_nodes=19, min_samples_split=3; total time=   0.0s\n",
      "[CV] END .............max_leaf_nodes=19, min_samples_split=4; total time=   0.0s\n",
      "[CV] END .............max_leaf_nodes=19, min_samples_split=4; total time=   0.0s\n",
      "[CV] END .............max_leaf_nodes=19, min_samples_split=4; total time=   0.0s\n",
      "[CV] END .............max_leaf_nodes=20, min_samples_split=2; total time=   0.0s\n",
      "[CV] END .............max_leaf_nodes=20, min_samples_split=2; total time=   0.0s\n",
      "[CV] END .............max_leaf_nodes=20, min_samples_split=2; total time=   0.0s\n",
      "[CV] END .............max_leaf_nodes=20, min_samples_split=3; total time=   0.0s\n",
      "[CV] END .............max_leaf_nodes=20, min_samples_split=3; total time=   0.0s\n",
      "[CV] END .............max_leaf_nodes=20, min_samples_split=3; total time=   0.0s\n",
      "[CV] END .............max_leaf_nodes=20, min_samples_split=4; total time=   0.0s\n",
      "[CV] END .............max_leaf_nodes=20, min_samples_split=4; total time=   0.0s\n",
      "[CV] END .............max_leaf_nodes=20, min_samples_split=4; total time=   0.0s\n",
      "[CV] END .............max_leaf_nodes=21, min_samples_split=2; total time=   0.0s\n",
      "[CV] END .............max_leaf_nodes=21, min_samples_split=2; total time=   0.0s\n",
      "[CV] END .............max_leaf_nodes=21, min_samples_split=2; total time=   0.0s\n",
      "[CV] END .............max_leaf_nodes=21, min_samples_split=3; total time=   0.0s\n",
      "[CV] END .............max_leaf_nodes=21, min_samples_split=3; total time=   0.0s\n",
      "[CV] END .............max_leaf_nodes=21, min_samples_split=3; total time=   0.0s\n",
      "[CV] END .............max_leaf_nodes=21, min_samples_split=4; total time=   0.0s\n",
      "[CV] END .............max_leaf_nodes=21, min_samples_split=4; total time=   0.0s\n",
      "[CV] END .............max_leaf_nodes=21, min_samples_split=4; total time=   0.0s\n",
      "[CV] END .............max_leaf_nodes=22, min_samples_split=2; total time=   0.0s\n",
      "[CV] END .............max_leaf_nodes=22, min_samples_split=2; total time=   0.0s\n",
      "[CV] END .............max_leaf_nodes=22, min_samples_split=2; total time=   0.0s\n",
      "[CV] END .............max_leaf_nodes=22, min_samples_split=3; total time=   0.0s\n",
      "[CV] END .............max_leaf_nodes=22, min_samples_split=3; total time=   0.0s\n",
      "[CV] END .............max_leaf_nodes=22, min_samples_split=3; total time=   0.0s\n",
      "[CV] END .............max_leaf_nodes=22, min_samples_split=4; total time=   0.0s\n",
      "[CV] END .............max_leaf_nodes=22, min_samples_split=4; total time=   0.0s\n",
      "[CV] END .............max_leaf_nodes=22, min_samples_split=4; total time=   0.0s\n",
      "[CV] END .............max_leaf_nodes=23, min_samples_split=2; total time=   0.0s\n",
      "[CV] END .............max_leaf_nodes=23, min_samples_split=2; total time=   0.0s\n",
      "[CV] END .............max_leaf_nodes=23, min_samples_split=2; total time=   0.0s\n",
      "[CV] END .............max_leaf_nodes=23, min_samples_split=3; total time=   0.0s\n",
      "[CV] END .............max_leaf_nodes=23, min_samples_split=3; total time=   0.0s\n",
      "[CV] END .............max_leaf_nodes=23, min_samples_split=3; total time=   0.0s\n",
      "[CV] END .............max_leaf_nodes=23, min_samples_split=4; total time=   0.0s\n",
      "[CV] END .............max_leaf_nodes=23, min_samples_split=4; total time=   0.0s\n",
      "[CV] END .............max_leaf_nodes=23, min_samples_split=4; total time=   0.0s\n",
      "[CV] END .............max_leaf_nodes=24, min_samples_split=2; total time=   0.0s\n",
      "[CV] END .............max_leaf_nodes=24, min_samples_split=2; total time=   0.0s\n",
      "[CV] END .............max_leaf_nodes=24, min_samples_split=2; total time=   0.0s\n",
      "[CV] END .............max_leaf_nodes=24, min_samples_split=3; total time=   0.0s\n",
      "[CV] END .............max_leaf_nodes=24, min_samples_split=3; total time=   0.0s\n",
      "[CV] END .............max_leaf_nodes=24, min_samples_split=3; total time=   0.0s\n",
      "[CV] END .............max_leaf_nodes=24, min_samples_split=4; total time=   0.0s\n",
      "[CV] END .............max_leaf_nodes=24, min_samples_split=4; total time=   0.0s\n",
      "[CV] END .............max_leaf_nodes=24, min_samples_split=4; total time=   0.0s\n",
      "[CV] END .............max_leaf_nodes=25, min_samples_split=2; total time=   0.0s\n",
      "[CV] END .............max_leaf_nodes=25, min_samples_split=2; total time=   0.0s\n",
      "[CV] END .............max_leaf_nodes=25, min_samples_split=2; total time=   0.0s\n",
      "[CV] END .............max_leaf_nodes=25, min_samples_split=3; total time=   0.0s\n",
      "[CV] END .............max_leaf_nodes=25, min_samples_split=3; total time=   0.0s\n",
      "[CV] END .............max_leaf_nodes=25, min_samples_split=3; total time=   0.0s\n",
      "[CV] END .............max_leaf_nodes=25, min_samples_split=4; total time=   0.0s\n",
      "[CV] END .............max_leaf_nodes=25, min_samples_split=4; total time=   0.0s\n",
      "[CV] END .............max_leaf_nodes=25, min_samples_split=4; total time=   0.0s\n",
      "[CV] END .............max_leaf_nodes=26, min_samples_split=2; total time=   0.0s\n",
      "[CV] END .............max_leaf_nodes=26, min_samples_split=2; total time=   0.0s\n",
      "[CV] END .............max_leaf_nodes=26, min_samples_split=2; total time=   0.0s\n",
      "[CV] END .............max_leaf_nodes=26, min_samples_split=3; total time=   0.0s\n",
      "[CV] END .............max_leaf_nodes=26, min_samples_split=3; total time=   0.0s\n",
      "[CV] END .............max_leaf_nodes=26, min_samples_split=3; total time=   0.0s\n",
      "[CV] END .............max_leaf_nodes=26, min_samples_split=4; total time=   0.0s\n",
      "[CV] END .............max_leaf_nodes=26, min_samples_split=4; total time=   0.0s\n",
      "[CV] END .............max_leaf_nodes=26, min_samples_split=4; total time=   0.0s\n",
      "[CV] END .............max_leaf_nodes=27, min_samples_split=2; total time=   0.0s\n",
      "[CV] END .............max_leaf_nodes=27, min_samples_split=2; total time=   0.0s\n",
      "[CV] END .............max_leaf_nodes=27, min_samples_split=2; total time=   0.0s\n",
      "[CV] END .............max_leaf_nodes=27, min_samples_split=3; total time=   0.0s\n",
      "[CV] END .............max_leaf_nodes=27, min_samples_split=3; total time=   0.0s\n",
      "[CV] END .............max_leaf_nodes=27, min_samples_split=3; total time=   0.0s\n",
      "[CV] END .............max_leaf_nodes=27, min_samples_split=4; total time=   0.0s\n",
      "[CV] END .............max_leaf_nodes=27, min_samples_split=4; total time=   0.0s\n",
      "[CV] END .............max_leaf_nodes=27, min_samples_split=4; total time=   0.0s\n",
      "[CV] END .............max_leaf_nodes=28, min_samples_split=2; total time=   0.0s\n",
      "[CV] END .............max_leaf_nodes=28, min_samples_split=2; total time=   0.0s\n",
      "[CV] END .............max_leaf_nodes=28, min_samples_split=2; total time=   0.0s\n",
      "[CV] END .............max_leaf_nodes=28, min_samples_split=3; total time=   0.0s\n",
      "[CV] END .............max_leaf_nodes=28, min_samples_split=3; total time=   0.0s\n",
      "[CV] END .............max_leaf_nodes=28, min_samples_split=3; total time=   0.0s\n",
      "[CV] END .............max_leaf_nodes=28, min_samples_split=4; total time=   0.0s\n",
      "[CV] END .............max_leaf_nodes=28, min_samples_split=4; total time=   0.0s\n",
      "[CV] END .............max_leaf_nodes=28, min_samples_split=4; total time=   0.0s\n",
      "[CV] END .............max_leaf_nodes=29, min_samples_split=2; total time=   0.0s\n",
      "[CV] END .............max_leaf_nodes=29, min_samples_split=2; total time=   0.0s\n",
      "[CV] END .............max_leaf_nodes=29, min_samples_split=2; total time=   0.0s\n",
      "[CV] END .............max_leaf_nodes=29, min_samples_split=3; total time=   0.0s\n",
      "[CV] END .............max_leaf_nodes=29, min_samples_split=3; total time=   0.0s\n",
      "[CV] END .............max_leaf_nodes=29, min_samples_split=3; total time=   0.0s\n",
      "[CV] END .............max_leaf_nodes=29, min_samples_split=4; total time=   0.0s\n",
      "[CV] END .............max_leaf_nodes=29, min_samples_split=4; total time=   0.0s\n",
      "[CV] END .............max_leaf_nodes=29, min_samples_split=4; total time=   0.0s\n",
      "[CV] END .............max_leaf_nodes=30, min_samples_split=2; total time=   0.0s\n",
      "[CV] END .............max_leaf_nodes=30, min_samples_split=2; total time=   0.0s\n",
      "[CV] END .............max_leaf_nodes=30, min_samples_split=2; total time=   0.0s\n",
      "[CV] END .............max_leaf_nodes=30, min_samples_split=3; total time=   0.0s\n",
      "[CV] END .............max_leaf_nodes=30, min_samples_split=3; total time=   0.0s\n",
      "[CV] END .............max_leaf_nodes=30, min_samples_split=3; total time=   0.0s\n",
      "[CV] END .............max_leaf_nodes=30, min_samples_split=4; total time=   0.0s\n",
      "[CV] END .............max_leaf_nodes=30, min_samples_split=4; total time=   0.0s\n",
      "[CV] END .............max_leaf_nodes=30, min_samples_split=4; total time=   0.0s\n",
      "[CV] END .............max_leaf_nodes=31, min_samples_split=2; total time=   0.0s\n"
     ]
    },
    {
     "name": "stdout",
     "output_type": "stream",
     "text": [
      "[CV] END .............max_leaf_nodes=31, min_samples_split=2; total time=   0.0s\n",
      "[CV] END .............max_leaf_nodes=31, min_samples_split=2; total time=   0.0s\n",
      "[CV] END .............max_leaf_nodes=31, min_samples_split=3; total time=   0.0s\n",
      "[CV] END .............max_leaf_nodes=31, min_samples_split=3; total time=   0.0s\n",
      "[CV] END .............max_leaf_nodes=31, min_samples_split=3; total time=   0.0s\n",
      "[CV] END .............max_leaf_nodes=31, min_samples_split=4; total time=   0.0s\n",
      "[CV] END .............max_leaf_nodes=31, min_samples_split=4; total time=   0.0s\n",
      "[CV] END .............max_leaf_nodes=31, min_samples_split=4; total time=   0.0s\n",
      "[CV] END .............max_leaf_nodes=32, min_samples_split=2; total time=   0.0s\n",
      "[CV] END .............max_leaf_nodes=32, min_samples_split=2; total time=   0.0s\n",
      "[CV] END .............max_leaf_nodes=32, min_samples_split=2; total time=   0.0s\n",
      "[CV] END .............max_leaf_nodes=32, min_samples_split=3; total time=   0.0s\n",
      "[CV] END .............max_leaf_nodes=32, min_samples_split=3; total time=   0.0s\n",
      "[CV] END .............max_leaf_nodes=32, min_samples_split=3; total time=   0.0s\n",
      "[CV] END .............max_leaf_nodes=32, min_samples_split=4; total time=   0.0s\n",
      "[CV] END .............max_leaf_nodes=32, min_samples_split=4; total time=   0.0s\n",
      "[CV] END .............max_leaf_nodes=32, min_samples_split=4; total time=   0.0s\n",
      "[CV] END .............max_leaf_nodes=33, min_samples_split=2; total time=   0.0s\n",
      "[CV] END .............max_leaf_nodes=33, min_samples_split=2; total time=   0.0s\n",
      "[CV] END .............max_leaf_nodes=33, min_samples_split=2; total time=   0.0s\n",
      "[CV] END .............max_leaf_nodes=33, min_samples_split=3; total time=   0.0s\n",
      "[CV] END .............max_leaf_nodes=33, min_samples_split=3; total time=   0.0s\n",
      "[CV] END .............max_leaf_nodes=33, min_samples_split=3; total time=   0.0s\n",
      "[CV] END .............max_leaf_nodes=33, min_samples_split=4; total time=   0.0s\n",
      "[CV] END .............max_leaf_nodes=33, min_samples_split=4; total time=   0.0s\n",
      "[CV] END .............max_leaf_nodes=33, min_samples_split=4; total time=   0.0s\n",
      "[CV] END .............max_leaf_nodes=34, min_samples_split=2; total time=   0.0s\n",
      "[CV] END .............max_leaf_nodes=34, min_samples_split=2; total time=   0.0s\n",
      "[CV] END .............max_leaf_nodes=34, min_samples_split=2; total time=   0.0s\n",
      "[CV] END .............max_leaf_nodes=34, min_samples_split=3; total time=   0.0s\n",
      "[CV] END .............max_leaf_nodes=34, min_samples_split=3; total time=   0.0s\n",
      "[CV] END .............max_leaf_nodes=34, min_samples_split=3; total time=   0.0s\n",
      "[CV] END .............max_leaf_nodes=34, min_samples_split=4; total time=   0.0s\n",
      "[CV] END .............max_leaf_nodes=34, min_samples_split=4; total time=   0.0s\n",
      "[CV] END .............max_leaf_nodes=34, min_samples_split=4; total time=   0.0s\n",
      "[CV] END .............max_leaf_nodes=35, min_samples_split=2; total time=   0.0s\n",
      "[CV] END .............max_leaf_nodes=35, min_samples_split=2; total time=   0.0s\n",
      "[CV] END .............max_leaf_nodes=35, min_samples_split=2; total time=   0.0s\n",
      "[CV] END .............max_leaf_nodes=35, min_samples_split=3; total time=   0.0s\n",
      "[CV] END .............max_leaf_nodes=35, min_samples_split=3; total time=   0.0s\n",
      "[CV] END .............max_leaf_nodes=35, min_samples_split=3; total time=   0.0s\n",
      "[CV] END .............max_leaf_nodes=35, min_samples_split=4; total time=   0.0s\n",
      "[CV] END .............max_leaf_nodes=35, min_samples_split=4; total time=   0.0s\n",
      "[CV] END .............max_leaf_nodes=35, min_samples_split=4; total time=   0.0s\n",
      "[CV] END .............max_leaf_nodes=36, min_samples_split=2; total time=   0.0s\n",
      "[CV] END .............max_leaf_nodes=36, min_samples_split=2; total time=   0.0s\n",
      "[CV] END .............max_leaf_nodes=36, min_samples_split=2; total time=   0.0s\n",
      "[CV] END .............max_leaf_nodes=36, min_samples_split=3; total time=   0.0s\n",
      "[CV] END .............max_leaf_nodes=36, min_samples_split=3; total time=   0.0s\n",
      "[CV] END .............max_leaf_nodes=36, min_samples_split=3; total time=   0.0s\n",
      "[CV] END .............max_leaf_nodes=36, min_samples_split=4; total time=   0.0s\n",
      "[CV] END .............max_leaf_nodes=36, min_samples_split=4; total time=   0.0s\n",
      "[CV] END .............max_leaf_nodes=36, min_samples_split=4; total time=   0.0s\n",
      "[CV] END .............max_leaf_nodes=37, min_samples_split=2; total time=   0.0s\n",
      "[CV] END .............max_leaf_nodes=37, min_samples_split=2; total time=   0.0s\n",
      "[CV] END .............max_leaf_nodes=37, min_samples_split=2; total time=   0.0s\n",
      "[CV] END .............max_leaf_nodes=37, min_samples_split=3; total time=   0.0s\n",
      "[CV] END .............max_leaf_nodes=37, min_samples_split=3; total time=   0.0s\n",
      "[CV] END .............max_leaf_nodes=37, min_samples_split=3; total time=   0.0s\n",
      "[CV] END .............max_leaf_nodes=37, min_samples_split=4; total time=   0.0s\n",
      "[CV] END .............max_leaf_nodes=37, min_samples_split=4; total time=   0.0s\n",
      "[CV] END .............max_leaf_nodes=37, min_samples_split=4; total time=   0.0s\n",
      "[CV] END .............max_leaf_nodes=38, min_samples_split=2; total time=   0.0s\n",
      "[CV] END .............max_leaf_nodes=38, min_samples_split=2; total time=   0.0s\n",
      "[CV] END .............max_leaf_nodes=38, min_samples_split=2; total time=   0.0s\n",
      "[CV] END .............max_leaf_nodes=38, min_samples_split=3; total time=   0.0s\n",
      "[CV] END .............max_leaf_nodes=38, min_samples_split=3; total time=   0.0s\n",
      "[CV] END .............max_leaf_nodes=38, min_samples_split=3; total time=   0.0s\n",
      "[CV] END .............max_leaf_nodes=38, min_samples_split=4; total time=   0.0s\n",
      "[CV] END .............max_leaf_nodes=38, min_samples_split=4; total time=   0.0s\n",
      "[CV] END .............max_leaf_nodes=38, min_samples_split=4; total time=   0.0s\n",
      "[CV] END .............max_leaf_nodes=39, min_samples_split=2; total time=   0.0s\n",
      "[CV] END .............max_leaf_nodes=39, min_samples_split=2; total time=   0.0s\n",
      "[CV] END .............max_leaf_nodes=39, min_samples_split=2; total time=   0.0s\n",
      "[CV] END .............max_leaf_nodes=39, min_samples_split=3; total time=   0.0s\n",
      "[CV] END .............max_leaf_nodes=39, min_samples_split=3; total time=   0.0s\n",
      "[CV] END .............max_leaf_nodes=39, min_samples_split=3; total time=   0.0s\n",
      "[CV] END .............max_leaf_nodes=39, min_samples_split=4; total time=   0.0s\n",
      "[CV] END .............max_leaf_nodes=39, min_samples_split=4; total time=   0.0s\n",
      "[CV] END .............max_leaf_nodes=39, min_samples_split=4; total time=   0.0s\n",
      "[CV] END .............max_leaf_nodes=40, min_samples_split=2; total time=   0.0s\n",
      "[CV] END .............max_leaf_nodes=40, min_samples_split=2; total time=   0.0s\n",
      "[CV] END .............max_leaf_nodes=40, min_samples_split=2; total time=   0.0s\n",
      "[CV] END .............max_leaf_nodes=40, min_samples_split=3; total time=   0.0s\n",
      "[CV] END .............max_leaf_nodes=40, min_samples_split=3; total time=   0.0s\n",
      "[CV] END .............max_leaf_nodes=40, min_samples_split=3; total time=   0.0s\n",
      "[CV] END .............max_leaf_nodes=40, min_samples_split=4; total time=   0.0s\n",
      "[CV] END .............max_leaf_nodes=40, min_samples_split=4; total time=   0.0s\n",
      "[CV] END .............max_leaf_nodes=40, min_samples_split=4; total time=   0.0s\n",
      "[CV] END .............max_leaf_nodes=41, min_samples_split=2; total time=   0.0s\n",
      "[CV] END .............max_leaf_nodes=41, min_samples_split=2; total time=   0.0s\n",
      "[CV] END .............max_leaf_nodes=41, min_samples_split=2; total time=   0.0s\n",
      "[CV] END .............max_leaf_nodes=41, min_samples_split=3; total time=   0.0s\n",
      "[CV] END .............max_leaf_nodes=41, min_samples_split=3; total time=   0.0s\n",
      "[CV] END .............max_leaf_nodes=41, min_samples_split=3; total time=   0.0s\n",
      "[CV] END .............max_leaf_nodes=41, min_samples_split=4; total time=   0.0s\n",
      "[CV] END .............max_leaf_nodes=41, min_samples_split=4; total time=   0.0s\n",
      "[CV] END .............max_leaf_nodes=41, min_samples_split=4; total time=   0.0s\n",
      "[CV] END .............max_leaf_nodes=42, min_samples_split=2; total time=   0.0s\n",
      "[CV] END .............max_leaf_nodes=42, min_samples_split=2; total time=   0.0s\n",
      "[CV] END .............max_leaf_nodes=42, min_samples_split=2; total time=   0.0s\n",
      "[CV] END .............max_leaf_nodes=42, min_samples_split=3; total time=   0.0s\n",
      "[CV] END .............max_leaf_nodes=42, min_samples_split=3; total time=   0.0s\n",
      "[CV] END .............max_leaf_nodes=42, min_samples_split=3; total time=   0.0s\n",
      "[CV] END .............max_leaf_nodes=42, min_samples_split=4; total time=   0.0s\n",
      "[CV] END .............max_leaf_nodes=42, min_samples_split=4; total time=   0.0s\n",
      "[CV] END .............max_leaf_nodes=42, min_samples_split=4; total time=   0.0s\n",
      "[CV] END .............max_leaf_nodes=43, min_samples_split=2; total time=   0.0s\n",
      "[CV] END .............max_leaf_nodes=43, min_samples_split=2; total time=   0.0s\n"
     ]
    },
    {
     "name": "stdout",
     "output_type": "stream",
     "text": [
      "[CV] END .............max_leaf_nodes=43, min_samples_split=2; total time=   0.0s\n",
      "[CV] END .............max_leaf_nodes=43, min_samples_split=3; total time=   0.0s\n",
      "[CV] END .............max_leaf_nodes=43, min_samples_split=3; total time=   0.0s\n",
      "[CV] END .............max_leaf_nodes=43, min_samples_split=3; total time=   0.0s\n",
      "[CV] END .............max_leaf_nodes=43, min_samples_split=4; total time=   0.0s\n",
      "[CV] END .............max_leaf_nodes=43, min_samples_split=4; total time=   0.0s\n",
      "[CV] END .............max_leaf_nodes=43, min_samples_split=4; total time=   0.0s\n",
      "[CV] END .............max_leaf_nodes=44, min_samples_split=2; total time=   0.0s\n",
      "[CV] END .............max_leaf_nodes=44, min_samples_split=2; total time=   0.0s\n",
      "[CV] END .............max_leaf_nodes=44, min_samples_split=2; total time=   0.0s\n",
      "[CV] END .............max_leaf_nodes=44, min_samples_split=3; total time=   0.0s\n",
      "[CV] END .............max_leaf_nodes=44, min_samples_split=3; total time=   0.0s\n",
      "[CV] END .............max_leaf_nodes=44, min_samples_split=3; total time=   0.0s\n",
      "[CV] END .............max_leaf_nodes=44, min_samples_split=4; total time=   0.0s\n",
      "[CV] END .............max_leaf_nodes=44, min_samples_split=4; total time=   0.0s\n",
      "[CV] END .............max_leaf_nodes=44, min_samples_split=4; total time=   0.0s\n",
      "[CV] END .............max_leaf_nodes=45, min_samples_split=2; total time=   0.0s\n",
      "[CV] END .............max_leaf_nodes=45, min_samples_split=2; total time=   0.0s\n",
      "[CV] END .............max_leaf_nodes=45, min_samples_split=2; total time=   0.0s\n",
      "[CV] END .............max_leaf_nodes=45, min_samples_split=3; total time=   0.0s\n",
      "[CV] END .............max_leaf_nodes=45, min_samples_split=3; total time=   0.0s\n",
      "[CV] END .............max_leaf_nodes=45, min_samples_split=3; total time=   0.0s\n",
      "[CV] END .............max_leaf_nodes=45, min_samples_split=4; total time=   0.0s\n",
      "[CV] END .............max_leaf_nodes=45, min_samples_split=4; total time=   0.0s\n",
      "[CV] END .............max_leaf_nodes=45, min_samples_split=4; total time=   0.0s\n",
      "[CV] END .............max_leaf_nodes=46, min_samples_split=2; total time=   0.0s\n",
      "[CV] END .............max_leaf_nodes=46, min_samples_split=2; total time=   0.0s\n",
      "[CV] END .............max_leaf_nodes=46, min_samples_split=2; total time=   0.0s\n",
      "[CV] END .............max_leaf_nodes=46, min_samples_split=3; total time=   0.0s\n",
      "[CV] END .............max_leaf_nodes=46, min_samples_split=3; total time=   0.0s\n",
      "[CV] END .............max_leaf_nodes=46, min_samples_split=3; total time=   0.0s\n",
      "[CV] END .............max_leaf_nodes=46, min_samples_split=4; total time=   0.0s\n",
      "[CV] END .............max_leaf_nodes=46, min_samples_split=4; total time=   0.0s\n",
      "[CV] END .............max_leaf_nodes=46, min_samples_split=4; total time=   0.0s\n",
      "[CV] END .............max_leaf_nodes=47, min_samples_split=2; total time=   0.0s\n",
      "[CV] END .............max_leaf_nodes=47, min_samples_split=2; total time=   0.0s\n",
      "[CV] END .............max_leaf_nodes=47, min_samples_split=2; total time=   0.0s\n",
      "[CV] END .............max_leaf_nodes=47, min_samples_split=3; total time=   0.0s\n",
      "[CV] END .............max_leaf_nodes=47, min_samples_split=3; total time=   0.0s\n",
      "[CV] END .............max_leaf_nodes=47, min_samples_split=3; total time=   0.0s\n",
      "[CV] END .............max_leaf_nodes=47, min_samples_split=4; total time=   0.0s\n",
      "[CV] END .............max_leaf_nodes=47, min_samples_split=4; total time=   0.0s\n",
      "[CV] END .............max_leaf_nodes=47, min_samples_split=4; total time=   0.0s\n",
      "[CV] END .............max_leaf_nodes=48, min_samples_split=2; total time=   0.0s\n",
      "[CV] END .............max_leaf_nodes=48, min_samples_split=2; total time=   0.0s\n",
      "[CV] END .............max_leaf_nodes=48, min_samples_split=2; total time=   0.0s\n",
      "[CV] END .............max_leaf_nodes=48, min_samples_split=3; total time=   0.0s\n",
      "[CV] END .............max_leaf_nodes=48, min_samples_split=3; total time=   0.0s\n",
      "[CV] END .............max_leaf_nodes=48, min_samples_split=3; total time=   0.0s\n",
      "[CV] END .............max_leaf_nodes=48, min_samples_split=4; total time=   0.0s\n",
      "[CV] END .............max_leaf_nodes=48, min_samples_split=4; total time=   0.0s\n",
      "[CV] END .............max_leaf_nodes=48, min_samples_split=4; total time=   0.0s\n",
      "[CV] END .............max_leaf_nodes=49, min_samples_split=2; total time=   0.0s\n",
      "[CV] END .............max_leaf_nodes=49, min_samples_split=2; total time=   0.0s\n",
      "[CV] END .............max_leaf_nodes=49, min_samples_split=2; total time=   0.0s\n",
      "[CV] END .............max_leaf_nodes=49, min_samples_split=3; total time=   0.0s\n",
      "[CV] END .............max_leaf_nodes=49, min_samples_split=3; total time=   0.0s\n",
      "[CV] END .............max_leaf_nodes=49, min_samples_split=3; total time=   0.0s\n",
      "[CV] END .............max_leaf_nodes=49, min_samples_split=4; total time=   0.0s\n",
      "[CV] END .............max_leaf_nodes=49, min_samples_split=4; total time=   0.0s\n",
      "[CV] END .............max_leaf_nodes=49, min_samples_split=4; total time=   0.0s\n",
      "[CV] END .............max_leaf_nodes=50, min_samples_split=2; total time=   0.0s\n",
      "[CV] END .............max_leaf_nodes=50, min_samples_split=2; total time=   0.0s\n",
      "[CV] END .............max_leaf_nodes=50, min_samples_split=2; total time=   0.0s\n",
      "[CV] END .............max_leaf_nodes=50, min_samples_split=3; total time=   0.0s\n",
      "[CV] END .............max_leaf_nodes=50, min_samples_split=3; total time=   0.0s\n",
      "[CV] END .............max_leaf_nodes=50, min_samples_split=3; total time=   0.0s\n",
      "[CV] END .............max_leaf_nodes=50, min_samples_split=4; total time=   0.0s\n",
      "[CV] END .............max_leaf_nodes=50, min_samples_split=4; total time=   0.0s\n",
      "[CV] END .............max_leaf_nodes=50, min_samples_split=4; total time=   0.0s\n",
      "[CV] END .............max_leaf_nodes=51, min_samples_split=2; total time=   0.0s\n",
      "[CV] END .............max_leaf_nodes=51, min_samples_split=2; total time=   0.0s\n",
      "[CV] END .............max_leaf_nodes=51, min_samples_split=2; total time=   0.0s\n",
      "[CV] END .............max_leaf_nodes=51, min_samples_split=3; total time=   0.0s\n",
      "[CV] END .............max_leaf_nodes=51, min_samples_split=3; total time=   0.0s\n",
      "[CV] END .............max_leaf_nodes=51, min_samples_split=3; total time=   0.0s\n",
      "[CV] END .............max_leaf_nodes=51, min_samples_split=4; total time=   0.0s\n",
      "[CV] END .............max_leaf_nodes=51, min_samples_split=4; total time=   0.0s\n",
      "[CV] END .............max_leaf_nodes=51, min_samples_split=4; total time=   0.0s\n",
      "[CV] END .............max_leaf_nodes=52, min_samples_split=2; total time=   0.0s\n",
      "[CV] END .............max_leaf_nodes=52, min_samples_split=2; total time=   0.0s\n",
      "[CV] END .............max_leaf_nodes=52, min_samples_split=2; total time=   0.0s\n",
      "[CV] END .............max_leaf_nodes=52, min_samples_split=3; total time=   0.0s\n",
      "[CV] END .............max_leaf_nodes=52, min_samples_split=3; total time=   0.0s\n",
      "[CV] END .............max_leaf_nodes=52, min_samples_split=3; total time=   0.0s\n",
      "[CV] END .............max_leaf_nodes=52, min_samples_split=4; total time=   0.0s\n",
      "[CV] END .............max_leaf_nodes=52, min_samples_split=4; total time=   0.0s\n",
      "[CV] END .............max_leaf_nodes=52, min_samples_split=4; total time=   0.0s\n",
      "[CV] END .............max_leaf_nodes=53, min_samples_split=2; total time=   0.0s\n",
      "[CV] END .............max_leaf_nodes=53, min_samples_split=2; total time=   0.0s\n",
      "[CV] END .............max_leaf_nodes=53, min_samples_split=2; total time=   0.0s\n",
      "[CV] END .............max_leaf_nodes=53, min_samples_split=3; total time=   0.0s\n",
      "[CV] END .............max_leaf_nodes=53, min_samples_split=3; total time=   0.0s\n",
      "[CV] END .............max_leaf_nodes=53, min_samples_split=3; total time=   0.0s\n",
      "[CV] END .............max_leaf_nodes=53, min_samples_split=4; total time=   0.0s\n",
      "[CV] END .............max_leaf_nodes=53, min_samples_split=4; total time=   0.0s\n",
      "[CV] END .............max_leaf_nodes=53, min_samples_split=4; total time=   0.0s\n",
      "[CV] END .............max_leaf_nodes=54, min_samples_split=2; total time=   0.0s\n",
      "[CV] END .............max_leaf_nodes=54, min_samples_split=2; total time=   0.0s\n",
      "[CV] END .............max_leaf_nodes=54, min_samples_split=2; total time=   0.0s\n",
      "[CV] END .............max_leaf_nodes=54, min_samples_split=3; total time=   0.0s\n",
      "[CV] END .............max_leaf_nodes=54, min_samples_split=3; total time=   0.0s\n",
      "[CV] END .............max_leaf_nodes=54, min_samples_split=3; total time=   0.0s\n"
     ]
    },
    {
     "name": "stdout",
     "output_type": "stream",
     "text": [
      "[CV] END .............max_leaf_nodes=54, min_samples_split=4; total time=   0.0s\n",
      "[CV] END .............max_leaf_nodes=54, min_samples_split=4; total time=   0.0s\n",
      "[CV] END .............max_leaf_nodes=54, min_samples_split=4; total time=   0.0s\n",
      "[CV] END .............max_leaf_nodes=55, min_samples_split=2; total time=   0.0s\n",
      "[CV] END .............max_leaf_nodes=55, min_samples_split=2; total time=   0.0s\n",
      "[CV] END .............max_leaf_nodes=55, min_samples_split=2; total time=   0.0s\n",
      "[CV] END .............max_leaf_nodes=55, min_samples_split=3; total time=   0.0s\n",
      "[CV] END .............max_leaf_nodes=55, min_samples_split=3; total time=   0.0s\n",
      "[CV] END .............max_leaf_nodes=55, min_samples_split=3; total time=   0.0s\n",
      "[CV] END .............max_leaf_nodes=55, min_samples_split=4; total time=   0.0s\n",
      "[CV] END .............max_leaf_nodes=55, min_samples_split=4; total time=   0.0s\n",
      "[CV] END .............max_leaf_nodes=55, min_samples_split=4; total time=   0.0s\n",
      "[CV] END .............max_leaf_nodes=56, min_samples_split=2; total time=   0.0s\n",
      "[CV] END .............max_leaf_nodes=56, min_samples_split=2; total time=   0.0s\n",
      "[CV] END .............max_leaf_nodes=56, min_samples_split=2; total time=   0.0s\n",
      "[CV] END .............max_leaf_nodes=56, min_samples_split=3; total time=   0.0s\n",
      "[CV] END .............max_leaf_nodes=56, min_samples_split=3; total time=   0.0s\n",
      "[CV] END .............max_leaf_nodes=56, min_samples_split=3; total time=   0.0s\n",
      "[CV] END .............max_leaf_nodes=56, min_samples_split=4; total time=   0.0s\n",
      "[CV] END .............max_leaf_nodes=56, min_samples_split=4; total time=   0.0s\n",
      "[CV] END .............max_leaf_nodes=56, min_samples_split=4; total time=   0.0s\n",
      "[CV] END .............max_leaf_nodes=57, min_samples_split=2; total time=   0.0s\n",
      "[CV] END .............max_leaf_nodes=57, min_samples_split=2; total time=   0.0s\n",
      "[CV] END .............max_leaf_nodes=57, min_samples_split=2; total time=   0.0s\n",
      "[CV] END .............max_leaf_nodes=57, min_samples_split=3; total time=   0.0s\n",
      "[CV] END .............max_leaf_nodes=57, min_samples_split=3; total time=   0.0s\n",
      "[CV] END .............max_leaf_nodes=57, min_samples_split=3; total time=   0.0s\n",
      "[CV] END .............max_leaf_nodes=57, min_samples_split=4; total time=   0.0s\n",
      "[CV] END .............max_leaf_nodes=57, min_samples_split=4; total time=   0.0s\n",
      "[CV] END .............max_leaf_nodes=57, min_samples_split=4; total time=   0.0s\n",
      "[CV] END .............max_leaf_nodes=58, min_samples_split=2; total time=   0.0s\n",
      "[CV] END .............max_leaf_nodes=58, min_samples_split=2; total time=   0.0s\n",
      "[CV] END .............max_leaf_nodes=58, min_samples_split=2; total time=   0.0s\n",
      "[CV] END .............max_leaf_nodes=58, min_samples_split=3; total time=   0.0s\n",
      "[CV] END .............max_leaf_nodes=58, min_samples_split=3; total time=   0.0s\n",
      "[CV] END .............max_leaf_nodes=58, min_samples_split=3; total time=   0.0s\n",
      "[CV] END .............max_leaf_nodes=58, min_samples_split=4; total time=   0.0s\n",
      "[CV] END .............max_leaf_nodes=58, min_samples_split=4; total time=   0.0s\n",
      "[CV] END .............max_leaf_nodes=58, min_samples_split=4; total time=   0.0s\n",
      "[CV] END .............max_leaf_nodes=59, min_samples_split=2; total time=   0.0s\n",
      "[CV] END .............max_leaf_nodes=59, min_samples_split=2; total time=   0.0s\n",
      "[CV] END .............max_leaf_nodes=59, min_samples_split=2; total time=   0.0s\n",
      "[CV] END .............max_leaf_nodes=59, min_samples_split=3; total time=   0.0s\n",
      "[CV] END .............max_leaf_nodes=59, min_samples_split=3; total time=   0.0s\n",
      "[CV] END .............max_leaf_nodes=59, min_samples_split=3; total time=   0.0s\n",
      "[CV] END .............max_leaf_nodes=59, min_samples_split=4; total time=   0.0s\n",
      "[CV] END .............max_leaf_nodes=59, min_samples_split=4; total time=   0.0s\n",
      "[CV] END .............max_leaf_nodes=59, min_samples_split=4; total time=   0.0s\n",
      "[CV] END .............max_leaf_nodes=60, min_samples_split=2; total time=   0.0s\n",
      "[CV] END .............max_leaf_nodes=60, min_samples_split=2; total time=   0.0s\n",
      "[CV] END .............max_leaf_nodes=60, min_samples_split=2; total time=   0.0s\n",
      "[CV] END .............max_leaf_nodes=60, min_samples_split=3; total time=   0.0s\n",
      "[CV] END .............max_leaf_nodes=60, min_samples_split=3; total time=   0.0s\n",
      "[CV] END .............max_leaf_nodes=60, min_samples_split=3; total time=   0.0s\n",
      "[CV] END .............max_leaf_nodes=60, min_samples_split=4; total time=   0.0s\n",
      "[CV] END .............max_leaf_nodes=60, min_samples_split=4; total time=   0.0s\n",
      "[CV] END .............max_leaf_nodes=60, min_samples_split=4; total time=   0.0s\n",
      "[CV] END .............max_leaf_nodes=61, min_samples_split=2; total time=   0.0s\n",
      "[CV] END .............max_leaf_nodes=61, min_samples_split=2; total time=   0.0s\n",
      "[CV] END .............max_leaf_nodes=61, min_samples_split=2; total time=   0.0s\n",
      "[CV] END .............max_leaf_nodes=61, min_samples_split=3; total time=   0.0s\n",
      "[CV] END .............max_leaf_nodes=61, min_samples_split=3; total time=   0.0s\n",
      "[CV] END .............max_leaf_nodes=61, min_samples_split=3; total time=   0.0s\n",
      "[CV] END .............max_leaf_nodes=61, min_samples_split=4; total time=   0.0s\n",
      "[CV] END .............max_leaf_nodes=61, min_samples_split=4; total time=   0.0s\n",
      "[CV] END .............max_leaf_nodes=61, min_samples_split=4; total time=   0.0s\n",
      "[CV] END .............max_leaf_nodes=62, min_samples_split=2; total time=   0.0s\n",
      "[CV] END .............max_leaf_nodes=62, min_samples_split=2; total time=   0.0s\n",
      "[CV] END .............max_leaf_nodes=62, min_samples_split=2; total time=   0.0s\n",
      "[CV] END .............max_leaf_nodes=62, min_samples_split=3; total time=   0.0s\n",
      "[CV] END .............max_leaf_nodes=62, min_samples_split=3; total time=   0.0s\n",
      "[CV] END .............max_leaf_nodes=62, min_samples_split=3; total time=   0.0s\n",
      "[CV] END .............max_leaf_nodes=62, min_samples_split=4; total time=   0.0s\n",
      "[CV] END .............max_leaf_nodes=62, min_samples_split=4; total time=   0.0s\n",
      "[CV] END .............max_leaf_nodes=62, min_samples_split=4; total time=   0.0s\n",
      "[CV] END .............max_leaf_nodes=63, min_samples_split=2; total time=   0.0s\n",
      "[CV] END .............max_leaf_nodes=63, min_samples_split=2; total time=   0.0s\n",
      "[CV] END .............max_leaf_nodes=63, min_samples_split=2; total time=   0.0s\n",
      "[CV] END .............max_leaf_nodes=63, min_samples_split=3; total time=   0.0s\n",
      "[CV] END .............max_leaf_nodes=63, min_samples_split=3; total time=   0.0s\n",
      "[CV] END .............max_leaf_nodes=63, min_samples_split=3; total time=   0.0s\n",
      "[CV] END .............max_leaf_nodes=63, min_samples_split=4; total time=   0.0s\n",
      "[CV] END .............max_leaf_nodes=63, min_samples_split=4; total time=   0.0s\n",
      "[CV] END .............max_leaf_nodes=63, min_samples_split=4; total time=   0.0s\n",
      "[CV] END .............max_leaf_nodes=64, min_samples_split=2; total time=   0.0s\n",
      "[CV] END .............max_leaf_nodes=64, min_samples_split=2; total time=   0.0s\n",
      "[CV] END .............max_leaf_nodes=64, min_samples_split=2; total time=   0.0s\n",
      "[CV] END .............max_leaf_nodes=64, min_samples_split=3; total time=   0.0s\n",
      "[CV] END .............max_leaf_nodes=64, min_samples_split=3; total time=   0.0s\n",
      "[CV] END .............max_leaf_nodes=64, min_samples_split=3; total time=   0.0s\n",
      "[CV] END .............max_leaf_nodes=64, min_samples_split=4; total time=   0.0s\n",
      "[CV] END .............max_leaf_nodes=64, min_samples_split=4; total time=   0.0s\n",
      "[CV] END .............max_leaf_nodes=64, min_samples_split=4; total time=   0.0s\n",
      "[CV] END .............max_leaf_nodes=65, min_samples_split=2; total time=   0.0s\n",
      "[CV] END .............max_leaf_nodes=65, min_samples_split=2; total time=   0.0s\n",
      "[CV] END .............max_leaf_nodes=65, min_samples_split=2; total time=   0.0s\n",
      "[CV] END .............max_leaf_nodes=65, min_samples_split=3; total time=   0.0s\n",
      "[CV] END .............max_leaf_nodes=65, min_samples_split=3; total time=   0.0s\n",
      "[CV] END .............max_leaf_nodes=65, min_samples_split=3; total time=   0.0s\n",
      "[CV] END .............max_leaf_nodes=65, min_samples_split=4; total time=   0.0s\n",
      "[CV] END .............max_leaf_nodes=65, min_samples_split=4; total time=   0.0s\n",
      "[CV] END .............max_leaf_nodes=65, min_samples_split=4; total time=   0.0s\n",
      "[CV] END .............max_leaf_nodes=66, min_samples_split=2; total time=   0.0s\n",
      "[CV] END .............max_leaf_nodes=66, min_samples_split=2; total time=   0.0s\n"
     ]
    },
    {
     "name": "stdout",
     "output_type": "stream",
     "text": [
      "[CV] END .............max_leaf_nodes=66, min_samples_split=2; total time=   0.0s\n",
      "[CV] END .............max_leaf_nodes=66, min_samples_split=3; total time=   0.0s\n",
      "[CV] END .............max_leaf_nodes=66, min_samples_split=3; total time=   0.0s\n",
      "[CV] END .............max_leaf_nodes=66, min_samples_split=3; total time=   0.0s\n",
      "[CV] END .............max_leaf_nodes=66, min_samples_split=4; total time=   0.0s\n",
      "[CV] END .............max_leaf_nodes=66, min_samples_split=4; total time=   0.0s\n",
      "[CV] END .............max_leaf_nodes=66, min_samples_split=4; total time=   0.0s\n",
      "[CV] END .............max_leaf_nodes=67, min_samples_split=2; total time=   0.0s\n",
      "[CV] END .............max_leaf_nodes=67, min_samples_split=2; total time=   0.0s\n",
      "[CV] END .............max_leaf_nodes=67, min_samples_split=2; total time=   0.0s\n",
      "[CV] END .............max_leaf_nodes=67, min_samples_split=3; total time=   0.0s\n",
      "[CV] END .............max_leaf_nodes=67, min_samples_split=3; total time=   0.0s\n",
      "[CV] END .............max_leaf_nodes=67, min_samples_split=3; total time=   0.0s\n",
      "[CV] END .............max_leaf_nodes=67, min_samples_split=4; total time=   0.0s\n",
      "[CV] END .............max_leaf_nodes=67, min_samples_split=4; total time=   0.0s\n",
      "[CV] END .............max_leaf_nodes=67, min_samples_split=4; total time=   0.0s\n",
      "[CV] END .............max_leaf_nodes=68, min_samples_split=2; total time=   0.0s\n",
      "[CV] END .............max_leaf_nodes=68, min_samples_split=2; total time=   0.0s\n",
      "[CV] END .............max_leaf_nodes=68, min_samples_split=2; total time=   0.0s\n",
      "[CV] END .............max_leaf_nodes=68, min_samples_split=3; total time=   0.0s\n",
      "[CV] END .............max_leaf_nodes=68, min_samples_split=3; total time=   0.0s\n",
      "[CV] END .............max_leaf_nodes=68, min_samples_split=3; total time=   0.0s\n",
      "[CV] END .............max_leaf_nodes=68, min_samples_split=4; total time=   0.0s\n",
      "[CV] END .............max_leaf_nodes=68, min_samples_split=4; total time=   0.0s\n",
      "[CV] END .............max_leaf_nodes=68, min_samples_split=4; total time=   0.0s\n",
      "[CV] END .............max_leaf_nodes=69, min_samples_split=2; total time=   0.0s\n",
      "[CV] END .............max_leaf_nodes=69, min_samples_split=2; total time=   0.0s\n",
      "[CV] END .............max_leaf_nodes=69, min_samples_split=2; total time=   0.0s\n",
      "[CV] END .............max_leaf_nodes=69, min_samples_split=3; total time=   0.0s\n",
      "[CV] END .............max_leaf_nodes=69, min_samples_split=3; total time=   0.0s\n",
      "[CV] END .............max_leaf_nodes=69, min_samples_split=3; total time=   0.0s\n",
      "[CV] END .............max_leaf_nodes=69, min_samples_split=4; total time=   0.0s\n",
      "[CV] END .............max_leaf_nodes=69, min_samples_split=4; total time=   0.0s\n",
      "[CV] END .............max_leaf_nodes=69, min_samples_split=4; total time=   0.0s\n",
      "[CV] END .............max_leaf_nodes=70, min_samples_split=2; total time=   0.0s\n",
      "[CV] END .............max_leaf_nodes=70, min_samples_split=2; total time=   0.0s\n",
      "[CV] END .............max_leaf_nodes=70, min_samples_split=2; total time=   0.0s\n",
      "[CV] END .............max_leaf_nodes=70, min_samples_split=3; total time=   0.0s\n",
      "[CV] END .............max_leaf_nodes=70, min_samples_split=3; total time=   0.0s\n",
      "[CV] END .............max_leaf_nodes=70, min_samples_split=3; total time=   0.0s\n",
      "[CV] END .............max_leaf_nodes=70, min_samples_split=4; total time=   0.0s\n",
      "[CV] END .............max_leaf_nodes=70, min_samples_split=4; total time=   0.0s\n",
      "[CV] END .............max_leaf_nodes=70, min_samples_split=4; total time=   0.0s\n",
      "[CV] END .............max_leaf_nodes=71, min_samples_split=2; total time=   0.0s\n",
      "[CV] END .............max_leaf_nodes=71, min_samples_split=2; total time=   0.0s\n",
      "[CV] END .............max_leaf_nodes=71, min_samples_split=2; total time=   0.0s\n",
      "[CV] END .............max_leaf_nodes=71, min_samples_split=3; total time=   0.0s\n",
      "[CV] END .............max_leaf_nodes=71, min_samples_split=3; total time=   0.0s\n",
      "[CV] END .............max_leaf_nodes=71, min_samples_split=3; total time=   0.0s\n",
      "[CV] END .............max_leaf_nodes=71, min_samples_split=4; total time=   0.0s\n",
      "[CV] END .............max_leaf_nodes=71, min_samples_split=4; total time=   0.0s\n",
      "[CV] END .............max_leaf_nodes=71, min_samples_split=4; total time=   0.0s\n",
      "[CV] END .............max_leaf_nodes=72, min_samples_split=2; total time=   0.0s\n",
      "[CV] END .............max_leaf_nodes=72, min_samples_split=2; total time=   0.0s\n",
      "[CV] END .............max_leaf_nodes=72, min_samples_split=2; total time=   0.0s\n",
      "[CV] END .............max_leaf_nodes=72, min_samples_split=3; total time=   0.0s\n",
      "[CV] END .............max_leaf_nodes=72, min_samples_split=3; total time=   0.0s\n",
      "[CV] END .............max_leaf_nodes=72, min_samples_split=3; total time=   0.0s\n",
      "[CV] END .............max_leaf_nodes=72, min_samples_split=4; total time=   0.0s\n",
      "[CV] END .............max_leaf_nodes=72, min_samples_split=4; total time=   0.0s\n",
      "[CV] END .............max_leaf_nodes=72, min_samples_split=4; total time=   0.0s\n",
      "[CV] END .............max_leaf_nodes=73, min_samples_split=2; total time=   0.0s\n",
      "[CV] END .............max_leaf_nodes=73, min_samples_split=2; total time=   0.0s\n",
      "[CV] END .............max_leaf_nodes=73, min_samples_split=2; total time=   0.0s\n",
      "[CV] END .............max_leaf_nodes=73, min_samples_split=3; total time=   0.0s\n",
      "[CV] END .............max_leaf_nodes=73, min_samples_split=3; total time=   0.0s\n",
      "[CV] END .............max_leaf_nodes=73, min_samples_split=3; total time=   0.0s\n",
      "[CV] END .............max_leaf_nodes=73, min_samples_split=4; total time=   0.0s\n",
      "[CV] END .............max_leaf_nodes=73, min_samples_split=4; total time=   0.0s\n",
      "[CV] END .............max_leaf_nodes=73, min_samples_split=4; total time=   0.0s\n",
      "[CV] END .............max_leaf_nodes=74, min_samples_split=2; total time=   0.0s\n",
      "[CV] END .............max_leaf_nodes=74, min_samples_split=2; total time=   0.0s\n",
      "[CV] END .............max_leaf_nodes=74, min_samples_split=2; total time=   0.0s\n",
      "[CV] END .............max_leaf_nodes=74, min_samples_split=3; total time=   0.0s\n",
      "[CV] END .............max_leaf_nodes=74, min_samples_split=3; total time=   0.0s\n",
      "[CV] END .............max_leaf_nodes=74, min_samples_split=3; total time=   0.0s\n",
      "[CV] END .............max_leaf_nodes=74, min_samples_split=4; total time=   0.0s\n",
      "[CV] END .............max_leaf_nodes=74, min_samples_split=4; total time=   0.0s\n",
      "[CV] END .............max_leaf_nodes=74, min_samples_split=4; total time=   0.0s\n",
      "[CV] END .............max_leaf_nodes=75, min_samples_split=2; total time=   0.0s\n",
      "[CV] END .............max_leaf_nodes=75, min_samples_split=2; total time=   0.0s\n",
      "[CV] END .............max_leaf_nodes=75, min_samples_split=2; total time=   0.0s\n",
      "[CV] END .............max_leaf_nodes=75, min_samples_split=3; total time=   0.0s\n",
      "[CV] END .............max_leaf_nodes=75, min_samples_split=3; total time=   0.0s\n",
      "[CV] END .............max_leaf_nodes=75, min_samples_split=3; total time=   0.0s\n",
      "[CV] END .............max_leaf_nodes=75, min_samples_split=4; total time=   0.0s\n",
      "[CV] END .............max_leaf_nodes=75, min_samples_split=4; total time=   0.0s\n",
      "[CV] END .............max_leaf_nodes=75, min_samples_split=4; total time=   0.0s\n",
      "[CV] END .............max_leaf_nodes=76, min_samples_split=2; total time=   0.0s\n",
      "[CV] END .............max_leaf_nodes=76, min_samples_split=2; total time=   0.0s\n",
      "[CV] END .............max_leaf_nodes=76, min_samples_split=2; total time=   0.0s\n",
      "[CV] END .............max_leaf_nodes=76, min_samples_split=3; total time=   0.0s\n",
      "[CV] END .............max_leaf_nodes=76, min_samples_split=3; total time=   0.0s\n",
      "[CV] END .............max_leaf_nodes=76, min_samples_split=3; total time=   0.0s\n",
      "[CV] END .............max_leaf_nodes=76, min_samples_split=4; total time=   0.0s\n",
      "[CV] END .............max_leaf_nodes=76, min_samples_split=4; total time=   0.0s\n",
      "[CV] END .............max_leaf_nodes=76, min_samples_split=4; total time=   0.0s\n",
      "[CV] END .............max_leaf_nodes=77, min_samples_split=2; total time=   0.0s\n",
      "[CV] END .............max_leaf_nodes=77, min_samples_split=2; total time=   0.0s\n",
      "[CV] END .............max_leaf_nodes=77, min_samples_split=2; total time=   0.0s\n",
      "[CV] END .............max_leaf_nodes=77, min_samples_split=3; total time=   0.0s\n",
      "[CV] END .............max_leaf_nodes=77, min_samples_split=3; total time=   0.0s\n",
      "[CV] END .............max_leaf_nodes=77, min_samples_split=3; total time=   0.0s\n",
      "[CV] END .............max_leaf_nodes=77, min_samples_split=4; total time=   0.0s\n",
      "[CV] END .............max_leaf_nodes=77, min_samples_split=4; total time=   0.0s\n",
      "[CV] END .............max_leaf_nodes=77, min_samples_split=4; total time=   0.0s\n",
      "[CV] END .............max_leaf_nodes=78, min_samples_split=2; total time=   0.0s\n",
      "[CV] END .............max_leaf_nodes=78, min_samples_split=2; total time=   0.0s\n",
      "[CV] END .............max_leaf_nodes=78, min_samples_split=2; total time=   0.0s\n",
      "[CV] END .............max_leaf_nodes=78, min_samples_split=3; total time=   0.0s\n",
      "[CV] END .............max_leaf_nodes=78, min_samples_split=3; total time=   0.0s\n",
      "[CV] END .............max_leaf_nodes=78, min_samples_split=3; total time=   0.0s\n",
      "[CV] END .............max_leaf_nodes=78, min_samples_split=4; total time=   0.0s\n",
      "[CV] END .............max_leaf_nodes=78, min_samples_split=4; total time=   0.0s\n",
      "[CV] END .............max_leaf_nodes=78, min_samples_split=4; total time=   0.0s\n",
      "[CV] END .............max_leaf_nodes=79, min_samples_split=2; total time=   0.0s\n",
      "[CV] END .............max_leaf_nodes=79, min_samples_split=2; total time=   0.0s\n",
      "[CV] END .............max_leaf_nodes=79, min_samples_split=2; total time=   0.0s\n",
      "[CV] END .............max_leaf_nodes=79, min_samples_split=3; total time=   0.0s\n",
      "[CV] END .............max_leaf_nodes=79, min_samples_split=3; total time=   0.0s\n",
      "[CV] END .............max_leaf_nodes=79, min_samples_split=3; total time=   0.0s\n",
      "[CV] END .............max_leaf_nodes=79, min_samples_split=4; total time=   0.0s\n",
      "[CV] END .............max_leaf_nodes=79, min_samples_split=4; total time=   0.0s\n",
      "[CV] END .............max_leaf_nodes=79, min_samples_split=4; total time=   0.0s\n",
      "[CV] END .............max_leaf_nodes=80, min_samples_split=2; total time=   0.0s\n",
      "[CV] END .............max_leaf_nodes=80, min_samples_split=2; total time=   0.0s\n",
      "[CV] END .............max_leaf_nodes=80, min_samples_split=2; total time=   0.0s\n",
      "[CV] END .............max_leaf_nodes=80, min_samples_split=3; total time=   0.0s\n",
      "[CV] END .............max_leaf_nodes=80, min_samples_split=3; total time=   0.0s\n",
      "[CV] END .............max_leaf_nodes=80, min_samples_split=3; total time=   0.0s\n",
      "[CV] END .............max_leaf_nodes=80, min_samples_split=4; total time=   0.0s\n",
      "[CV] END .............max_leaf_nodes=80, min_samples_split=4; total time=   0.0s\n",
      "[CV] END .............max_leaf_nodes=80, min_samples_split=4; total time=   0.0s\n",
      "[CV] END .............max_leaf_nodes=81, min_samples_split=2; total time=   0.0s\n"
     ]
    },
    {
     "name": "stdout",
     "output_type": "stream",
     "text": [
      "[CV] END .............max_leaf_nodes=81, min_samples_split=2; total time=   0.0s\n",
      "[CV] END .............max_leaf_nodes=81, min_samples_split=2; total time=   0.0s\n",
      "[CV] END .............max_leaf_nodes=81, min_samples_split=3; total time=   0.0s\n",
      "[CV] END .............max_leaf_nodes=81, min_samples_split=3; total time=   0.0s\n",
      "[CV] END .............max_leaf_nodes=81, min_samples_split=3; total time=   0.0s\n",
      "[CV] END .............max_leaf_nodes=81, min_samples_split=4; total time=   0.0s\n",
      "[CV] END .............max_leaf_nodes=81, min_samples_split=4; total time=   0.0s\n",
      "[CV] END .............max_leaf_nodes=81, min_samples_split=4; total time=   0.0s\n",
      "[CV] END .............max_leaf_nodes=82, min_samples_split=2; total time=   0.0s\n",
      "[CV] END .............max_leaf_nodes=82, min_samples_split=2; total time=   0.0s\n",
      "[CV] END .............max_leaf_nodes=82, min_samples_split=2; total time=   0.0s\n",
      "[CV] END .............max_leaf_nodes=82, min_samples_split=3; total time=   0.0s\n",
      "[CV] END .............max_leaf_nodes=82, min_samples_split=3; total time=   0.0s\n",
      "[CV] END .............max_leaf_nodes=82, min_samples_split=3; total time=   0.0s\n",
      "[CV] END .............max_leaf_nodes=82, min_samples_split=4; total time=   0.0s\n",
      "[CV] END .............max_leaf_nodes=82, min_samples_split=4; total time=   0.0s\n",
      "[CV] END .............max_leaf_nodes=82, min_samples_split=4; total time=   0.0s\n",
      "[CV] END .............max_leaf_nodes=83, min_samples_split=2; total time=   0.0s\n",
      "[CV] END .............max_leaf_nodes=83, min_samples_split=2; total time=   0.0s\n",
      "[CV] END .............max_leaf_nodes=83, min_samples_split=2; total time=   0.0s\n",
      "[CV] END .............max_leaf_nodes=83, min_samples_split=3; total time=   0.0s\n",
      "[CV] END .............max_leaf_nodes=83, min_samples_split=3; total time=   0.0s\n",
      "[CV] END .............max_leaf_nodes=83, min_samples_split=3; total time=   0.0s\n",
      "[CV] END .............max_leaf_nodes=83, min_samples_split=4; total time=   0.0s\n",
      "[CV] END .............max_leaf_nodes=83, min_samples_split=4; total time=   0.0s\n",
      "[CV] END .............max_leaf_nodes=83, min_samples_split=4; total time=   0.0s\n",
      "[CV] END .............max_leaf_nodes=84, min_samples_split=2; total time=   0.0s\n",
      "[CV] END .............max_leaf_nodes=84, min_samples_split=2; total time=   0.0s\n",
      "[CV] END .............max_leaf_nodes=84, min_samples_split=2; total time=   0.0s\n",
      "[CV] END .............max_leaf_nodes=84, min_samples_split=3; total time=   0.0s\n",
      "[CV] END .............max_leaf_nodes=84, min_samples_split=3; total time=   0.0s\n",
      "[CV] END .............max_leaf_nodes=84, min_samples_split=3; total time=   0.0s\n",
      "[CV] END .............max_leaf_nodes=84, min_samples_split=4; total time=   0.0s\n",
      "[CV] END .............max_leaf_nodes=84, min_samples_split=4; total time=   0.0s\n",
      "[CV] END .............max_leaf_nodes=84, min_samples_split=4; total time=   0.0s\n",
      "[CV] END .............max_leaf_nodes=85, min_samples_split=2; total time=   0.0s\n",
      "[CV] END .............max_leaf_nodes=85, min_samples_split=2; total time=   0.0s\n",
      "[CV] END .............max_leaf_nodes=85, min_samples_split=2; total time=   0.0s\n",
      "[CV] END .............max_leaf_nodes=85, min_samples_split=3; total time=   0.0s\n",
      "[CV] END .............max_leaf_nodes=85, min_samples_split=3; total time=   0.0s\n",
      "[CV] END .............max_leaf_nodes=85, min_samples_split=3; total time=   0.0s\n",
      "[CV] END .............max_leaf_nodes=85, min_samples_split=4; total time=   0.0s\n",
      "[CV] END .............max_leaf_nodes=85, min_samples_split=4; total time=   0.0s\n",
      "[CV] END .............max_leaf_nodes=85, min_samples_split=4; total time=   0.0s\n",
      "[CV] END .............max_leaf_nodes=86, min_samples_split=2; total time=   0.0s\n",
      "[CV] END .............max_leaf_nodes=86, min_samples_split=2; total time=   0.0s\n",
      "[CV] END .............max_leaf_nodes=86, min_samples_split=2; total time=   0.0s\n",
      "[CV] END .............max_leaf_nodes=86, min_samples_split=3; total time=   0.0s\n",
      "[CV] END .............max_leaf_nodes=86, min_samples_split=3; total time=   0.0s\n",
      "[CV] END .............max_leaf_nodes=86, min_samples_split=3; total time=   0.0s\n",
      "[CV] END .............max_leaf_nodes=86, min_samples_split=4; total time=   0.0s\n",
      "[CV] END .............max_leaf_nodes=86, min_samples_split=4; total time=   0.0s\n",
      "[CV] END .............max_leaf_nodes=86, min_samples_split=4; total time=   0.0s\n",
      "[CV] END .............max_leaf_nodes=87, min_samples_split=2; total time=   0.0s\n",
      "[CV] END .............max_leaf_nodes=87, min_samples_split=2; total time=   0.0s\n",
      "[CV] END .............max_leaf_nodes=87, min_samples_split=2; total time=   0.0s\n",
      "[CV] END .............max_leaf_nodes=87, min_samples_split=3; total time=   0.0s\n",
      "[CV] END .............max_leaf_nodes=87, min_samples_split=3; total time=   0.0s\n",
      "[CV] END .............max_leaf_nodes=87, min_samples_split=3; total time=   0.0s\n",
      "[CV] END .............max_leaf_nodes=87, min_samples_split=4; total time=   0.0s\n",
      "[CV] END .............max_leaf_nodes=87, min_samples_split=4; total time=   0.0s\n",
      "[CV] END .............max_leaf_nodes=87, min_samples_split=4; total time=   0.0s\n",
      "[CV] END .............max_leaf_nodes=88, min_samples_split=2; total time=   0.0s\n",
      "[CV] END .............max_leaf_nodes=88, min_samples_split=2; total time=   0.0s\n",
      "[CV] END .............max_leaf_nodes=88, min_samples_split=2; total time=   0.0s\n",
      "[CV] END .............max_leaf_nodes=88, min_samples_split=3; total time=   0.0s\n",
      "[CV] END .............max_leaf_nodes=88, min_samples_split=3; total time=   0.0s\n",
      "[CV] END .............max_leaf_nodes=88, min_samples_split=3; total time=   0.0s\n",
      "[CV] END .............max_leaf_nodes=88, min_samples_split=4; total time=   0.0s\n",
      "[CV] END .............max_leaf_nodes=88, min_samples_split=4; total time=   0.0s\n",
      "[CV] END .............max_leaf_nodes=88, min_samples_split=4; total time=   0.0s\n",
      "[CV] END .............max_leaf_nodes=89, min_samples_split=2; total time=   0.0s\n",
      "[CV] END .............max_leaf_nodes=89, min_samples_split=2; total time=   0.0s\n",
      "[CV] END .............max_leaf_nodes=89, min_samples_split=2; total time=   0.0s\n",
      "[CV] END .............max_leaf_nodes=89, min_samples_split=3; total time=   0.0s\n",
      "[CV] END .............max_leaf_nodes=89, min_samples_split=3; total time=   0.0s\n",
      "[CV] END .............max_leaf_nodes=89, min_samples_split=3; total time=   0.0s\n",
      "[CV] END .............max_leaf_nodes=89, min_samples_split=4; total time=   0.0s\n",
      "[CV] END .............max_leaf_nodes=89, min_samples_split=4; total time=   0.0s\n",
      "[CV] END .............max_leaf_nodes=89, min_samples_split=4; total time=   0.0s\n",
      "[CV] END .............max_leaf_nodes=90, min_samples_split=2; total time=   0.0s\n",
      "[CV] END .............max_leaf_nodes=90, min_samples_split=2; total time=   0.0s\n",
      "[CV] END .............max_leaf_nodes=90, min_samples_split=2; total time=   0.0s\n",
      "[CV] END .............max_leaf_nodes=90, min_samples_split=3; total time=   0.0s\n",
      "[CV] END .............max_leaf_nodes=90, min_samples_split=3; total time=   0.0s\n",
      "[CV] END .............max_leaf_nodes=90, min_samples_split=3; total time=   0.0s\n",
      "[CV] END .............max_leaf_nodes=90, min_samples_split=4; total time=   0.0s\n",
      "[CV] END .............max_leaf_nodes=90, min_samples_split=4; total time=   0.0s\n",
      "[CV] END .............max_leaf_nodes=90, min_samples_split=4; total time=   0.0s\n",
      "[CV] END .............max_leaf_nodes=91, min_samples_split=2; total time=   0.0s\n",
      "[CV] END .............max_leaf_nodes=91, min_samples_split=2; total time=   0.0s\n",
      "[CV] END .............max_leaf_nodes=91, min_samples_split=2; total time=   0.0s\n",
      "[CV] END .............max_leaf_nodes=91, min_samples_split=3; total time=   0.0s\n",
      "[CV] END .............max_leaf_nodes=91, min_samples_split=3; total time=   0.0s\n",
      "[CV] END .............max_leaf_nodes=91, min_samples_split=3; total time=   0.0s\n",
      "[CV] END .............max_leaf_nodes=91, min_samples_split=4; total time=   0.0s\n",
      "[CV] END .............max_leaf_nodes=91, min_samples_split=4; total time=   0.0s\n",
      "[CV] END .............max_leaf_nodes=91, min_samples_split=4; total time=   0.0s\n",
      "[CV] END .............max_leaf_nodes=92, min_samples_split=2; total time=   0.0s\n",
      "[CV] END .............max_leaf_nodes=92, min_samples_split=2; total time=   0.0s\n",
      "[CV] END .............max_leaf_nodes=92, min_samples_split=2; total time=   0.0s\n",
      "[CV] END .............max_leaf_nodes=92, min_samples_split=3; total time=   0.0s\n",
      "[CV] END .............max_leaf_nodes=92, min_samples_split=3; total time=   0.0s\n",
      "[CV] END .............max_leaf_nodes=92, min_samples_split=3; total time=   0.0s\n",
      "[CV] END .............max_leaf_nodes=92, min_samples_split=4; total time=   0.0s\n",
      "[CV] END .............max_leaf_nodes=92, min_samples_split=4; total time=   0.0s\n",
      "[CV] END .............max_leaf_nodes=92, min_samples_split=4; total time=   0.0s\n",
      "[CV] END .............max_leaf_nodes=93, min_samples_split=2; total time=   0.0s\n",
      "[CV] END .............max_leaf_nodes=93, min_samples_split=2; total time=   0.0s\n",
      "[CV] END .............max_leaf_nodes=93, min_samples_split=2; total time=   0.0s\n",
      "[CV] END .............max_leaf_nodes=93, min_samples_split=3; total time=   0.0s\n",
      "[CV] END .............max_leaf_nodes=93, min_samples_split=3; total time=   0.0s\n",
      "[CV] END .............max_leaf_nodes=93, min_samples_split=3; total time=   0.0s\n",
      "[CV] END .............max_leaf_nodes=93, min_samples_split=4; total time=   0.0s\n",
      "[CV] END .............max_leaf_nodes=93, min_samples_split=4; total time=   0.0s\n",
      "[CV] END .............max_leaf_nodes=93, min_samples_split=4; total time=   0.0s\n",
      "[CV] END .............max_leaf_nodes=94, min_samples_split=2; total time=   0.0s\n",
      "[CV] END .............max_leaf_nodes=94, min_samples_split=2; total time=   0.0s\n",
      "[CV] END .............max_leaf_nodes=94, min_samples_split=2; total time=   0.0s\n",
      "[CV] END .............max_leaf_nodes=94, min_samples_split=3; total time=   0.0s\n",
      "[CV] END .............max_leaf_nodes=94, min_samples_split=3; total time=   0.0s\n",
      "[CV] END .............max_leaf_nodes=94, min_samples_split=3; total time=   0.0s\n",
      "[CV] END .............max_leaf_nodes=94, min_samples_split=4; total time=   0.0s\n",
      "[CV] END .............max_leaf_nodes=94, min_samples_split=4; total time=   0.0s\n",
      "[CV] END .............max_leaf_nodes=94, min_samples_split=4; total time=   0.0s\n",
      "[CV] END .............max_leaf_nodes=95, min_samples_split=2; total time=   0.0s\n",
      "[CV] END .............max_leaf_nodes=95, min_samples_split=2; total time=   0.0s\n",
      "[CV] END .............max_leaf_nodes=95, min_samples_split=2; total time=   0.0s\n",
      "[CV] END .............max_leaf_nodes=95, min_samples_split=3; total time=   0.0s\n"
     ]
    },
    {
     "name": "stdout",
     "output_type": "stream",
     "text": [
      "[CV] END .............max_leaf_nodes=95, min_samples_split=3; total time=   0.0s\n",
      "[CV] END .............max_leaf_nodes=95, min_samples_split=3; total time=   0.0s\n",
      "[CV] END .............max_leaf_nodes=95, min_samples_split=4; total time=   0.0s\n",
      "[CV] END .............max_leaf_nodes=95, min_samples_split=4; total time=   0.0s\n",
      "[CV] END .............max_leaf_nodes=95, min_samples_split=4; total time=   0.0s\n",
      "[CV] END .............max_leaf_nodes=96, min_samples_split=2; total time=   0.0s\n",
      "[CV] END .............max_leaf_nodes=96, min_samples_split=2; total time=   0.0s\n",
      "[CV] END .............max_leaf_nodes=96, min_samples_split=2; total time=   0.0s\n",
      "[CV] END .............max_leaf_nodes=96, min_samples_split=3; total time=   0.0s\n",
      "[CV] END .............max_leaf_nodes=96, min_samples_split=3; total time=   0.0s\n",
      "[CV] END .............max_leaf_nodes=96, min_samples_split=3; total time=   0.0s\n",
      "[CV] END .............max_leaf_nodes=96, min_samples_split=4; total time=   0.0s\n",
      "[CV] END .............max_leaf_nodes=96, min_samples_split=4; total time=   0.0s\n",
      "[CV] END .............max_leaf_nodes=96, min_samples_split=4; total time=   0.0s\n",
      "[CV] END .............max_leaf_nodes=97, min_samples_split=2; total time=   0.0s\n",
      "[CV] END .............max_leaf_nodes=97, min_samples_split=2; total time=   0.0s\n",
      "[CV] END .............max_leaf_nodes=97, min_samples_split=2; total time=   0.0s\n",
      "[CV] END .............max_leaf_nodes=97, min_samples_split=3; total time=   0.0s\n",
      "[CV] END .............max_leaf_nodes=97, min_samples_split=3; total time=   0.0s\n",
      "[CV] END .............max_leaf_nodes=97, min_samples_split=3; total time=   0.0s\n",
      "[CV] END .............max_leaf_nodes=97, min_samples_split=4; total time=   0.0s\n",
      "[CV] END .............max_leaf_nodes=97, min_samples_split=4; total time=   0.0s\n",
      "[CV] END .............max_leaf_nodes=97, min_samples_split=4; total time=   0.0s\n",
      "[CV] END .............max_leaf_nodes=98, min_samples_split=2; total time=   0.0s\n",
      "[CV] END .............max_leaf_nodes=98, min_samples_split=2; total time=   0.0s\n",
      "[CV] END .............max_leaf_nodes=98, min_samples_split=2; total time=   0.0s\n",
      "[CV] END .............max_leaf_nodes=98, min_samples_split=3; total time=   0.0s\n",
      "[CV] END .............max_leaf_nodes=98, min_samples_split=3; total time=   0.0s\n",
      "[CV] END .............max_leaf_nodes=98, min_samples_split=3; total time=   0.0s\n",
      "[CV] END .............max_leaf_nodes=98, min_samples_split=4; total time=   0.0s\n",
      "[CV] END .............max_leaf_nodes=98, min_samples_split=4; total time=   0.0s\n",
      "[CV] END .............max_leaf_nodes=98, min_samples_split=4; total time=   0.0s\n",
      "[CV] END .............max_leaf_nodes=99, min_samples_split=2; total time=   0.0s\n",
      "[CV] END .............max_leaf_nodes=99, min_samples_split=2; total time=   0.0s\n",
      "[CV] END .............max_leaf_nodes=99, min_samples_split=2; total time=   0.0s\n",
      "[CV] END .............max_leaf_nodes=99, min_samples_split=3; total time=   0.0s\n",
      "[CV] END .............max_leaf_nodes=99, min_samples_split=3; total time=   0.0s\n",
      "[CV] END .............max_leaf_nodes=99, min_samples_split=3; total time=   0.0s\n",
      "[CV] END .............max_leaf_nodes=99, min_samples_split=4; total time=   0.0s\n",
      "[CV] END .............max_leaf_nodes=99, min_samples_split=4; total time=   0.0s\n",
      "[CV] END .............max_leaf_nodes=99, min_samples_split=4; total time=   0.0s\n"
     ]
    },
    {
     "data": {
      "text/html": [
       "<style>#sk-container-id-6 {color: black;background-color: white;}#sk-container-id-6 pre{padding: 0;}#sk-container-id-6 div.sk-toggleable {background-color: white;}#sk-container-id-6 label.sk-toggleable__label {cursor: pointer;display: block;width: 100%;margin-bottom: 0;padding: 0.3em;box-sizing: border-box;text-align: center;}#sk-container-id-6 label.sk-toggleable__label-arrow:before {content: \"▸\";float: left;margin-right: 0.25em;color: #696969;}#sk-container-id-6 label.sk-toggleable__label-arrow:hover:before {color: black;}#sk-container-id-6 div.sk-estimator:hover label.sk-toggleable__label-arrow:before {color: black;}#sk-container-id-6 div.sk-toggleable__content {max-height: 0;max-width: 0;overflow: hidden;text-align: left;background-color: #f0f8ff;}#sk-container-id-6 div.sk-toggleable__content pre {margin: 0.2em;color: black;border-radius: 0.25em;background-color: #f0f8ff;}#sk-container-id-6 input.sk-toggleable__control:checked~div.sk-toggleable__content {max-height: 200px;max-width: 100%;overflow: auto;}#sk-container-id-6 input.sk-toggleable__control:checked~label.sk-toggleable__label-arrow:before {content: \"▾\";}#sk-container-id-6 div.sk-estimator input.sk-toggleable__control:checked~label.sk-toggleable__label {background-color: #d4ebff;}#sk-container-id-6 div.sk-label input.sk-toggleable__control:checked~label.sk-toggleable__label {background-color: #d4ebff;}#sk-container-id-6 input.sk-hidden--visually {border: 0;clip: rect(1px 1px 1px 1px);clip: rect(1px, 1px, 1px, 1px);height: 1px;margin: -1px;overflow: hidden;padding: 0;position: absolute;width: 1px;}#sk-container-id-6 div.sk-estimator {font-family: monospace;background-color: #f0f8ff;border: 1px dotted black;border-radius: 0.25em;box-sizing: border-box;margin-bottom: 0.5em;}#sk-container-id-6 div.sk-estimator:hover {background-color: #d4ebff;}#sk-container-id-6 div.sk-parallel-item::after {content: \"\";width: 100%;border-bottom: 1px solid gray;flex-grow: 1;}#sk-container-id-6 div.sk-label:hover label.sk-toggleable__label {background-color: #d4ebff;}#sk-container-id-6 div.sk-serial::before {content: \"\";position: absolute;border-left: 1px solid gray;box-sizing: border-box;top: 0;bottom: 0;left: 50%;z-index: 0;}#sk-container-id-6 div.sk-serial {display: flex;flex-direction: column;align-items: center;background-color: white;padding-right: 0.2em;padding-left: 0.2em;position: relative;}#sk-container-id-6 div.sk-item {position: relative;z-index: 1;}#sk-container-id-6 div.sk-parallel {display: flex;align-items: stretch;justify-content: center;background-color: white;position: relative;}#sk-container-id-6 div.sk-item::before, #sk-container-id-6 div.sk-parallel-item::before {content: \"\";position: absolute;border-left: 1px solid gray;box-sizing: border-box;top: 0;bottom: 0;left: 50%;z-index: -1;}#sk-container-id-6 div.sk-parallel-item {display: flex;flex-direction: column;z-index: 1;position: relative;background-color: white;}#sk-container-id-6 div.sk-parallel-item:first-child::after {align-self: flex-end;width: 50%;}#sk-container-id-6 div.sk-parallel-item:last-child::after {align-self: flex-start;width: 50%;}#sk-container-id-6 div.sk-parallel-item:only-child::after {width: 0;}#sk-container-id-6 div.sk-dashed-wrapped {border: 1px dashed gray;margin: 0 0.4em 0.5em 0.4em;box-sizing: border-box;padding-bottom: 0.4em;background-color: white;}#sk-container-id-6 div.sk-label label {font-family: monospace;font-weight: bold;display: inline-block;line-height: 1.2em;}#sk-container-id-6 div.sk-label-container {text-align: center;}#sk-container-id-6 div.sk-container {/* jupyter's `normalize.less` sets `[hidden] { display: none; }` but bootstrap.min.css set `[hidden] { display: none !important; }` so we also need the `!important` here to be able to override the default hidden behavior on the sphinx rendered scikit-learn.org. See: https://github.com/scikit-learn/scikit-learn/issues/21755 */display: inline-block !important;position: relative;}#sk-container-id-6 div.sk-text-repr-fallback {display: none;}</style><div id=\"sk-container-id-6\" class=\"sk-top-container\"><div class=\"sk-text-repr-fallback\"><pre>GridSearchCV(cv=3, estimator=DecisionTreeClassifier(random_state=42),\n",
       "             param_grid={&#x27;max_leaf_nodes&#x27;: [2, 3, 4, 5, 6, 7, 8, 9, 10, 11, 12,\n",
       "                                            13, 14, 15, 16, 17, 18, 19, 20, 21,\n",
       "                                            22, 23, 24, 25, 26, 27, 28, 29, 30,\n",
       "                                            31, ...],\n",
       "                         &#x27;min_samples_split&#x27;: [2, 3, 4]},\n",
       "             verbose=2)</pre><b>In a Jupyter environment, please rerun this cell to show the HTML representation or trust the notebook. <br />On GitHub, the HTML representation is unable to render, please try loading this page with nbviewer.org.</b></div><div class=\"sk-container\" hidden><div class=\"sk-item sk-dashed-wrapped\"><div class=\"sk-label-container\"><div class=\"sk-label sk-toggleable\"><input class=\"sk-toggleable__control sk-hidden--visually\" id=\"sk-estimator-id-13\" type=\"checkbox\" ><label for=\"sk-estimator-id-13\" class=\"sk-toggleable__label sk-toggleable__label-arrow\">GridSearchCV</label><div class=\"sk-toggleable__content\"><pre>GridSearchCV(cv=3, estimator=DecisionTreeClassifier(random_state=42),\n",
       "             param_grid={&#x27;max_leaf_nodes&#x27;: [2, 3, 4, 5, 6, 7, 8, 9, 10, 11, 12,\n",
       "                                            13, 14, 15, 16, 17, 18, 19, 20, 21,\n",
       "                                            22, 23, 24, 25, 26, 27, 28, 29, 30,\n",
       "                                            31, ...],\n",
       "                         &#x27;min_samples_split&#x27;: [2, 3, 4]},\n",
       "             verbose=2)</pre></div></div></div><div class=\"sk-parallel\"><div class=\"sk-parallel-item\"><div class=\"sk-item\"><div class=\"sk-label-container\"><div class=\"sk-label sk-toggleable\"><input class=\"sk-toggleable__control sk-hidden--visually\" id=\"sk-estimator-id-14\" type=\"checkbox\" ><label for=\"sk-estimator-id-14\" class=\"sk-toggleable__label sk-toggleable__label-arrow\">estimator: DecisionTreeClassifier</label><div class=\"sk-toggleable__content\"><pre>DecisionTreeClassifier(random_state=42)</pre></div></div></div><div class=\"sk-serial\"><div class=\"sk-item\"><div class=\"sk-estimator sk-toggleable\"><input class=\"sk-toggleable__control sk-hidden--visually\" id=\"sk-estimator-id-15\" type=\"checkbox\" ><label for=\"sk-estimator-id-15\" class=\"sk-toggleable__label sk-toggleable__label-arrow\">DecisionTreeClassifier</label><div class=\"sk-toggleable__content\"><pre>DecisionTreeClassifier(random_state=42)</pre></div></div></div></div></div></div></div></div></div></div>"
      ],
      "text/plain": [
       "GridSearchCV(cv=3, estimator=DecisionTreeClassifier(random_state=42),\n",
       "             param_grid={'max_leaf_nodes': [2, 3, 4, 5, 6, 7, 8, 9, 10, 11, 12,\n",
       "                                            13, 14, 15, 16, 17, 18, 19, 20, 21,\n",
       "                                            22, 23, 24, 25, 26, 27, 28, 29, 30,\n",
       "                                            31, ...],\n",
       "                         'min_samples_split': [2, 3, 4]},\n",
       "             verbose=2)"
      ]
     },
     "execution_count": 14,
     "metadata": {},
     "output_type": "execute_result"
    }
   ],
   "source": [
    "# Find good hyperparameter values for Decision Tree\n",
    "params = {\"max_leaf_nodes\": list(range(2, 100)), \"min_samples_split\": [2, 3, 4]}\n",
    "grid_search = GridSearchCV(DecisionTreeClassifier(random_state=42), params, verbose=2, cv=3)\n",
    "grid_search.fit(X_train, y_train)"
   ]
  },
  {
   "cell_type": "code",
   "execution_count": 15,
   "id": "2de714de",
   "metadata": {},
   "outputs": [
    {
     "data": {
      "text/html": [
       "<style>#sk-container-id-7 {color: black;background-color: white;}#sk-container-id-7 pre{padding: 0;}#sk-container-id-7 div.sk-toggleable {background-color: white;}#sk-container-id-7 label.sk-toggleable__label {cursor: pointer;display: block;width: 100%;margin-bottom: 0;padding: 0.3em;box-sizing: border-box;text-align: center;}#sk-container-id-7 label.sk-toggleable__label-arrow:before {content: \"▸\";float: left;margin-right: 0.25em;color: #696969;}#sk-container-id-7 label.sk-toggleable__label-arrow:hover:before {color: black;}#sk-container-id-7 div.sk-estimator:hover label.sk-toggleable__label-arrow:before {color: black;}#sk-container-id-7 div.sk-toggleable__content {max-height: 0;max-width: 0;overflow: hidden;text-align: left;background-color: #f0f8ff;}#sk-container-id-7 div.sk-toggleable__content pre {margin: 0.2em;color: black;border-radius: 0.25em;background-color: #f0f8ff;}#sk-container-id-7 input.sk-toggleable__control:checked~div.sk-toggleable__content {max-height: 200px;max-width: 100%;overflow: auto;}#sk-container-id-7 input.sk-toggleable__control:checked~label.sk-toggleable__label-arrow:before {content: \"▾\";}#sk-container-id-7 div.sk-estimator input.sk-toggleable__control:checked~label.sk-toggleable__label {background-color: #d4ebff;}#sk-container-id-7 div.sk-label input.sk-toggleable__control:checked~label.sk-toggleable__label {background-color: #d4ebff;}#sk-container-id-7 input.sk-hidden--visually {border: 0;clip: rect(1px 1px 1px 1px);clip: rect(1px, 1px, 1px, 1px);height: 1px;margin: -1px;overflow: hidden;padding: 0;position: absolute;width: 1px;}#sk-container-id-7 div.sk-estimator {font-family: monospace;background-color: #f0f8ff;border: 1px dotted black;border-radius: 0.25em;box-sizing: border-box;margin-bottom: 0.5em;}#sk-container-id-7 div.sk-estimator:hover {background-color: #d4ebff;}#sk-container-id-7 div.sk-parallel-item::after {content: \"\";width: 100%;border-bottom: 1px solid gray;flex-grow: 1;}#sk-container-id-7 div.sk-label:hover label.sk-toggleable__label {background-color: #d4ebff;}#sk-container-id-7 div.sk-serial::before {content: \"\";position: absolute;border-left: 1px solid gray;box-sizing: border-box;top: 0;bottom: 0;left: 50%;z-index: 0;}#sk-container-id-7 div.sk-serial {display: flex;flex-direction: column;align-items: center;background-color: white;padding-right: 0.2em;padding-left: 0.2em;position: relative;}#sk-container-id-7 div.sk-item {position: relative;z-index: 1;}#sk-container-id-7 div.sk-parallel {display: flex;align-items: stretch;justify-content: center;background-color: white;position: relative;}#sk-container-id-7 div.sk-item::before, #sk-container-id-7 div.sk-parallel-item::before {content: \"\";position: absolute;border-left: 1px solid gray;box-sizing: border-box;top: 0;bottom: 0;left: 50%;z-index: -1;}#sk-container-id-7 div.sk-parallel-item {display: flex;flex-direction: column;z-index: 1;position: relative;background-color: white;}#sk-container-id-7 div.sk-parallel-item:first-child::after {align-self: flex-end;width: 50%;}#sk-container-id-7 div.sk-parallel-item:last-child::after {align-self: flex-start;width: 50%;}#sk-container-id-7 div.sk-parallel-item:only-child::after {width: 0;}#sk-container-id-7 div.sk-dashed-wrapped {border: 1px dashed gray;margin: 0 0.4em 0.5em 0.4em;box-sizing: border-box;padding-bottom: 0.4em;background-color: white;}#sk-container-id-7 div.sk-label label {font-family: monospace;font-weight: bold;display: inline-block;line-height: 1.2em;}#sk-container-id-7 div.sk-label-container {text-align: center;}#sk-container-id-7 div.sk-container {/* jupyter's `normalize.less` sets `[hidden] { display: none; }` but bootstrap.min.css set `[hidden] { display: none !important; }` so we also need the `!important` here to be able to override the default hidden behavior on the sphinx rendered scikit-learn.org. See: https://github.com/scikit-learn/scikit-learn/issues/21755 */display: inline-block !important;position: relative;}#sk-container-id-7 div.sk-text-repr-fallback {display: none;}</style><div id=\"sk-container-id-7\" class=\"sk-top-container\"><div class=\"sk-text-repr-fallback\"><pre>DecisionTreeClassifier(max_leaf_nodes=17, random_state=42)</pre><b>In a Jupyter environment, please rerun this cell to show the HTML representation or trust the notebook. <br />On GitHub, the HTML representation is unable to render, please try loading this page with nbviewer.org.</b></div><div class=\"sk-container\" hidden><div class=\"sk-item\"><div class=\"sk-estimator sk-toggleable\"><input class=\"sk-toggleable__control sk-hidden--visually\" id=\"sk-estimator-id-16\" type=\"checkbox\" checked><label for=\"sk-estimator-id-16\" class=\"sk-toggleable__label sk-toggleable__label-arrow\">DecisionTreeClassifier</label><div class=\"sk-toggleable__content\"><pre>DecisionTreeClassifier(max_leaf_nodes=17, random_state=42)</pre></div></div></div></div></div>"
      ],
      "text/plain": [
       "DecisionTreeClassifier(max_leaf_nodes=17, random_state=42)"
      ]
     },
     "execution_count": 15,
     "metadata": {},
     "output_type": "execute_result"
    }
   ],
   "source": [
    "grid_search.best_estimator_"
   ]
  },
  {
   "cell_type": "code",
   "execution_count": 16,
   "id": "d3f7e057",
   "metadata": {},
   "outputs": [
    {
     "data": {
      "text/plain": [
       "0.8555001986342105"
      ]
     },
     "execution_count": 16,
     "metadata": {},
     "output_type": "execute_result"
    }
   ],
   "source": [
    "grid_search.best_score_"
   ]
  },
  {
   "cell_type": "code",
   "execution_count": 17,
   "id": "4d8d9031",
   "metadata": {},
   "outputs": [
    {
     "data": {
      "text/plain": [
       "0.8695"
      ]
     },
     "execution_count": 17,
     "metadata": {},
     "output_type": "execute_result"
    }
   ],
   "source": [
    "# Compute accuracy of the model on the test set\n",
    "y_pred = grid_search.predict(X_test)\n",
    "accuracy_score(y_test, y_pred)"
   ]
  },
  {
   "cell_type": "markdown",
   "id": "e309bb16",
   "metadata": {},
   "source": [
    "### Grow a Forest"
   ]
  },
  {
   "cell_type": "code",
   "execution_count": 18,
   "id": "2abd4d91",
   "metadata": {},
   "outputs": [],
   "source": [
    "# Create 1000 subsets using ShuffleSplit class\n",
    "n_trees = 1000\n",
    "n_instances = 100\n",
    "\n",
    "mini_set = []\n",
    "rand_split = ShuffleSplit(n_splits=n_trees, test_size=len(X_train) - n_instances, random_state=42)\n",
    "for mini_train_index, mini_test_index in rand_split.split(X_train):\n",
    "    X_mini_train = X_train[mini_train_index]\n",
    "    y_mini_train = y_train[mini_train_index]\n",
    "    mini_set.append((X_mini_train, y_mini_train))"
   ]
  },
  {
   "cell_type": "code",
   "execution_count": 19,
   "id": "000d76a7",
   "metadata": {},
   "outputs": [
    {
     "data": {
      "text/plain": [
       "0.805471"
      ]
     },
     "execution_count": 19,
     "metadata": {},
     "output_type": "execute_result"
    }
   ],
   "source": [
    "# Train Decision Tree on each subset using the best hyperparameter values\n",
    "forest = [clone(grid_search.best_estimator_) for _ in range(n_trees)]\n",
    "\n",
    "# Find accuracy scores\n",
    "accuracy_scores = []\n",
    "for tree, (X_mini_train, y_mini_train) in zip(forest, mini_set):\n",
    "    tree.fit(X_mini_train, y_mini_train)\n",
    "    y_pred = tree.predict(X_test)\n",
    "    accuracy_scores.append(accuracy_score(y_test, y_pred))\n",
    "\n",
    "# Compute average accuracy score\n",
    "np.mean(accuracy_scores)"
   ]
  },
  {
   "cell_type": "code",
   "execution_count": 20,
   "id": "28ec525d",
   "metadata": {},
   "outputs": [],
   "source": [
    "# Find the majority-vote predictions over the test set\n",
    "Y_pred = np.empty([n_trees, len(X_test)], dtype=np.uint8)\n",
    "\n",
    "for tree_index, tree in enumerate(forest):\n",
    "    Y_pred[tree_index] = tree.predict(X_test)\n",
    "    \n",
    "y_pred_majority_votes, n_votes = mode(Y_pred, axis=0, keepdims=False)"
   ]
  },
  {
   "cell_type": "code",
   "execution_count": 21,
   "id": "03bd1aa0",
   "metadata": {},
   "outputs": [
    {
     "data": {
      "text/plain": [
       "0.872"
      ]
     },
     "execution_count": 21,
     "metadata": {},
     "output_type": "execute_result"
    }
   ],
   "source": [
    "# Evaluate predictions on the test set\n",
    "accuracy_score(y_test, y_pred_majority_votes.reshape([-1]))"
   ]
  },
  {
   "cell_type": "markdown",
   "id": "e1b1fc9a",
   "metadata": {},
   "source": [
    "The accuracy score is slightly higher than 86.9% that was obtain using GridSearchCV."
   ]
  },
  {
   "cell_type": "markdown",
   "id": "3b56820d",
   "metadata": {},
   "source": [
    "## Voting Classifier"
   ]
  },
  {
   "cell_type": "markdown",
   "id": "f5e1b397",
   "metadata": {},
   "source": [
    "Compare `VotingClassifier` to individual classifiers such as `LogisticRegression`, `SVM` and `RandomForestClassifier` using `hard` and `soft` voting."
   ]
  },
  {
   "cell_type": "code",
   "execution_count": 18,
   "id": "68bcd39e",
   "metadata": {},
   "outputs": [],
   "source": [
    "X, y = make_moons(n_samples=500, noise=0.3, random_state=42)\n",
    "X_train, X_test, y_train, y_test = train_test_split(X, y, random_state=42)"
   ]
  },
  {
   "cell_type": "code",
   "execution_count": 3,
   "id": "efe88e32",
   "metadata": {},
   "outputs": [
    {
     "data": {
      "text/html": [
       "<style>#sk-container-id-1 {color: black;background-color: white;}#sk-container-id-1 pre{padding: 0;}#sk-container-id-1 div.sk-toggleable {background-color: white;}#sk-container-id-1 label.sk-toggleable__label {cursor: pointer;display: block;width: 100%;margin-bottom: 0;padding: 0.3em;box-sizing: border-box;text-align: center;}#sk-container-id-1 label.sk-toggleable__label-arrow:before {content: \"▸\";float: left;margin-right: 0.25em;color: #696969;}#sk-container-id-1 label.sk-toggleable__label-arrow:hover:before {color: black;}#sk-container-id-1 div.sk-estimator:hover label.sk-toggleable__label-arrow:before {color: black;}#sk-container-id-1 div.sk-toggleable__content {max-height: 0;max-width: 0;overflow: hidden;text-align: left;background-color: #f0f8ff;}#sk-container-id-1 div.sk-toggleable__content pre {margin: 0.2em;color: black;border-radius: 0.25em;background-color: #f0f8ff;}#sk-container-id-1 input.sk-toggleable__control:checked~div.sk-toggleable__content {max-height: 200px;max-width: 100%;overflow: auto;}#sk-container-id-1 input.sk-toggleable__control:checked~label.sk-toggleable__label-arrow:before {content: \"▾\";}#sk-container-id-1 div.sk-estimator input.sk-toggleable__control:checked~label.sk-toggleable__label {background-color: #d4ebff;}#sk-container-id-1 div.sk-label input.sk-toggleable__control:checked~label.sk-toggleable__label {background-color: #d4ebff;}#sk-container-id-1 input.sk-hidden--visually {border: 0;clip: rect(1px 1px 1px 1px);clip: rect(1px, 1px, 1px, 1px);height: 1px;margin: -1px;overflow: hidden;padding: 0;position: absolute;width: 1px;}#sk-container-id-1 div.sk-estimator {font-family: monospace;background-color: #f0f8ff;border: 1px dotted black;border-radius: 0.25em;box-sizing: border-box;margin-bottom: 0.5em;}#sk-container-id-1 div.sk-estimator:hover {background-color: #d4ebff;}#sk-container-id-1 div.sk-parallel-item::after {content: \"\";width: 100%;border-bottom: 1px solid gray;flex-grow: 1;}#sk-container-id-1 div.sk-label:hover label.sk-toggleable__label {background-color: #d4ebff;}#sk-container-id-1 div.sk-serial::before {content: \"\";position: absolute;border-left: 1px solid gray;box-sizing: border-box;top: 0;bottom: 0;left: 50%;z-index: 0;}#sk-container-id-1 div.sk-serial {display: flex;flex-direction: column;align-items: center;background-color: white;padding-right: 0.2em;padding-left: 0.2em;position: relative;}#sk-container-id-1 div.sk-item {position: relative;z-index: 1;}#sk-container-id-1 div.sk-parallel {display: flex;align-items: stretch;justify-content: center;background-color: white;position: relative;}#sk-container-id-1 div.sk-item::before, #sk-container-id-1 div.sk-parallel-item::before {content: \"\";position: absolute;border-left: 1px solid gray;box-sizing: border-box;top: 0;bottom: 0;left: 50%;z-index: -1;}#sk-container-id-1 div.sk-parallel-item {display: flex;flex-direction: column;z-index: 1;position: relative;background-color: white;}#sk-container-id-1 div.sk-parallel-item:first-child::after {align-self: flex-end;width: 50%;}#sk-container-id-1 div.sk-parallel-item:last-child::after {align-self: flex-start;width: 50%;}#sk-container-id-1 div.sk-parallel-item:only-child::after {width: 0;}#sk-container-id-1 div.sk-dashed-wrapped {border: 1px dashed gray;margin: 0 0.4em 0.5em 0.4em;box-sizing: border-box;padding-bottom: 0.4em;background-color: white;}#sk-container-id-1 div.sk-label label {font-family: monospace;font-weight: bold;display: inline-block;line-height: 1.2em;}#sk-container-id-1 div.sk-label-container {text-align: center;}#sk-container-id-1 div.sk-container {/* jupyter's `normalize.less` sets `[hidden] { display: none; }` but bootstrap.min.css set `[hidden] { display: none !important; }` so we also need the `!important` here to be able to override the default hidden behavior on the sphinx rendered scikit-learn.org. See: https://github.com/scikit-learn/scikit-learn/issues/21755 */display: inline-block !important;position: relative;}#sk-container-id-1 div.sk-text-repr-fallback {display: none;}</style><div id=\"sk-container-id-1\" class=\"sk-top-container\"><div class=\"sk-text-repr-fallback\"><pre>VotingClassifier(estimators=[(&#x27;lr&#x27;, LogisticRegression()), (&#x27;svm&#x27;, SVC()),\n",
       "                             (&#x27;rf&#x27;, RandomForestClassifier())])</pre><b>In a Jupyter environment, please rerun this cell to show the HTML representation or trust the notebook. <br />On GitHub, the HTML representation is unable to render, please try loading this page with nbviewer.org.</b></div><div class=\"sk-container\" hidden><div class=\"sk-item sk-dashed-wrapped\"><div class=\"sk-label-container\"><div class=\"sk-label sk-toggleable\"><input class=\"sk-toggleable__control sk-hidden--visually\" id=\"sk-estimator-id-1\" type=\"checkbox\" ><label for=\"sk-estimator-id-1\" class=\"sk-toggleable__label sk-toggleable__label-arrow\">VotingClassifier</label><div class=\"sk-toggleable__content\"><pre>VotingClassifier(estimators=[(&#x27;lr&#x27;, LogisticRegression()), (&#x27;svm&#x27;, SVC()),\n",
       "                             (&#x27;rf&#x27;, RandomForestClassifier())])</pre></div></div></div><div class=\"sk-parallel\"><div class=\"sk-parallel-item\"><div class=\"sk-item\"><div class=\"sk-label-container\"><div class=\"sk-label sk-toggleable\"><label>lr</label></div></div><div class=\"sk-serial\"><div class=\"sk-item\"><div class=\"sk-estimator sk-toggleable\"><input class=\"sk-toggleable__control sk-hidden--visually\" id=\"sk-estimator-id-2\" type=\"checkbox\" ><label for=\"sk-estimator-id-2\" class=\"sk-toggleable__label sk-toggleable__label-arrow\">LogisticRegression</label><div class=\"sk-toggleable__content\"><pre>LogisticRegression()</pre></div></div></div></div></div></div><div class=\"sk-parallel-item\"><div class=\"sk-item\"><div class=\"sk-label-container\"><div class=\"sk-label sk-toggleable\"><label>svm</label></div></div><div class=\"sk-serial\"><div class=\"sk-item\"><div class=\"sk-estimator sk-toggleable\"><input class=\"sk-toggleable__control sk-hidden--visually\" id=\"sk-estimator-id-3\" type=\"checkbox\" ><label for=\"sk-estimator-id-3\" class=\"sk-toggleable__label sk-toggleable__label-arrow\">SVC</label><div class=\"sk-toggleable__content\"><pre>SVC()</pre></div></div></div></div></div></div><div class=\"sk-parallel-item\"><div class=\"sk-item\"><div class=\"sk-label-container\"><div class=\"sk-label sk-toggleable\"><label>rf</label></div></div><div class=\"sk-serial\"><div class=\"sk-item\"><div class=\"sk-estimator sk-toggleable\"><input class=\"sk-toggleable__control sk-hidden--visually\" id=\"sk-estimator-id-4\" type=\"checkbox\" ><label for=\"sk-estimator-id-4\" class=\"sk-toggleable__label sk-toggleable__label-arrow\">RandomForestClassifier</label><div class=\"sk-toggleable__content\"><pre>RandomForestClassifier()</pre></div></div></div></div></div></div></div></div></div></div>"
      ],
      "text/plain": [
       "VotingClassifier(estimators=[('lr', LogisticRegression()), ('svm', SVC()),\n",
       "                             ('rf', RandomForestClassifier())])"
      ]
     },
     "execution_count": 3,
     "metadata": {},
     "output_type": "execute_result"
    }
   ],
   "source": [
    "log_clf = LogisticRegression()\n",
    "svm_clf = SVC()\n",
    "rf_clf = RandomForestClassifier()\n",
    "\n",
    "voting_clf = VotingClassifier(\n",
    "    estimators=[('lr', log_clf), ('svm', svm_clf), ('rf', rf_clf)],\n",
    "    voting=\"hard\")\n",
    "voting_clf.fit(X_train, y_train)"
   ]
  },
  {
   "cell_type": "markdown",
   "id": "c9659bfb",
   "metadata": {},
   "source": [
    "Check the accuracy score for each classifier."
   ]
  },
  {
   "cell_type": "code",
   "execution_count": 4,
   "id": "bbb6eeb2",
   "metadata": {},
   "outputs": [
    {
     "name": "stdout",
     "output_type": "stream",
     "text": [
      "LogisticRegression 0.864\n",
      "SVC 0.896\n",
      "RandomForestClassifier 0.904\n",
      "VotingClassifier 0.904\n"
     ]
    }
   ],
   "source": [
    "for clf in (log_clf, svm_clf, rf_clf, voting_clf):\n",
    "    clf.fit(X_train, y_train)\n",
    "    y_pred = clf.predict(X_test)\n",
    "    print(clf.__class__.__name__, accuracy_score(y_test, y_pred))"
   ]
  },
  {
   "cell_type": "markdown",
   "id": "02be54d9",
   "metadata": {},
   "source": [
    "The voting classifier slightly outperforms all the individual classifiers. Check the performance using `soft` voting."
   ]
  },
  {
   "cell_type": "code",
   "execution_count": 8,
   "id": "eaaa6388",
   "metadata": {},
   "outputs": [
    {
     "data": {
      "text/html": [
       "<style>#sk-container-id-2 {color: black;background-color: white;}#sk-container-id-2 pre{padding: 0;}#sk-container-id-2 div.sk-toggleable {background-color: white;}#sk-container-id-2 label.sk-toggleable__label {cursor: pointer;display: block;width: 100%;margin-bottom: 0;padding: 0.3em;box-sizing: border-box;text-align: center;}#sk-container-id-2 label.sk-toggleable__label-arrow:before {content: \"▸\";float: left;margin-right: 0.25em;color: #696969;}#sk-container-id-2 label.sk-toggleable__label-arrow:hover:before {color: black;}#sk-container-id-2 div.sk-estimator:hover label.sk-toggleable__label-arrow:before {color: black;}#sk-container-id-2 div.sk-toggleable__content {max-height: 0;max-width: 0;overflow: hidden;text-align: left;background-color: #f0f8ff;}#sk-container-id-2 div.sk-toggleable__content pre {margin: 0.2em;color: black;border-radius: 0.25em;background-color: #f0f8ff;}#sk-container-id-2 input.sk-toggleable__control:checked~div.sk-toggleable__content {max-height: 200px;max-width: 100%;overflow: auto;}#sk-container-id-2 input.sk-toggleable__control:checked~label.sk-toggleable__label-arrow:before {content: \"▾\";}#sk-container-id-2 div.sk-estimator input.sk-toggleable__control:checked~label.sk-toggleable__label {background-color: #d4ebff;}#sk-container-id-2 div.sk-label input.sk-toggleable__control:checked~label.sk-toggleable__label {background-color: #d4ebff;}#sk-container-id-2 input.sk-hidden--visually {border: 0;clip: rect(1px 1px 1px 1px);clip: rect(1px, 1px, 1px, 1px);height: 1px;margin: -1px;overflow: hidden;padding: 0;position: absolute;width: 1px;}#sk-container-id-2 div.sk-estimator {font-family: monospace;background-color: #f0f8ff;border: 1px dotted black;border-radius: 0.25em;box-sizing: border-box;margin-bottom: 0.5em;}#sk-container-id-2 div.sk-estimator:hover {background-color: #d4ebff;}#sk-container-id-2 div.sk-parallel-item::after {content: \"\";width: 100%;border-bottom: 1px solid gray;flex-grow: 1;}#sk-container-id-2 div.sk-label:hover label.sk-toggleable__label {background-color: #d4ebff;}#sk-container-id-2 div.sk-serial::before {content: \"\";position: absolute;border-left: 1px solid gray;box-sizing: border-box;top: 0;bottom: 0;left: 50%;z-index: 0;}#sk-container-id-2 div.sk-serial {display: flex;flex-direction: column;align-items: center;background-color: white;padding-right: 0.2em;padding-left: 0.2em;position: relative;}#sk-container-id-2 div.sk-item {position: relative;z-index: 1;}#sk-container-id-2 div.sk-parallel {display: flex;align-items: stretch;justify-content: center;background-color: white;position: relative;}#sk-container-id-2 div.sk-item::before, #sk-container-id-2 div.sk-parallel-item::before {content: \"\";position: absolute;border-left: 1px solid gray;box-sizing: border-box;top: 0;bottom: 0;left: 50%;z-index: -1;}#sk-container-id-2 div.sk-parallel-item {display: flex;flex-direction: column;z-index: 1;position: relative;background-color: white;}#sk-container-id-2 div.sk-parallel-item:first-child::after {align-self: flex-end;width: 50%;}#sk-container-id-2 div.sk-parallel-item:last-child::after {align-self: flex-start;width: 50%;}#sk-container-id-2 div.sk-parallel-item:only-child::after {width: 0;}#sk-container-id-2 div.sk-dashed-wrapped {border: 1px dashed gray;margin: 0 0.4em 0.5em 0.4em;box-sizing: border-box;padding-bottom: 0.4em;background-color: white;}#sk-container-id-2 div.sk-label label {font-family: monospace;font-weight: bold;display: inline-block;line-height: 1.2em;}#sk-container-id-2 div.sk-label-container {text-align: center;}#sk-container-id-2 div.sk-container {/* jupyter's `normalize.less` sets `[hidden] { display: none; }` but bootstrap.min.css set `[hidden] { display: none !important; }` so we also need the `!important` here to be able to override the default hidden behavior on the sphinx rendered scikit-learn.org. See: https://github.com/scikit-learn/scikit-learn/issues/21755 */display: inline-block !important;position: relative;}#sk-container-id-2 div.sk-text-repr-fallback {display: none;}</style><div id=\"sk-container-id-2\" class=\"sk-top-container\"><div class=\"sk-text-repr-fallback\"><pre>VotingClassifier(estimators=[(&#x27;lr&#x27;, LogisticRegression()), (&#x27;svm&#x27;, SVC()),\n",
       "                             (&#x27;rf&#x27;, RandomForestClassifier())],\n",
       "                 voting=&#x27;soft&#x27;)</pre><b>In a Jupyter environment, please rerun this cell to show the HTML representation or trust the notebook. <br />On GitHub, the HTML representation is unable to render, please try loading this page with nbviewer.org.</b></div><div class=\"sk-container\" hidden><div class=\"sk-item sk-dashed-wrapped\"><div class=\"sk-label-container\"><div class=\"sk-label sk-toggleable\"><input class=\"sk-toggleable__control sk-hidden--visually\" id=\"sk-estimator-id-5\" type=\"checkbox\" ><label for=\"sk-estimator-id-5\" class=\"sk-toggleable__label sk-toggleable__label-arrow\">VotingClassifier</label><div class=\"sk-toggleable__content\"><pre>VotingClassifier(estimators=[(&#x27;lr&#x27;, LogisticRegression()), (&#x27;svm&#x27;, SVC()),\n",
       "                             (&#x27;rf&#x27;, RandomForestClassifier())],\n",
       "                 voting=&#x27;soft&#x27;)</pre></div></div></div><div class=\"sk-parallel\"><div class=\"sk-parallel-item\"><div class=\"sk-item\"><div class=\"sk-label-container\"><div class=\"sk-label sk-toggleable\"><label>lr</label></div></div><div class=\"sk-serial\"><div class=\"sk-item\"><div class=\"sk-estimator sk-toggleable\"><input class=\"sk-toggleable__control sk-hidden--visually\" id=\"sk-estimator-id-6\" type=\"checkbox\" ><label for=\"sk-estimator-id-6\" class=\"sk-toggleable__label sk-toggleable__label-arrow\">LogisticRegression</label><div class=\"sk-toggleable__content\"><pre>LogisticRegression()</pre></div></div></div></div></div></div><div class=\"sk-parallel-item\"><div class=\"sk-item\"><div class=\"sk-label-container\"><div class=\"sk-label sk-toggleable\"><label>svm</label></div></div><div class=\"sk-serial\"><div class=\"sk-item\"><div class=\"sk-estimator sk-toggleable\"><input class=\"sk-toggleable__control sk-hidden--visually\" id=\"sk-estimator-id-7\" type=\"checkbox\" ><label for=\"sk-estimator-id-7\" class=\"sk-toggleable__label sk-toggleable__label-arrow\">SVC</label><div class=\"sk-toggleable__content\"><pre>SVC()</pre></div></div></div></div></div></div><div class=\"sk-parallel-item\"><div class=\"sk-item\"><div class=\"sk-label-container\"><div class=\"sk-label sk-toggleable\"><label>rf</label></div></div><div class=\"sk-serial\"><div class=\"sk-item\"><div class=\"sk-estimator sk-toggleable\"><input class=\"sk-toggleable__control sk-hidden--visually\" id=\"sk-estimator-id-8\" type=\"checkbox\" ><label for=\"sk-estimator-id-8\" class=\"sk-toggleable__label sk-toggleable__label-arrow\">RandomForestClassifier</label><div class=\"sk-toggleable__content\"><pre>RandomForestClassifier()</pre></div></div></div></div></div></div></div></div></div></div>"
      ],
      "text/plain": [
       "VotingClassifier(estimators=[('lr', LogisticRegression()), ('svm', SVC()),\n",
       "                             ('rf', RandomForestClassifier())],\n",
       "                 voting='soft')"
      ]
     },
     "execution_count": 8,
     "metadata": {},
     "output_type": "execute_result"
    }
   ],
   "source": [
    "soft_voting_clf = VotingClassifier(\n",
    "    estimators=[('lr', log_clf), ('svm', svm_clf), ('rf', rf_clf)],\n",
    "    voting=\"soft\")\n",
    "soft_voting_clf.fit(X_train, y_train)"
   ]
  },
  {
   "cell_type": "code",
   "execution_count": 9,
   "id": "1e884dc8",
   "metadata": {},
   "outputs": [
    {
     "name": "stdout",
     "output_type": "stream",
     "text": [
      "LogisticRegression 0.864\n",
      "SVC 0.896\n",
      "RandomForestClassifier 0.896\n",
      "VotingClassifier 0.896\n"
     ]
    }
   ],
   "source": [
    "for clf in (log_clf, svm_clf, rf_clf, voting_clf):\n",
    "    clf.fit(X_train, y_train)\n",
    "    y_pred = clf.predict(X_test)\n",
    "    print(clf.__class__.__name__, accuracy_score(y_test, y_pred))"
   ]
  },
  {
   "cell_type": "markdown",
   "id": "feea9e63",
   "metadata": {},
   "source": [
    "The voting classifier performed slightly worse when `soft` voting is used."
   ]
  },
  {
   "cell_type": "markdown",
   "id": "a0ece723",
   "metadata": {},
   "source": [
    "## Bagging and Pasting"
   ]
  },
  {
   "cell_type": "markdown",
   "id": "10f63e9b",
   "metadata": {},
   "source": [
    "Training ensemble of 500 `DecisionTreeClassifiers` on 100 training instances that were randomly sampled with replacement. This is bagging algorithm. For Pasting algorithm instances are sampled without replacement."
   ]
  },
  {
   "cell_type": "code",
   "execution_count": 25,
   "id": "8a0a1116",
   "metadata": {},
   "outputs": [
    {
     "name": "stdout",
     "output_type": "stream",
     "text": [
      "0.904\n"
     ]
    }
   ],
   "source": [
    "bag_clf = BaggingClassifier(DecisionTreeClassifier(), n_estimators=500,\n",
    "                           max_samples=100, bootstrap=True, random_state=42)\n",
    "bag_clf.fit(X_train, y_train)\n",
    "y_pred = bag_clf.predict(X_test)\n",
    "print(accuracy_score(y_test, y_pred))"
   ]
  },
  {
   "cell_type": "markdown",
   "id": "f14aac0b",
   "metadata": {},
   "source": [
    "Compare the accuracy score with the `DecisionTreeClassirier`."
   ]
  },
  {
   "cell_type": "code",
   "execution_count": 26,
   "id": "1ca11d92",
   "metadata": {},
   "outputs": [
    {
     "name": "stdout",
     "output_type": "stream",
     "text": [
      "0.848\n"
     ]
    }
   ],
   "source": [
    "tree_clf = DecisionTreeClassifier()\n",
    "tree_clf.fit(X_train, y_train)\n",
    "y_pred = tree_clf.predict(X_test)\n",
    "print(accuracy_score(y_test, y_pred))"
   ]
  },
  {
   "cell_type": "markdown",
   "id": "361d16ac",
   "metadata": {},
   "source": [
    "`BaggingClassifier` returns better prediction that a single `DecisionTreeClassifer`."
   ]
  },
  {
   "cell_type": "code",
   "execution_count": 27,
   "id": "6702df3e",
   "metadata": {},
   "outputs": [
    {
     "data": {
      "image/png": "[encoded data removed]",
      "text/plain": [
       "<Figure size 1000x400 with 2 Axes>"
      ]
     },
     "metadata": {},
     "output_type": "display_data"
    }
   ],
   "source": [
    "# Plot BeggingClassifier and DecisionTreeClassifier\n",
    "fig, axes = plt.subplots(ncols=2, figsize=(10, 4), sharey=True)\n",
    "plt.sca(axes[0])\n",
    "plot_decision_boundary(tree_clf, X, y)\n",
    "plt.title(\"Decision Tree\", fontsize=14)\n",
    "plt.sca(axes[1])\n",
    "plot_decision_boundary(bag_clf, X, y)\n",
    "plt.title(\"Decision Tree with Bagging\", fontsize=14)\n",
    "plt.ylabel(\"\")\n",
    "plt.show()"
   ]
  },
  {
   "cell_type": "markdown",
   "id": "cd78c3a1",
   "metadata": {},
   "source": [
    "Since with bagging method not all instances are selected for training (only about 63%), out-of-bag instances can be used for model evaluation."
   ]
  },
  {
   "cell_type": "code",
   "execution_count": 28,
   "id": "447d96d2",
   "metadata": {},
   "outputs": [
    {
     "data": {
      "text/plain": [
       "0.896"
      ]
     },
     "execution_count": 28,
     "metadata": {},
     "output_type": "execute_result"
    }
   ],
   "source": [
    "# Out-of-bag evaluation\n",
    "bag_clf = BaggingClassifier(DecisionTreeClassifier(), n_estimators=500,\n",
    "                           bootstrap=True, oob_score=True, random_state=42)\n",
    "bag_clf.fit(X_train, y_train)\n",
    "bag_clf.oob_score_"
   ]
  },
  {
   "cell_type": "markdown",
   "id": "8b0bca0a",
   "metadata": {},
   "source": [
    "Since `predict_proba()` method is available the `decision_function_` returns the class probabilities."
   ]
  },
  {
   "cell_type": "code",
   "execution_count": 29,
   "id": "593b60fd",
   "metadata": {},
   "outputs": [
    {
     "data": {
      "text/plain": [
       "array([[0.32352941, 0.67647059],\n",
       "       [0.3375    , 0.6625    ],\n",
       "       [1.        , 0.        ],\n",
       "       [0.        , 1.        ],\n",
       "       [0.        , 1.        ],\n",
       "       [0.06145251, 0.93854749],\n",
       "       [0.35465116, 0.64534884],\n",
       "       [0.01142857, 0.98857143],\n",
       "       [0.98930481, 0.01069519],\n",
       "       [0.97927461, 0.02072539],\n",
       "       [0.75586854, 0.24413146],\n",
       "       [0.0049505 , 0.9950495 ],\n",
       "       [0.75520833, 0.24479167],\n",
       "       [0.82122905, 0.17877095],\n",
       "       [0.98461538, 0.01538462],\n",
       "       [0.06315789, 0.93684211],\n",
       "       [0.00490196, 0.99509804],\n",
       "       [0.99004975, 0.00995025],\n",
       "       [0.92513369, 0.07486631],\n",
       "       [1.        , 0.        ],\n",
       "       [0.03409091, 0.96590909],\n",
       "       [0.35087719, 0.64912281],\n",
       "       [0.91111111, 0.08888889],\n",
       "       [1.        , 0.        ],\n",
       "       [0.96319018, 0.03680982],\n",
       "       [0.        , 1.        ],\n",
       "       [1.        , 0.        ],\n",
       "       [1.        , 0.        ],\n",
       "       [0.        , 1.        ],\n",
       "       [0.6635514 , 0.3364486 ],\n",
       "       [0.        , 1.        ],\n",
       "       [1.        , 0.        ],\n",
       "       [0.0049505 , 0.9950495 ],\n",
       "       [0.        , 1.        ],\n",
       "       [0.19680851, 0.80319149],\n",
       "       [1.        , 0.        ],\n",
       "       [0.00591716, 0.99408284],\n",
       "       [0.38509317, 0.61490683],\n",
       "       [0.        , 1.        ],\n",
       "       [1.        , 0.        ],\n",
       "       [0.22346369, 0.77653631],\n",
       "       [0.32777778, 0.67222222],\n",
       "       [1.        , 0.        ],\n",
       "       [1.        , 0.        ],\n",
       "       [0.        , 1.        ],\n",
       "       [1.        , 0.        ],\n",
       "       [1.        , 0.        ],\n",
       "       [0.02906977, 0.97093023],\n",
       "       [1.        , 0.        ],\n",
       "       [0.01183432, 0.98816568],\n",
       "       [0.97916667, 0.02083333],\n",
       "       [0.88829787, 0.11170213],\n",
       "       [0.94594595, 0.05405405],\n",
       "       [0.96132597, 0.03867403],\n",
       "       [0.        , 1.        ],\n",
       "       [0.05612245, 0.94387755],\n",
       "       [0.98026316, 0.01973684],\n",
       "       [0.        , 1.        ],\n",
       "       [0.        , 1.        ],\n",
       "       [0.01005025, 0.98994975],\n",
       "       [0.98857143, 0.01142857],\n",
       "       [0.80769231, 0.19230769],\n",
       "       [0.44751381, 0.55248619],\n",
       "       [1.        , 0.        ],\n",
       "       [0.        , 1.        ],\n",
       "       [0.71523179, 0.28476821],\n",
       "       [1.        , 0.        ],\n",
       "       [1.        , 0.        ],\n",
       "       [0.84745763, 0.15254237],\n",
       "       [1.        , 0.        ],\n",
       "       [0.61578947, 0.38421053],\n",
       "       [0.12777778, 0.87222222],\n",
       "       [0.63387978, 0.36612022],\n",
       "       [0.9132948 , 0.0867052 ],\n",
       "       [0.        , 1.        ],\n",
       "       [0.16129032, 0.83870968],\n",
       "       [0.90607735, 0.09392265],\n",
       "       [1.        , 0.        ],\n",
       "       [0.        , 1.        ],\n",
       "       [1.        , 0.        ],\n",
       "       [0.00540541, 0.99459459],\n",
       "       [0.06358382, 0.93641618],\n",
       "       [0.02312139, 0.97687861],\n",
       "       [0.34939759, 0.65060241],\n",
       "       [1.        , 0.        ],\n",
       "       [0.        , 1.        ],\n",
       "       [0.84090909, 0.15909091],\n",
       "       [0.        , 1.        ],\n",
       "       [0.        , 1.        ],\n",
       "       [0.        , 1.        ],\n",
       "       [0.22340426, 0.77659574],\n",
       "       [1.        , 0.        ],\n",
       "       [0.        , 1.        ],\n",
       "       [0.        , 1.        ],\n",
       "       [0.        , 1.        ],\n",
       "       [0.96335079, 0.03664921],\n",
       "       [0.80628272, 0.19371728],\n",
       "       [0.        , 1.        ],\n",
       "       [1.        , 0.        ],\n",
       "       [0.25274725, 0.74725275],\n",
       "       [0.58235294, 0.41764706],\n",
       "       [0.        , 1.        ],\n",
       "       [0.03723404, 0.96276596],\n",
       "       [0.50543478, 0.49456522],\n",
       "       [1.        , 0.        ],\n",
       "       [0.01704545, 0.98295455],\n",
       "       [0.99456522, 0.00543478],\n",
       "       [0.2259887 , 0.7740113 ],\n",
       "       [0.45810056, 0.54189944],\n",
       "       [1.        , 0.        ],\n",
       "       [0.01570681, 0.98429319],\n",
       "       [0.98901099, 0.01098901],\n",
       "       [0.25698324, 0.74301676],\n",
       "       [0.88304094, 0.11695906],\n",
       "       [1.        , 0.        ],\n",
       "       [1.        , 0.        ],\n",
       "       [0.        , 1.        ],\n",
       "       [0.        , 1.        ],\n",
       "       [0.78285714, 0.21714286],\n",
       "       [1.        , 0.        ],\n",
       "       [0.00578035, 0.99421965],\n",
       "       [1.        , 0.        ],\n",
       "       [1.        , 0.        ],\n",
       "       [1.        , 0.        ],\n",
       "       [0.98895028, 0.01104972],\n",
       "       [0.99447514, 0.00552486],\n",
       "       [0.        , 1.        ],\n",
       "       [0.96534653, 0.03465347],\n",
       "       [0.99497487, 0.00502513],\n",
       "       [0.01092896, 0.98907104],\n",
       "       [0.1686747 , 0.8313253 ],\n",
       "       [0.95408163, 0.04591837],\n",
       "       [0.31515152, 0.68484848],\n",
       "       [0.98924731, 0.01075269],\n",
       "       [0.        , 1.        ],\n",
       "       [0.        , 1.        ],\n",
       "       [0.71929825, 0.28070175],\n",
       "       [0.36206897, 0.63793103],\n",
       "       [0.4       , 0.6       ],\n",
       "       [0.85326087, 0.14673913],\n",
       "       [0.95918367, 0.04081633],\n",
       "       [0.06349206, 0.93650794],\n",
       "       [0.81313131, 0.18686869],\n",
       "       [0.        , 1.        ],\n",
       "       [0.        , 1.        ],\n",
       "       [0.03508772, 0.96491228],\n",
       "       [0.98342541, 0.01657459],\n",
       "       [1.        , 0.        ],\n",
       "       [1.        , 0.        ],\n",
       "       [0.0052356 , 0.9947644 ],\n",
       "       [0.        , 1.        ],\n",
       "       [0.01932367, 0.98067633],\n",
       "       [0.        , 1.        ],\n",
       "       [1.        , 0.        ],\n",
       "       [1.        , 0.        ],\n",
       "       [0.94827586, 0.05172414],\n",
       "       [1.        , 0.        ],\n",
       "       [1.        , 0.        ],\n",
       "       [1.        , 0.        ],\n",
       "       [0.        , 1.        ],\n",
       "       [0.38674033, 0.61325967],\n",
       "       [0.27717391, 0.72282609],\n",
       "       [0.01117318, 0.98882682],\n",
       "       [0.        , 1.        ],\n",
       "       [0.30208333, 0.69791667],\n",
       "       [1.        , 0.        ],\n",
       "       [0.99378882, 0.00621118],\n",
       "       [0.        , 1.        ],\n",
       "       [1.        , 0.        ],\n",
       "       [0.        , 1.        ],\n",
       "       [0.        , 1.        ],\n",
       "       [0.98295455, 0.01704545],\n",
       "       [0.        , 1.        ],\n",
       "       [0.        , 1.        ],\n",
       "       [1.        , 0.        ],\n",
       "       [0.00502513, 0.99497487],\n",
       "       [0.61271676, 0.38728324],\n",
       "       [0.91747573, 0.08252427],\n",
       "       [0.        , 1.        ],\n",
       "       [1.        , 0.        ],\n",
       "       [0.99516908, 0.00483092],\n",
       "       [1.        , 0.        ],\n",
       "       [0.        , 1.        ],\n",
       "       [0.        , 1.        ],\n",
       "       [1.        , 0.        ],\n",
       "       [0.06930693, 0.93069307],\n",
       "       [1.        , 0.        ],\n",
       "       [0.05405405, 0.94594595],\n",
       "       [0.        , 1.        ],\n",
       "       [1.        , 0.        ],\n",
       "       [0.        , 1.        ],\n",
       "       [0.04294479, 0.95705521],\n",
       "       [1.        , 0.        ],\n",
       "       [0.93229167, 0.06770833],\n",
       "       [0.73295455, 0.26704545],\n",
       "       [0.62424242, 0.37575758],\n",
       "       [0.        , 1.        ],\n",
       "       [0.12755102, 0.87244898],\n",
       "       [1.        , 0.        ],\n",
       "       [0.96341463, 0.03658537],\n",
       "       [0.96226415, 0.03773585],\n",
       "       [1.        , 0.        ],\n",
       "       [0.02272727, 0.97727273],\n",
       "       [0.        , 1.        ],\n",
       "       [0.40223464, 0.59776536],\n",
       "       [0.85082873, 0.14917127],\n",
       "       [0.        , 1.        ],\n",
       "       [0.        , 1.        ],\n",
       "       [0.99408284, 0.00591716],\n",
       "       [0.00520833, 0.99479167],\n",
       "       [0.00540541, 0.99459459],\n",
       "       [0.96111111, 0.03888889],\n",
       "       [0.        , 1.        ],\n",
       "       [0.30808081, 0.69191919],\n",
       "       [0.        , 1.        ],\n",
       "       [1.        , 0.        ],\n",
       "       [0.00595238, 0.99404762],\n",
       "       [0.        , 1.        ],\n",
       "       [0.96236559, 0.03763441],\n",
       "       [0.80246914, 0.19753086],\n",
       "       [0.995     , 0.005     ],\n",
       "       [0.00543478, 0.99456522],\n",
       "       [0.04411765, 0.95588235],\n",
       "       [1.        , 0.        ],\n",
       "       [0.02808989, 0.97191011],\n",
       "       [0.        , 1.        ],\n",
       "       [0.04864865, 0.95135135],\n",
       "       [1.        , 0.        ],\n",
       "       [0.82777778, 0.17222222],\n",
       "       [0.        , 1.        ],\n",
       "       [0.8988764 , 0.1011236 ],\n",
       "       [0.99450549, 0.00549451],\n",
       "       [0.18857143, 0.81142857],\n",
       "       [0.20994475, 0.79005525],\n",
       "       [1.        , 0.        ],\n",
       "       [0.        , 1.        ],\n",
       "       [0.00549451, 0.99450549],\n",
       "       [0.        , 1.        ],\n",
       "       [0.25789474, 0.74210526],\n",
       "       [0.95212766, 0.04787234],\n",
       "       [0.00507614, 0.99492386],\n",
       "       [1.        , 0.        ],\n",
       "       [1.        , 0.        ],\n",
       "       [0.        , 1.        ],\n",
       "       [0.42857143, 0.57142857],\n",
       "       [1.        , 0.        ],\n",
       "       [0.        , 1.        ],\n",
       "       [1.        , 0.        ],\n",
       "       [0.        , 1.        ],\n",
       "       [0.        , 1.        ],\n",
       "       [0.04188482, 0.95811518],\n",
       "       [0.10404624, 0.89595376],\n",
       "       [0.98469388, 0.01530612],\n",
       "       [0.02185792, 0.97814208],\n",
       "       [1.        , 0.        ],\n",
       "       [0.34042553, 0.65957447],\n",
       "       [0.12315271, 0.87684729],\n",
       "       [0.52717391, 0.47282609],\n",
       "       [0.65151515, 0.34848485],\n",
       "       [0.00558659, 0.99441341],\n",
       "       [1.        , 0.        ],\n",
       "       [0.        , 1.        ],\n",
       "       [0.        , 1.        ],\n",
       "       [0.63679245, 0.36320755],\n",
       "       [0.        , 1.        ],\n",
       "       [1.        , 0.        ],\n",
       "       [0.22680412, 0.77319588],\n",
       "       [0.82089552, 0.17910448],\n",
       "       [0.03012048, 0.96987952],\n",
       "       [1.        , 0.        ],\n",
       "       [0.86910995, 0.13089005],\n",
       "       [0.        , 1.        ],\n",
       "       [0.00518135, 0.99481865],\n",
       "       [0.09137056, 0.90862944],\n",
       "       [0.00598802, 0.99401198],\n",
       "       [0.        , 1.        ],\n",
       "       [1.        , 0.        ],\n",
       "       [0.94318182, 0.05681818],\n",
       "       [0.1627907 , 0.8372093 ],\n",
       "       [0.95897436, 0.04102564],\n",
       "       [0.01630435, 0.98369565],\n",
       "       [0.59562842, 0.40437158],\n",
       "       [0.06989247, 0.93010753],\n",
       "       [1.        , 0.        ],\n",
       "       [0.78723404, 0.21276596],\n",
       "       [0.        , 1.        ],\n",
       "       [1.        , 0.        ],\n",
       "       [0.93684211, 0.06315789],\n",
       "       [0.        , 1.        ],\n",
       "       [0.        , 1.        ],\n",
       "       [1.        , 0.        ],\n",
       "       [0.        , 1.        ],\n",
       "       [1.        , 0.        ],\n",
       "       [0.23036649, 0.76963351],\n",
       "       [0.99418605, 0.00581395],\n",
       "       [1.        , 0.        ],\n",
       "       [0.        , 1.        ],\n",
       "       [0.        , 1.        ],\n",
       "       [0.85955056, 0.14044944],\n",
       "       [0.        , 1.        ],\n",
       "       [1.        , 0.        ],\n",
       "       [0.79255319, 0.20744681],\n",
       "       [0.91847826, 0.08152174],\n",
       "       [1.        , 0.        ],\n",
       "       [0.68306011, 0.31693989],\n",
       "       [0.50802139, 0.49197861],\n",
       "       [0.        , 1.        ],\n",
       "       [0.87790698, 0.12209302],\n",
       "       [0.        , 1.        ],\n",
       "       [1.        , 0.        ],\n",
       "       [0.9010989 , 0.0989011 ],\n",
       "       [1.        , 0.        ],\n",
       "       [1.        , 0.        ],\n",
       "       [0.72139303, 0.27860697],\n",
       "       [0.09090909, 0.90909091],\n",
       "       [0.48170732, 0.51829268],\n",
       "       [0.25263158, 0.74736842],\n",
       "       [0.        , 1.        ],\n",
       "       [0.84782609, 0.15217391],\n",
       "       [0.81443299, 0.18556701],\n",
       "       [0.        , 1.        ],\n",
       "       [1.        , 0.        ],\n",
       "       [0.98930481, 0.01069519],\n",
       "       [1.        , 0.        ],\n",
       "       [0.        , 1.        ],\n",
       "       [0.03921569, 0.96078431],\n",
       "       [0.95959596, 0.04040404],\n",
       "       [0.95375723, 0.04624277],\n",
       "       [1.        , 0.        ],\n",
       "       [0.52542373, 0.47457627],\n",
       "       [1.        , 0.        ],\n",
       "       [0.0106383 , 0.9893617 ],\n",
       "       [0.99453552, 0.00546448],\n",
       "       [0.02659574, 0.97340426],\n",
       "       [1.        , 0.        ],\n",
       "       [1.        , 0.        ],\n",
       "       [1.        , 0.        ],\n",
       "       [0.        , 1.        ],\n",
       "       [0.98275862, 0.01724138],\n",
       "       [0.        , 1.        ],\n",
       "       [0.08421053, 0.91578947],\n",
       "       [0.        , 1.        ],\n",
       "       [0.        , 1.        ],\n",
       "       [1.        , 0.        ],\n",
       "       [1.        , 0.        ],\n",
       "       [0.        , 1.        ],\n",
       "       [1.        , 0.        ],\n",
       "       [0.00564972, 0.99435028],\n",
       "       [1.        , 0.        ],\n",
       "       [0.14124294, 0.85875706],\n",
       "       [0.        , 1.        ],\n",
       "       [0.        , 1.        ],\n",
       "       [0.        , 1.        ],\n",
       "       [0.37125749, 0.62874251],\n",
       "       [0.08695652, 0.91304348],\n",
       "       [0.23255814, 0.76744186],\n",
       "       [1.        , 0.        ],\n",
       "       [0.98181818, 0.01818182],\n",
       "       [0.19444444, 0.80555556],\n",
       "       [0.9902439 , 0.0097561 ],\n",
       "       [0.        , 1.        ],\n",
       "       [0.        , 1.        ],\n",
       "       [1.        , 0.        ],\n",
       "       [0.95930233, 0.04069767],\n",
       "       [0.34285714, 0.65714286],\n",
       "       [0.98843931, 0.01156069],\n",
       "       [1.        , 0.        ],\n",
       "       [0.        , 1.        ],\n",
       "       [1.        , 0.        ],\n",
       "       [0.00561798, 0.99438202],\n",
       "       [0.02139037, 0.97860963],\n",
       "       [1.        , 0.        ],\n",
       "       [1.        , 0.        ],\n",
       "       [0.02564103, 0.97435897],\n",
       "       [0.6344086 , 0.3655914 ]])"
      ]
     },
     "execution_count": 29,
     "metadata": {},
     "output_type": "execute_result"
    }
   ],
   "source": [
    "bag_clf.oob_decision_function_"
   ]
  },
  {
   "cell_type": "markdown",
   "id": "4d3e7254",
   "metadata": {},
   "source": [
    "According to `oob_score_` the `BaggingClassifier` can achive 89.6% accuracy on the test set that is similar to what we got."
   ]
  },
  {
   "cell_type": "code",
   "execution_count": 30,
   "id": "a11d00a7",
   "metadata": {},
   "outputs": [
    {
     "data": {
      "text/plain": [
       "0.92"
      ]
     },
     "execution_count": 30,
     "metadata": {},
     "output_type": "execute_result"
    }
   ],
   "source": [
    "y_pred = bag_clf.predict(X_test)\n",
    "accuracy_score(y_test, y_pred)"
   ]
  },
  {
   "cell_type": "code",
   "execution_count": null,
   "id": "db8defac",
   "metadata": {},
   "outputs": [],
   "source": []
  }
 ],
 "metadata": {
  "kernelspec": {
   "display_name": "Python 3 (ipykernel)",
   "language": "python",
   "name": "python3"
  },
  "language_info": {
   "codemirror_mode": {
    "name": "ipython",
    "version": 3
   },
   "file_extension": ".py",
   "mimetype": "text/x-python",
   "name": "python",
   "nbconvert_exporter": "python",
   "pygments_lexer": "ipython3",
   "version": "3.10.9"
  }
 },
 "nbformat": 4,
 "nbformat_minor": 5
}
