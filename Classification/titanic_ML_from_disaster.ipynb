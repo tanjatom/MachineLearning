{
 "cells": [
  {
   "cell_type": "markdown",
   "id": "cba5d6da",
   "metadata": {},
   "source": [
    "# Titanic - Machine Learning from Disaster "
   ]
  },
  {
   "cell_type": "markdown",
   "id": "a78fcabe",
   "metadata": {},
   "source": [
    "## About Dataset"
   ]
  },
  {
   "cell_type": "markdown",
   "id": "35f1430c",
   "metadata": {},
   "source": [
    "<img src=\"https://imgur.com/rE1OxtK.jpg\">"
   ]
  },
  {
   "cell_type": "markdown",
   "id": "8e837ace",
   "metadata": {},
   "source": [
    "The sinking of the Titanic is one of the most infamous shipwrecks in history.\n",
    "\n",
    "On April 15, 1912, during her maiden voyage, the widely considered “unsinkable” RMS Titanic sank after colliding with an iceberg. Unfortunately, there weren’t enough lifeboats for everyone onboard, resulting in the death of 1502 out of 2224 passengers and crew.\n",
    "\n",
    "While there was some element of luck involved in surviving, it seems some groups of people were more likely to survive than others.\n",
    "\n",
    "The goal in this project is to use the Titanic passenger data (name, age, gender, socio-economic class, etc) to predict weather or not passenger survived."
   ]
  },
  {
   "cell_type": "markdown",
   "id": "076e7a48",
   "metadata": {},
   "source": [
    "## Data Source"
   ]
  },
  {
   "cell_type": "markdown",
   "id": "73d37ac1",
   "metadata": {},
   "source": [
    "The dataset has been referred from Kaggle and it can be downloaded [here](https://www.kaggle.com/c/titanic/data)."
   ]
  },
  {
   "cell_type": "code",
   "execution_count": null,
   "id": "f8830612",
   "metadata": {},
   "outputs": [],
   "source": []
  }
 ],
 "metadata": {
  "kernelspec": {
   "display_name": "Python 3 (ipykernel)",
   "language": "python",
   "name": "python3"
  },
  "language_info": {
   "codemirror_mode": {
    "name": "ipython",
    "version": 3
   },
   "file_extension": ".py",
   "mimetype": "text/x-python",
   "name": "python",
   "nbconvert_exporter": "python",
   "pygments_lexer": "ipython3",
   "version": "3.10.9"
  }
 },
 "nbformat": 4,
 "nbformat_minor": 5
}
