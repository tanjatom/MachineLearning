{
 "cells": [
  {
   "cell_type": "markdown",
   "id": "8daf744d",
   "metadata": {},
   "source": [
    "# Spam Classifier"
   ]
  },
  {
   "cell_type": "markdown",
   "id": "2ff94f2d",
   "metadata": {},
   "source": [
    "## About Dataset "
   ]
  },
  {
   "cell_type": "markdown",
   "id": "a3c37db7",
   "metadata": {},
   "source": [
    "Build spam classifier using dataset from [Apache SpamAssassin's public datasets](https://spamassassin.apache.org/old/publiccorpus/). Two datasets are used, namely \"20030228_easy_ham.tar.bz2\" and \"20030228_spam.tar.bz2\"."
   ]
  },
  {
   "cell_type": "code",
   "execution_count": 1,
   "id": "86abc697",
   "metadata": {},
   "outputs": [],
   "source": [
    "# Extract and load emails from tarfiles\n",
    "import tarfile, os\n",
    "\n",
    "spam_path = \"spam_dataset\"\n",
    "ham_tar = tarfile.open(\"20030228_easy_ham.tar.bz2\", \"r:bz2\")  \n",
    "ham_tar.extractall(path=spam_path)\n",
    "ham_filenames = [name for name in sorted(os.listdir(os.path.join(spam_path, \"easy_ham\"))) if len(name) > 20]\n",
    "ham_tar.close()\n",
    "spam_tar = tarfile.open(\"20030228_spam.tar.bz2\", \"r:bz2\")  \n",
    "spam_tar.extractall(path=spam_path)\n",
    "spam_filenames = [name for name in sorted(os.listdir(os.path.join(spam_path, \"spam\"))) if len(name) > 20]\n",
    "spam_tar.close()"
   ]
  },
  {
   "cell_type": "code",
   "execution_count": 2,
   "id": "8f476a28",
   "metadata": {},
   "outputs": [
    {
     "data": {
      "text/plain": [
       "2500"
      ]
     },
     "execution_count": 2,
     "metadata": {},
     "output_type": "execute_result"
    }
   ],
   "source": [
    "len(ham_filenames)"
   ]
  },
  {
   "cell_type": "code",
   "execution_count": 3,
   "id": "fa323d02",
   "metadata": {},
   "outputs": [
    {
     "data": {
      "text/plain": [
       "500"
      ]
     },
     "execution_count": 3,
     "metadata": {},
     "output_type": "execute_result"
    }
   ],
   "source": [
    "len(spam_filenames)"
   ]
  },
  {
   "cell_type": "code",
   "execution_count": 4,
   "id": "a063afe0",
   "metadata": {},
   "outputs": [],
   "source": [
    "# Use `email` module from python to parse these emails.\n",
    "import email\n",
    "import email.policy\n",
    "\n",
    "def load_email(is_spam, filename, spam_path=spam_path):\n",
    "    directory = \"spam\" if is_spam else \"easy_ham\"\n",
    "    with open(os.path.join(spam_path, directory, filename), \"rb\") as file:\n",
    "        return email.parser.BytesParser(policy=email.policy.default).parse(file)"
   ]
  },
  {
   "cell_type": "code",
   "execution_count": 5,
   "id": "c26236a8",
   "metadata": {},
   "outputs": [],
   "source": [
    "ham_emails = [load_email(is_spam=False, filename=name) for name in ham_filenames]\n",
    "spam_emails = [load_email(is_spam=True, filename=name) for name in spam_filenames]"
   ]
  },
  {
   "cell_type": "markdown",
   "id": "f2a42606",
   "metadata": {},
   "source": [
    "## Data Exploration"
   ]
  },
  {
   "cell_type": "code",
   "execution_count": 6,
   "id": "11e2f2c4",
   "metadata": {},
   "outputs": [
    {
     "name": "stdout",
     "output_type": "stream",
     "text": [
      "> I just had to jump in here as Carbonara is one of my favourites to make and \n",
      "> ask \n",
      "> what the hell are you supposed to use instead of cream? \n",
      "\n",
      "Isn't it just basically a mixture of beaten egg and bacon (or pancetta, \n",
      "really)? You mix in the raw egg to the cooked pasta and the heat of the pasta \n",
      "cooks the egg. That's my understanding.\n",
      "\n",
      "Martin\n",
      "\n",
      "------------------------ Yahoo! Groups Sponsor ---------------------~-->\n",
      "4 DVDs Free +s&p Join Now\n",
      "http://us.click.yahoo.com/pt6YBB/NXiEAA/mG3HAA/7gSolB/TM\n",
      "---------------------------------------------------------------------~->\n",
      "\n",
      "To unsubscribe from this group, send an email to:\n",
      "forteana-unsubscribe@egroups.com\n",
      "\n",
      " \n",
      "\n",
      "Your use of Yahoo! Groups is subject to http://docs.yahoo.com/info/terms/\n"
     ]
    }
   ],
   "source": [
    "# Look at an example of ham emails\n",
    "print(ham_emails[5].get_content().strip())"
   ]
  },
  {
   "cell_type": "code",
   "execution_count": 7,
   "id": "6dcd1ddb",
   "metadata": {},
   "outputs": [
    {
     "name": "stdout",
     "output_type": "stream",
     "text": [
      "A POWERHOUSE GIFTING PROGRAM You Don't Want To Miss! \n",
      " \n",
      "  GET IN WITH THE FOUNDERS! \n",
      "The MAJOR PLAYERS are on This ONE\n",
      "For ONCE be where the PlayerS are\n",
      "This is YOUR Private Invitation\n",
      "\n",
      "EXPERTS ARE CALLING THIS THE FASTEST WAY \n",
      "TO HUGE CASH FLOW EVER CONCEIVED\n",
      "Leverage $1,000 into $50,000 Over and Over Again\n",
      "\n",
      "THE QUESTION HERE IS:\n",
      "YOU EITHER WANT TO BE WEALTHY \n",
      "OR YOU DON'T!!!\n",
      "WHICH ONE ARE YOU?\n",
      "I am tossing you a financial lifeline and for your sake I \n",
      "Hope you GRAB onto it and hold on tight For the Ride of youR life!\n",
      "\n",
      "Testimonials\n",
      "\n",
      "Hear what average people are doing their first few days:\n",
      "�We've received 8,000 in 1 day and we are doing that over and over again!' Q.S. in AL\n",
      " �I'm a single mother in FL and I've received 12,000 in the last 4 days.� D. S. in FL\n",
      "�I was not sure about this when I sent off my $1,000 pledge, but I got back $2,000 the very next day!� L.L. in KY\n",
      "�I didn't have the money, so I found myself a partner to work this with. We have received $4,000 over the last 2 days. \n",
      "I think I made the right decision; don't you?� K. C. in FL\n",
      "�I pick up $3,000 my first day and I  they gave me free leads and all the training, you can too!� J.W. in CA\n",
      "\n",
      "ANNOUNCING: We will CLOSE your sales for YOU! And Help you get a Fax Blast IMMEDIATELY Upon Your Entry!!!    YOU Make the MONEY!!!\n",
      "FREE LEADS!!! TRAINING!!!\n",
      "\n",
      "$$DON'T WAIT!!! CALL NOW $$\n",
      "FAX BACK TO: 1-800-421-6318 OR Call 1-800-896-6568 \n",
      "\n",
      "Name__________________________________Phone___________________________________________\n",
      "\n",
      "Fax_____________________________________Email____________________________________________\n",
      "\n",
      "Best Time To Call_________________________Time Zone________________________________________\n",
      "\n",
      "This message is sent in compliance of the new e-mail bill. \"Per Section 301, Paragraph (a)(2)(C) of S. 1618, further transmissions by the sender of this email may be stopped, at no cost to you, by sending a reply to this email address with the word \"REMOVE\" in the subject line. Errors, omissions, and exceptions excluded.\n",
      " \n",
      "This is NOT spam! I have compiled this list from our Replicate Database, relative to Seattle Marketing Group, The Gigt, or Turbo Team for the sole purpose of these communications. Your continued inclusion is ONLY by your gracious permission. If you wish to not receive this mail from me, please send an email to tesrewinter@yahoo.com with \"Remove\" in the subject and you will be deleted immediately.\n"
     ]
    }
   ],
   "source": [
    "# Look at an example of spam emails\n",
    "print(spam_emails[5].get_content().strip())"
   ]
  },
  {
   "cell_type": "code",
   "execution_count": 8,
   "id": "c8d9561e",
   "metadata": {},
   "outputs": [],
   "source": [
    "# Emails come in different structures, with images or attachements\n",
    "\n",
    "def get_email_structure(email):\n",
    "    if isinstance(email, str):\n",
    "        return email\n",
    "    payload = email.get_payload()\n",
    "    if isinstance(payload, list):\n",
    "        return \"multipart({})\".format(\", \".join([get_email_structure(sub_email) for sub_email in payload]))\n",
    "    else:\n",
    "        return email.get_content_type()"
   ]
  },
  {
   "cell_type": "code",
   "execution_count": 9,
   "id": "c023a4e4",
   "metadata": {},
   "outputs": [],
   "source": [
    "from collections import Counter\n",
    "\n",
    "def structures_counter(emails):\n",
    "    structures = Counter()\n",
    "    for email in emails:\n",
    "        structure = get_email_structure(email)\n",
    "        structures[structure] += 1\n",
    "    return structures"
   ]
  },
  {
   "cell_type": "code",
   "execution_count": 10,
   "id": "967ad35f",
   "metadata": {},
   "outputs": [
    {
     "data": {
      "text/plain": [
       "[('text/plain', 2408),\n",
       " ('multipart(text/plain, application/pgp-signature)', 66),\n",
       " ('multipart(text/plain, text/html)', 8),\n",
       " ('multipart(text/plain, text/plain)', 4),\n",
       " ('multipart(text/plain)', 3),\n",
       " ('multipart(text/plain, application/octet-stream)', 2),\n",
       " ('multipart(text/plain, text/enriched)', 1),\n",
       " ('multipart(text/plain, application/ms-tnef, text/plain)', 1),\n",
       " ('multipart(multipart(text/plain, text/plain, text/plain), application/pgp-signature)',\n",
       "  1),\n",
       " ('multipart(text/plain, video/mng)', 1),\n",
       " ('multipart(text/plain, multipart(text/plain))', 1),\n",
       " ('multipart(text/plain, application/x-pkcs7-signature)', 1),\n",
       " ('multipart(text/plain, multipart(text/plain, text/plain), text/rfc822-headers)',\n",
       "  1),\n",
       " ('multipart(text/plain, multipart(text/plain, text/plain), multipart(multipart(text/plain, application/x-pkcs7-signature)))',\n",
       "  1),\n",
       " ('multipart(text/plain, application/x-java-applet)', 1)]"
      ]
     },
     "execution_count": 10,
     "metadata": {},
     "output_type": "execute_result"
    }
   ],
   "source": [
    "structures_counter(ham_emails).most_common()"
   ]
  },
  {
   "cell_type": "code",
   "execution_count": 11,
   "id": "e88c52ec",
   "metadata": {},
   "outputs": [
    {
     "data": {
      "text/plain": [
       "[('text/plain', 218),\n",
       " ('text/html', 183),\n",
       " ('multipart(text/plain, text/html)', 45),\n",
       " ('multipart(text/html)', 20),\n",
       " ('multipart(text/plain)', 19),\n",
       " ('multipart(multipart(text/html))', 5),\n",
       " ('multipart(text/plain, image/jpeg)', 3),\n",
       " ('multipart(text/html, application/octet-stream)', 2),\n",
       " ('multipart(text/plain, application/octet-stream)', 1),\n",
       " ('multipart(text/html, text/plain)', 1),\n",
       " ('multipart(multipart(text/html), application/octet-stream, image/jpeg)', 1),\n",
       " ('multipart(multipart(text/plain, text/html), image/gif)', 1),\n",
       " ('multipart/alternative', 1)]"
      ]
     },
     "execution_count": 11,
     "metadata": {},
     "output_type": "execute_result"
    }
   ],
   "source": [
    "structures_counter(spam_emails).most_common()"
   ]
  },
  {
   "cell_type": "markdown",
   "id": "59182538",
   "metadata": {},
   "source": [
    "The output shows that ham emails are mostly plain text compared to spam emails which mostly have HTML. Some ham emails are signed using PGP whereas no spam emails is."
   ]
  },
  {
   "cell_type": "code",
   "execution_count": 12,
   "id": "7471967f",
   "metadata": {},
   "outputs": [
    {
     "name": "stdout",
     "output_type": "stream",
     "text": [
      "Return-Path : <12a1mailbot1@web.de>\n",
      "Delivered-To : zzzz@localhost.spamassassin.taint.org\n",
      "Received : from localhost (localhost [127.0.0.1])\tby phobos.labs.spamassassin.taint.org (Postfix) with ESMTP id 136B943C32\tfor <zzzz@localhost>; Thu, 22 Aug 2002 08:17:21 -0400 (EDT)\n",
      "Received : from mail.webnote.net [193.120.211.219]\tby localhost with POP3 (fetchmail-5.9.0)\tfor zzzz@localhost (single-drop); Thu, 22 Aug 2002 13:17:21 +0100 (IST)\n",
      "Received : from dd_it7 ([210.97.77.167])\tby webnote.net (8.9.3/8.9.3) with ESMTP id NAA04623\tfor <zzzz@spamassassin.taint.org>; Thu, 22 Aug 2002 13:09:41 +0100\n",
      "From : 12a1mailbot1@web.de\n",
      "Received : from r-smtp.korea.com - 203.122.2.197 by dd_it7  with Microsoft SMTPSVC(5.5.1775.675.6);\t Sat, 24 Aug 2002 09:42:10 +0900\n",
      "To : dcek1a1@netsgo.com\n",
      "Subject : Life Insurance - Why Pay More?\n",
      "Date : Wed, 21 Aug 2002 20:31:57 -1600\n",
      "MIME-Version : 1.0\n",
      "Message-ID : <0103c1042001882DD_IT7@dd_it7>\n",
      "Content-Type : text/html; charset=\"iso-8859-1\"\n",
      "Content-Transfer-Encoding : quoted-printable\n"
     ]
    }
   ],
   "source": [
    "# Check email headers\n",
    "for header, value in spam_emails[0].items():\n",
    "    print(header, \":\", value)"
   ]
  },
  {
   "cell_type": "markdown",
   "id": "2d536c7b",
   "metadata": {},
   "source": [
    "This shows the sender's email address that looks suspicious, also subject line besides all other information."
   ]
  },
  {
   "cell_type": "markdown",
   "id": "37658ab6",
   "metadata": {},
   "source": [
    "## Split Dataset Into Training and Test Sets"
   ]
  },
  {
   "cell_type": "code",
   "execution_count": 13,
   "id": "cf54f0e9",
   "metadata": {},
   "outputs": [],
   "source": [
    "from sklearn.model_selection import train_test_split\n",
    "import numpy as np\n",
    "\n",
    "X = np.array(ham_emails + spam_emails, dtype=object)\n",
    "y = np.array([0] * len(ham_emails) + [1] * len(spam_emails))\n",
    "\n",
    "X_train, X_test, y_train, y_test = train_test_split(X, y, test_size=0.2, random_state=42)"
   ]
  },
  {
   "cell_type": "markdown",
   "id": "dc5c2690",
   "metadata": {},
   "source": [
    "## Data Preprocessing"
   ]
  },
  {
   "cell_type": "markdown",
   "id": "a175e21d",
   "metadata": {},
   "source": [
    "Convert HTML to plain text. Remove `<head>` section, convert `<a>` into HYPERLINK, remove all HTML tags, replace multiple newlines with a single one and unescapes html entities like `&gt` or `&nbsp`."
   ]
  },
  {
   "cell_type": "code",
   "execution_count": 14,
   "id": "35cc0f91",
   "metadata": {},
   "outputs": [],
   "source": [
    "import re\n",
    "from html import unescape\n",
    "\n",
    "def html_to_plain_text(html):\n",
    "    text = re.sub(\"<head.*?>.*?</head>\", \"\", html, flags=re.M | re.S | re.I)\n",
    "    text = re.sub(\"<a\\s.*?>\", \" HYPERLINK \", text, flags=re.M | re.S | re.I)\n",
    "    text = re.sub(\"<.*?>\", \"\", text, flags=re.M | re.S)\n",
    "    text = re.sub(r\"(\\s*\\n)+\", \"\\n\", text, flags=re.M | re.S)\n",
    "    return unescape(text)"
   ]
  },
  {
   "cell_type": "code",
   "execution_count": 28,
   "id": "2763baf6",
   "metadata": {},
   "outputs": [
    {
     "name": "stdout",
     "output_type": "stream",
     "text": [
      "<html>\n",
      "\n",
      "<head>\n",
      "<meta http-equiv=\"Content-Language\" content=\"en-us\">\n",
      "<meta http-equiv=\"Content-Type\" content=\"text/html; charset=windows-1252\">\n",
      "<meta name=\"GENERATOR\" content=\"Microsoft FrontPage 4.0\">\n",
      "<meta name=\"ProgId\" content=\"FrontPage.Editor.Document\">\n",
      "<title>Does Your Computer Need an Oil Change</title>\n",
      "</head>\n",
      "\n",
      "<body>\n",
      "\n",
      "<table border=\"0\" width=\"538\" height=\"1\">\n",
      "  <tr>\n",
      "    <td width=\"538\" height=\"1\" align=\"center\" bgcolor=\"#000000\"><b><font face=\"Century Gothic\" size=\"5\" color=\"#FFFFFF\">Does Your Computer Need an Oil\n",
      "      Change?</font></b></td>\n",
      "  </tr>\n",
      "</table>\n",
      "<table border=\"0\" width=\"538\" height=\"151\">\n",
      "  <tr>\n",
      "    <td width=\"530\" height=\"145\"><b><font face=\"Tahoma\" size=\"5\">Norton</font><font color=\"#006600\" face=\"Verdana\" size=\"7\"><br></font><i><font face=\"Verdana\" color=\"#CC0000\" size=\"7\">SystemWorks\n",
      "      2002</font></i><font size=\"4\" face=\"Verdana\"><br> </font><font face=\"Tahoma\" size=\"5\">Professional\n",
      "      Edition</font> </b></td>\n",
      "  </tr>\n",
      "</table>\n",
      "<table border=\"0\" width=\" ...\n"
     ]
    }
   ],
   "source": [
    "# Testing using HTML spam email\n",
    "html_spam = [email for email in X_train[y_train==1] if get_email_structure(email)==\"text/html\"]\n",
    "sample_html_spam = html_spam[100]\n",
    "print(sample_html_spam.get_content().strip()[:1000], \"...\")"
   ]
  },
  {
   "cell_type": "code",
   "execution_count": 29,
   "id": "df95fb36",
   "metadata": {},
   "outputs": [
    {
     "name": "stdout",
     "output_type": "stream",
     "text": [
      "\n",
      "    Does Your Computer Need an Oil\n",
      "      Change?\n",
      "    NortonSystemWorks\n",
      "      2002 Professional\n",
      "      Edition\n",
      "    Made\n",
      "      by the Creators of the #1 Anti-Virus Software on the Market!\n",
      "    This\n",
      "      UNBEATABLE software suite comes with  EVERY\n",
      "      program you'll  ever need to answer the problems or threats that your\n",
      "      computer faces each day of it's Life!Included in this magnificent deal\n",
      "      are the following programs:\n",
      "    Norton\n",
      "      AntiVirusÿFFFF99 2002 - THE #1\n",
      "      ANTI-VIRUS PROTECION EVER!Norton UtilitiesÿFFFF99 2002\n",
      "      - DIAGNOSE ANY PROBLEM WITH YOUR\n",
      "      SYSTEM!\n",
      "      Norton GhostÿFFFF99 2002 - MAKES\n",
      "      BACKING UP YOUR VALUABLE DATA EASY!\n",
      "      Norton CleanSweepÿFFFF99 2002 - CLEANS\n",
      "      OUT EXCESS INTERNET FILE BUILDUP!\n",
      "      Norton WinFaxÿFFFF99 Basic - TURNS YOUR\n",
      "      CPU INTO A FAX MACHINE!\n",
      "      GoBackÿFFFFAE 3 Personal - HELPS\n",
      "      PREVENT YOU FROM MAKING ANY MISTAKES!\n",
      "    *ALL\n",
      "      this has a retail price of $99.95*  Get it\n",
      "      Now for ONLY $29. ...\n"
     ]
    }
   ],
   "source": [
    "# The resulting plain text\n",
    "print(html_to_plain_text(sample_html_spam.get_content())[:1000], \"...\")"
   ]
  },
  {
   "cell_type": "code",
   "execution_count": null,
   "id": "782dcee7",
   "metadata": {},
   "outputs": [],
   "source": []
  }
 ],
 "metadata": {
  "kernelspec": {
   "display_name": "Python 3 (ipykernel)",
   "language": "python",
   "name": "python3"
  },
  "language_info": {
   "codemirror_mode": {
    "name": "ipython",
    "version": 3
   },
   "file_extension": ".py",
   "mimetype": "text/x-python",
   "name": "python",
   "nbconvert_exporter": "python",
   "pygments_lexer": "ipython3",
   "version": "3.10.9"
  }
 },
 "nbformat": 4,
 "nbformat_minor": 5
}
