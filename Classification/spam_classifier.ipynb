{
 "cells": [
  {
   "cell_type": "markdown",
   "id": "da9e9552",
   "metadata": {},
   "source": [
    "# Spam Classifier"
   ]
  },
  {
   "cell_type": "markdown",
   "id": "f2b435e6",
   "metadata": {},
   "source": [
    "## About Dataset "
   ]
  },
  {
   "cell_type": "markdown",
   "id": "0a4a2357",
   "metadata": {},
   "source": [
    "Build spam classifier using dataset from [Apache SpamAssassin's public datasets](https://spamassassin.apache.org/old/publiccorpus/). Two datasets are used, namely \"20030228_easy_ham.tar.bz2\" and \"20030228_spam.tar.bz2\"."
   ]
  },
  {
   "cell_type": "code",
   "execution_count": 12,
   "id": "3c6183d6",
   "metadata": {},
   "outputs": [],
   "source": [
    "import tarfile, os\n",
    "\n",
    "spam_path = \"spam_dataset\"\n",
    "ham_tar = tarfile.open(\"20030228_easy_ham.tar.bz2\", \"r:bz2\")  \n",
    "ham_tar.extractall(path=spam_path)\n",
    "ham_filenames = [name for name in sorted(os.listdir(os.path.join(spam_path, \"easy_ham\"))) if len(name) > 20]\n",
    "ham_tar.close()\n",
    "spam_tar = tarfile.open(\"20030228_spam.tar.bz2\", \"r:bz2\")  \n",
    "spam_tar.extractall(path=spam_path)\n",
    "spam_filenames = [name for name in sorted(os.listdir(os.path.join(spam_path, \"spam\"))) if len(name) > 20]\n",
    "spam_tar.close()"
   ]
  },
  {
   "cell_type": "code",
   "execution_count": 13,
   "id": "8debbe2a",
   "metadata": {},
   "outputs": [
    {
     "data": {
      "text/plain": [
       "2500"
      ]
     },
     "execution_count": 13,
     "metadata": {},
     "output_type": "execute_result"
    }
   ],
   "source": [
    "len(ham_filenames)"
   ]
  },
  {
   "cell_type": "code",
   "execution_count": 15,
   "id": "2845fcd3",
   "metadata": {},
   "outputs": [
    {
     "data": {
      "text/plain": [
       "500"
      ]
     },
     "execution_count": 15,
     "metadata": {},
     "output_type": "execute_result"
    }
   ],
   "source": [
    "len(spam_filenames)"
   ]
  },
  {
   "cell_type": "code",
   "execution_count": 16,
   "id": "ca1ac0bf",
   "metadata": {},
   "outputs": [],
   "source": [
    "# Use `email` module from python to parse these emails.\n",
    "import email\n",
    "import email.policy\n",
    "\n",
    "def load_email(is_spam, filename, spam_path=spam_path):\n",
    "    directory = \"spam\" if is_spam else \"easy_ham\"\n",
    "    with open(os.path.join(spam_path, directory, filename), \"rb\") as file:\n",
    "        return email.parser.BytesParser(policy=email.policy.default).parse(file)"
   ]
  },
  {
   "cell_type": "code",
   "execution_count": 18,
   "id": "2e0fd789",
   "metadata": {},
   "outputs": [],
   "source": [
    "ham_emails = [load_email(is_spam=False, filename=name) for name in ham_filenames]\n",
    "spam_emails = [load_email(is_spam=True, filename=name) for name in spam_filenames]"
   ]
  },
  {
   "cell_type": "code",
   "execution_count": 27,
   "id": "4cbd7503",
   "metadata": {},
   "outputs": [
    {
     "name": "stdout",
     "output_type": "stream",
     "text": [
      "> I just had to jump in here as Carbonara is one of my favourites to make and \n",
      "> ask \n",
      "> what the hell are you supposed to use instead of cream? \n",
      "\n",
      "Isn't it just basically a mixture of beaten egg and bacon (or pancetta, \n",
      "really)? You mix in the raw egg to the cooked pasta and the heat of the pasta \n",
      "cooks the egg. That's my understanding.\n",
      "\n",
      "Martin\n",
      "\n",
      "------------------------ Yahoo! Groups Sponsor ---------------------~-->\n",
      "4 DVDs Free +s&p Join Now\n",
      "http://us.click.yahoo.com/pt6YBB/NXiEAA/mG3HAA/7gSolB/TM\n",
      "---------------------------------------------------------------------~->\n",
      "\n",
      "To unsubscribe from this group, send an email to:\n",
      "forteana-unsubscribe@egroups.com\n",
      "\n",
      " \n",
      "\n",
      "Your use of Yahoo! Groups is subject to http://docs.yahoo.com/info/terms/\n"
     ]
    }
   ],
   "source": [
    "# Look at an example of ham emails\n",
    "print(ham_emails[5].get_content().strip())"
   ]
  },
  {
   "cell_type": "code",
   "execution_count": 26,
   "id": "210d2fc0",
   "metadata": {},
   "outputs": [
    {
     "name": "stdout",
     "output_type": "stream",
     "text": [
      "A POWERHOUSE GIFTING PROGRAM You Don't Want To Miss! \n",
      " \n",
      "  GET IN WITH THE FOUNDERS! \n",
      "The MAJOR PLAYERS are on This ONE\n",
      "For ONCE be where the PlayerS are\n",
      "This is YOUR Private Invitation\n",
      "\n",
      "EXPERTS ARE CALLING THIS THE FASTEST WAY \n",
      "TO HUGE CASH FLOW EVER CONCEIVED\n",
      "Leverage $1,000 into $50,000 Over and Over Again\n",
      "\n",
      "THE QUESTION HERE IS:\n",
      "YOU EITHER WANT TO BE WEALTHY \n",
      "OR YOU DON'T!!!\n",
      "WHICH ONE ARE YOU?\n",
      "I am tossing you a financial lifeline and for your sake I \n",
      "Hope you GRAB onto it and hold on tight For the Ride of youR life!\n",
      "\n",
      "Testimonials\n",
      "\n",
      "Hear what average people are doing their first few days:\n",
      "�We've received 8,000 in 1 day and we are doing that over and over again!' Q.S. in AL\n",
      " �I'm a single mother in FL and I've received 12,000 in the last 4 days.� D. S. in FL\n",
      "�I was not sure about this when I sent off my $1,000 pledge, but I got back $2,000 the very next day!� L.L. in KY\n",
      "�I didn't have the money, so I found myself a partner to work this with. We have received $4,000 over the last 2 days. \n",
      "I think I made the right decision; don't you?� K. C. in FL\n",
      "�I pick up $3,000 my first day and I  they gave me free leads and all the training, you can too!� J.W. in CA\n",
      "\n",
      "ANNOUNCING: We will CLOSE your sales for YOU! And Help you get a Fax Blast IMMEDIATELY Upon Your Entry!!!    YOU Make the MONEY!!!\n",
      "FREE LEADS!!! TRAINING!!!\n",
      "\n",
      "$$DON'T WAIT!!! CALL NOW $$\n",
      "FAX BACK TO: 1-800-421-6318 OR Call 1-800-896-6568 \n",
      "\n",
      "Name__________________________________Phone___________________________________________\n",
      "\n",
      "Fax_____________________________________Email____________________________________________\n",
      "\n",
      "Best Time To Call_________________________Time Zone________________________________________\n",
      "\n",
      "This message is sent in compliance of the new e-mail bill. \"Per Section 301, Paragraph (a)(2)(C) of S. 1618, further transmissions by the sender of this email may be stopped, at no cost to you, by sending a reply to this email address with the word \"REMOVE\" in the subject line. Errors, omissions, and exceptions excluded.\n",
      " \n",
      "This is NOT spam! I have compiled this list from our Replicate Database, relative to Seattle Marketing Group, The Gigt, or Turbo Team for the sole purpose of these communications. Your continued inclusion is ONLY by your gracious permission. If you wish to not receive this mail from me, please send an email to tesrewinter@yahoo.com with \"Remove\" in the subject and you will be deleted immediately.\n"
     ]
    }
   ],
   "source": [
    "# Look at an example of spam emails\n",
    "print(spam_emails[5].get_content().strip())"
   ]
  },
  {
   "cell_type": "code",
   "execution_count": null,
   "id": "eb3fa3f8",
   "metadata": {},
   "outputs": [],
   "source": []
  }
 ],
 "metadata": {
  "kernelspec": {
   "display_name": "Python 3 (ipykernel)",
   "language": "python",
   "name": "python3"
  },
  "language_info": {
   "codemirror_mode": {
    "name": "ipython",
    "version": 3
   },
   "file_extension": ".py",
   "mimetype": "text/x-python",
   "name": "python",
   "nbconvert_exporter": "python",
   "pygments_lexer": "ipython3",
   "version": "3.10.9"
  }
 },
 "nbformat": 4,
 "nbformat_minor": 5
}
